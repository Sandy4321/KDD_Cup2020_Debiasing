{
 "cells": [
  {
   "cell_type": "code",
   "execution_count": 1,
   "metadata": {},
   "outputs": [
    {
     "name": "stdout",
     "output_type": "stream",
     "text": [
      "have not glove\n",
      "have not glove\n"
     ]
    },
    {
     "name": "stderr",
     "output_type": "stream",
     "text": [
      "/home/zhu/anaconda3/lib/python3.7/site-packages/sklearn/ensemble/weight_boosting.py:29: DeprecationWarning: numpy.core.umath_tests is an internal NumPy module and should not be imported. It will be removed in a future NumPy release.\n",
      "  from numpy.core.umath_tests import inner1d\n"
     ]
    }
   ],
   "source": [
    "import numpy as np\n",
    "import pandas as pd\n",
    "import warnings\n",
    "warnings.filterwarnings(\"ignore\")\n",
    "import matplotlib.pyplot as plt\n",
    "import time\n",
    "\n",
    "from tqdm import tqdm\n",
    "from collections import Counter\n",
    "from multiprocessing import Pool, cpu_count\n",
    "# 代码运行耗时查看器\n",
    "from line_profiler import LineProfiler\n",
    "from sklearn.cluster import KMeans\n",
    "\n",
    "from recall import topk_recall_association_rules_qyxs_icf\n",
    "from process import load_click_data, data_generate, item_cluster_feat, user_cluster_feat, \\\n",
    "                     matrix_word2vec_embedding, embedding_fea_pca, get_train_test_data, \\\n",
    "                     Pool_feature_concat, phase_submit_save, add_time_statistics, \\\n",
    "                     add_user_statistics, add_item_statistics, load_pool_feature, \\\n",
    "                     remove_pool_feature\n",
    "from model import train_model_lgb\n",
    "from metric import metrics_recall \n",
    "\n",
    "train_path = '../data/underexpose_train'  \n",
    "test_path = '../data/underexpose_test'"
   ]
  },
  {
   "cell_type": "markdown",
   "metadata": {},
   "source": [
    "# 内容\n",
    "\n",
    "- item\\user的embedding特征做了聚类的类别特征，类别的统计特征\n",
    "- item\\user的交互embedding的pca\n",
    "- Pool多进程内存问题策略做了调整，做了临时缓存"
   ]
  },
  {
   "cell_type": "code",
   "execution_count": 2,
   "metadata": {},
   "outputs": [
    {
     "data": {
      "text/plain": [
       "numpy.float32"
      ]
     },
     "execution_count": 2,
     "metadata": {},
     "output_type": "execute_result"
    }
   ],
   "source": [
    "# train\n",
    "phase_append = False\n",
    "flag_test = False\n",
    "recall_num = 700\n",
    "topk = 50\n",
    "# 构造特征时取用户最近点击项目数\n",
    "click_topn=5\n",
    "# pca成分数量\n",
    "pca_n_components=5\n",
    "# 项目聚类数\n",
    "item_n_clusters=7\n",
    "# 用户聚类数\n",
    "user_n_clusters=7\n",
    "nrows = None \n",
    "# embedding特征与召回数据已有，直接取为True\n",
    "embedding_feat_read = False\n",
    "topk_recall_read = False\n",
    "# 进程处理中数据划分份数或者任务数量\n",
    "batchs_n = 4\n",
    "# 进程中open的cpu核数\n",
    "open_cpu_n = 5\n",
    "\n",
    "\n",
    "\n",
    "# test\n",
    "# phase_append = False\n",
    "# flag_test = True\n",
    "# recall_num = 50\n",
    "# topk = 50\n",
    "# nrows = 1000\n",
    "\n",
    "# txt与img余弦相似度字典\n",
    "txt_cosine_similarity_dict = np.load('../data/process/txt_cosine_similarity_dict.npy', allow_pickle=True).item()\n",
    "img_cosine_similarity_dict = np.load('../data/process/img_cosine_similarity_dict.npy', allow_pickle=True).item()\n",
    "type(txt_cosine_similarity_dict['42844']['67898'])"
   ]
  },
  {
   "cell_type": "code",
   "execution_count": null,
   "metadata": {},
   "outputs": [],
   "source": []
  },
  {
   "cell_type": "code",
   "execution_count": 3,
   "metadata": {},
   "outputs": [
    {
     "name": "stdout",
     "output_type": "stream",
     "text": [
      "phase: 7\n",
      "================================== 加载click数据 ==================================\n",
      "================================== 生成中间数据 ==================================\n",
      "==================================== 召回 ====================================\n"
     ]
    },
    {
     "name": "stderr",
     "output_type": "stream",
     "text": [
      "32it [00:00, 313.38it/s]"
     ]
    },
    {
     "name": "stdout",
     "output_type": "stream",
     "text": [
      "------- association rules matrix 生成 ---------\n"
     ]
    },
    {
     "name": "stderr",
     "output_type": "stream",
     "text": [
      "19801it [01:16, 259.85it/s]\n",
      "14it [00:00, 131.00it/s]"
     ]
    },
    {
     "name": "stdout",
     "output_type": "stream",
     "text": [
      "------- association rules 召回 ---------\n"
     ]
    },
    {
     "name": "stderr",
     "output_type": "stream",
     "text": [
      "19801it [03:12, 96.56it/s] \n"
     ]
    },
    {
     "name": "stdout",
     "output_type": "stream",
     "text": [
      "-------- 评测召回效果 -------------\n",
      "-------- 召回效果 -------------\n",
      "--------:phase:  7  -------------\n",
      "phase:  7  top_ 0  :  hit_num :  305 hit_rate :  0.01694067984892246  data_num :  18004\n",
      "\n",
      "phase:  7  top_ 70  :  hit_num :  2325 hit_rate :  0.12913796934014662  data_num :  18004\n",
      "\n",
      "phase:  7  top_ 140  :  hit_num :  2891 hit_rate :  0.16057542768273717  data_num :  18004\n",
      "\n",
      "phase:  7  top_ 210  :  hit_num :  3190 hit_rate :  0.17718284825594313  data_num :  18004\n",
      "\n",
      "phase:  7  top_ 280  :  hit_num :  3389 hit_rate :  0.1882359475672073  data_num :  18004\n",
      "\n",
      "phase:  7  top_ 350  :  hit_num :  3552 hit_rate :  0.19728949122417241  data_num :  18004\n",
      "\n",
      "phase:  7  top_ 420  :  hit_num :  3694 hit_rate :  0.20517662741612974  data_num :  18004\n",
      "\n",
      "phase:  7  top_ 490  :  hit_num :  3807 hit_rate :  0.21145301044212397  data_num :  18004\n",
      "\n",
      "phase:  7  top_ 560  :  hit_num :  3928 hit_rate :  0.21817373916907354  data_num :  18004\n",
      "\n",
      "phase:  7  top_ 630  :  hit_num :  4040 hit_rate :  0.22439457898244836  data_num :  18004\n",
      "\n",
      "phase:  7  top_ 700  :  hit_num :  4143 hit_rate :  0.2301155298822484  data_num :  18004\n",
      "\n",
      "召回TOP:700时, 命中百分比:0.2301155298822484\n",
      "==================================== 排序 ====================================\n",
      "-------- 构建特征 ---------\n",
      "-------- sku1 sku2 sku3 sku4 sku5 user ----------\n",
      "------- user1 user2 user3 user4 user5 sku -------\n",
      "------- item1 item2 item3 item4 item5 -------\n",
      "------- user1 user2 user3 user4 user5 -------\n",
      "------- Interactive Embedding Feature PCA -----------\n",
      "------- 降成5维后的方差百分比:  [0.08402661 0.07468543 0.06455563 0.05258227 0.04988759]\n",
      "------- 降成5维后的方差百分比:  [0.06494892 0.05707931 0.05137124 0.04306203 0.04185906]\n",
      "------- 降成5维后的方差百分比:  [0.06444061 0.05844884 0.05337453 0.04439698 0.04171895]\n",
      "------- 降成5维后的方差百分比:  [0.10115011 0.08490292 0.0685367  0.06526636 0.05200959]\n",
      "dict_embedding_all_ui_user是否降维成功........ 5\n",
      "------- user or item Embedding Feature Cluster -----------\n",
      "------- 特征加工 -----------\n",
      "..............topk_recall shape: (13860700, 5)\n",
      "------- 构建样本 -----------\n",
      "............... train len= 756000\n",
      "............... test  len= 316400\n",
      "----------- 加入特征 train -----------\n"
     ]
    },
    {
     "name": "stderr",
     "output_type": "stream",
     "text": [
      "23249it [00:29, 797.42it/s]"
     ]
    },
    {
     "name": "stdout",
     "output_type": "stream",
     "text": [
      "------- 构建样本 -----------\n"
     ]
    },
    {
     "name": "stderr",
     "output_type": "stream",
     "text": [
      "26312it [00:33, 796.25it/s]"
     ]
    },
    {
     "name": "stdout",
     "output_type": "stream",
     "text": [
      "............... train len= 723275\n",
      "............... test  len= 310100\n"
     ]
    },
    {
     "name": "stderr",
     "output_type": "stream",
     "text": [
      "26635it [00:33, 799.96it/s]"
     ]
    },
    {
     "name": "stdout",
     "output_type": "stream",
     "text": [
      "----------- 加入特征 train -----------\n"
     ]
    },
    {
     "name": "stderr",
     "output_type": "stream",
     "text": [
      "23070it [00:29, 795.31it/s]"
     ]
    },
    {
     "name": "stdout",
     "output_type": "stream",
     "text": [
      "------- 构建样本 -----------\n"
     ]
    },
    {
     "name": "stderr",
     "output_type": "stream",
     "text": [
      "53079it [01:07, 731.87it/s]"
     ]
    },
    {
     "name": "stdout",
     "output_type": "stream",
     "text": [
      "............... train len= 667800\n",
      "............... test  len= 321300\n"
     ]
    },
    {
     "name": "stderr",
     "output_type": "stream",
     "text": [
      "53399it [01:07, 777.71it/s]"
     ]
    },
    {
     "name": "stdout",
     "output_type": "stream",
     "text": [
      "----------- 加入特征 train -----------\n"
     ]
    },
    {
     "name": "stderr",
     "output_type": "stream",
     "text": [
      "21294it [00:28, 776.00it/s]"
     ]
    },
    {
     "name": "stdout",
     "output_type": "stream",
     "text": [
      "------- 构建样本 -----------\n"
     ]
    },
    {
     "name": "stderr",
     "output_type": "stream",
     "text": [
      "78207it [01:40, 746.74it/s]"
     ]
    },
    {
     "name": "stdout",
     "output_type": "stream",
     "text": [
      "............... train len= 752500\n",
      "............... test  len= 310100\n"
     ]
    },
    {
     "name": "stderr",
     "output_type": "stream",
     "text": [
      "78527it [01:40, 784.89it/s]"
     ]
    },
    {
     "name": "stdout",
     "output_type": "stream",
     "text": [
      "----------- 加入特征 train -----------\n"
     ]
    },
    {
     "name": "stderr",
     "output_type": "stream",
     "text": [
      "667800it [15:16, 728.80it/s]\n",
      "712780it [16:09, 712.01it/s]"
     ]
    },
    {
     "name": "stdout",
     "output_type": "stream",
     "text": [
      "----------- 加入特征 test -----------\n"
     ]
    },
    {
     "name": "stderr",
     "output_type": "stream",
     "text": [
      "723275it [16:24, 734.84it/s]\n",
      "756000it [17:03, 738.74it/s]\n",
      "26447it [00:35, 780.46it/s]]"
     ]
    },
    {
     "name": "stdout",
     "output_type": "stream",
     "text": [
      "----------- 加入特征 test -----------\n"
     ]
    },
    {
     "name": "stderr",
     "output_type": "stream",
     "text": [
      "4971it [00:07, 753.58it/s]]]"
     ]
    },
    {
     "name": "stdout",
     "output_type": "stream",
     "text": [
      "----------- 加入特征 test -----------\n"
     ]
    },
    {
     "name": "stderr",
     "output_type": "stream",
     "text": [
      "752500it [17:10, 730.13it/s]\n",
      "80597it [01:47, 760.67it/s]]"
     ]
    },
    {
     "name": "stdout",
     "output_type": "stream",
     "text": [
      "----------- 加入特征 test -----------\n"
     ]
    },
    {
     "name": "stderr",
     "output_type": "stream",
     "text": [
      "321300it [07:17, 733.88it/s]\n",
      "310100it [07:02, 733.42it/s]\n",
      "316400it [07:09, 737.53it/s]\n",
      "310100it [06:57, 743.20it/s]\n"
     ]
    },
    {
     "name": "stdout",
     "output_type": "stream",
     "text": [
      "进程结束\n",
      "分片特征数据拼接\n",
      "Removed all files of '../cache/pool_feature_part_phase7...'\n",
      "feature_all的列:  Index(['similarity_d1', 'similarity_d2', 'score_similar', 'dim1_user_0',\n",
      "       'dim1_user_1', 'dim1_user_2', 'dim1_user_3', 'dim1_user_4',\n",
      "       'dim1_item_0', 'dim1_item_1', 'dim1_item_2', 'dim1_item_3',\n",
      "       'dim1_item_4', 'dim2_user_0', 'dim2_user_1', 'dim2_user_2',\n",
      "       'dim2_user_3', 'dim2_user_4', 'dim2_item_0', 'dim2_item_1',\n",
      "       'dim2_item_2', 'dim2_item_3', 'dim2_item_4', 'clicked_item_0',\n",
      "       'clicked_item_0_cnt', 'clicked_item_0_to_item_0_score',\n",
      "       'item_0_to_clicked_item_0_txt_cosine_sim',\n",
      "       'item_0_to_clicked_item_0_img_cosine_sim',\n",
      "       'clicked_item_0_item_cluster', 'clicked_item_0_item_cluster_cnt',\n",
      "       'clicked_item_0_item_cluster_user_cnt',\n",
      "       'clicked_item_0_item_cluster_item_cnt', 'clicked_item_1',\n",
      "       'clicked_item_1_cnt', 'clicked_item_1_to_item_1_score',\n",
      "       'item_1_to_clicked_item_1_txt_cosine_sim',\n",
      "       'item_1_to_clicked_item_1_img_cosine_sim',\n",
      "       'clicked_item_1_item_cluster', 'clicked_item_1_item_cluster_cnt',\n",
      "       'clicked_item_1_item_cluster_user_cnt',\n",
      "       'clicked_item_1_item_cluster_item_cnt', 'clicked_item_2',\n",
      "       'clicked_item_2_cnt', 'clicked_item_2_to_item_2_score',\n",
      "       'item_2_to_clicked_item_2_txt_cosine_sim',\n",
      "       'item_2_to_clicked_item_2_img_cosine_sim',\n",
      "       'clicked_item_2_item_cluster', 'clicked_item_2_item_cluster_cnt',\n",
      "       'clicked_item_2_item_cluster_user_cnt',\n",
      "       'clicked_item_2_item_cluster_item_cnt', 'clicked_item_3',\n",
      "       'clicked_item_3_cnt', 'clicked_item_3_to_item_3_score',\n",
      "       'item_3_to_clicked_item_3_txt_cosine_sim',\n",
      "       'item_3_to_clicked_item_3_img_cosine_sim',\n",
      "       'clicked_item_3_item_cluster', 'clicked_item_3_item_cluster_cnt',\n",
      "       'clicked_item_3_item_cluster_user_cnt',\n",
      "       'clicked_item_3_item_cluster_item_cnt', 'clicked_item_4',\n",
      "       'clicked_item_4_cnt', 'clicked_item_4_to_item_4_score',\n",
      "       'item_4_to_clicked_item_4_txt_cosine_sim',\n",
      "       'item_4_to_clicked_item_4_img_cosine_sim',\n",
      "       'clicked_item_4_item_cluster', 'clicked_item_4_item_cluster_cnt',\n",
      "       'clicked_item_4_item_cluster_user_cnt',\n",
      "       'clicked_item_4_item_cluster_item_cnt', 'train_flag', 'user_id',\n",
      "       'item_similar', 'label', 'user_click_item_num', 'time_max_min_minus',\n",
      "       'time_diff_mean', 'time_mean', 'time_std', 'time_max', 'time_min',\n",
      "       'user_cluster', 'user_cluster_cnt', 'user_cluster_user_cnt',\n",
      "       'user_cluster_item_cnt', 'item_cluster', 'item_cluster_cnt',\n",
      "       'item_cluster_user_cnt', 'item_cluster_item_cnt'],\n",
      "      dtype='object')\n",
      "--------------------------- 特征数据 ---------------------\n",
      "所有数据条数 4157475\n",
      "训练数据 :  2899575\n",
      "训练数据 label 1 :  4143\n",
      "训练数据 1 / 0 rate :  0.0009965183194126242\n",
      "测试数据 :  1257900\n",
      "flag :  {'train', 'test'}\n",
      "--------------------------- 训练模型 ---------------------\n",
      "Training until validation scores don't improve for 500 rounds\n",
      "[50]\tvalid_0's ndcg@1: 0.982197\tvalid_0's ndcg@2: 0.987558\tvalid_0's ndcg@3: 0.988892\tvalid_0's ndcg@4: 0.989412\tvalid_0's ndcg@5: 0.989995\n",
      "[100]\tvalid_0's ndcg@1: 0.986723\tvalid_0's ndcg@2: 0.989916\tvalid_0's ndcg@3: 0.990856\tvalid_0's ndcg@4: 0.991246\tvalid_0's ndcg@5: 0.991479\n",
      "[150]\tvalid_0's ndcg@1: 0.98793\tvalid_0's ndcg@2: 0.990479\tvalid_0's ndcg@3: 0.991778\tvalid_0's ndcg@4: 0.992168\tvalid_0's ndcg@5: 0.992401\n",
      "[200]\tvalid_0's ndcg@1: 0.987326\tvalid_0's ndcg@2: 0.99033\tvalid_0's ndcg@3: 0.991571\tvalid_0's ndcg@4: 0.991961\tvalid_0's ndcg@5: 0.992077\n",
      "[250]\tvalid_0's ndcg@1: 0.987326\tvalid_0's ndcg@2: 0.990022\tvalid_0's ndcg@3: 0.991507\tvalid_0's ndcg@4: 0.991897\tvalid_0's ndcg@5: 0.992014\n",
      "[300]\tvalid_0's ndcg@1: 0.987326\tvalid_0's ndcg@2: 0.989832\tvalid_0's ndcg@3: 0.991467\tvalid_0's ndcg@4: 0.991987\tvalid_0's ndcg@5: 0.992104\n",
      "[350]\tvalid_0's ndcg@1: 0.987326\tvalid_0's ndcg@2: 0.989832\tvalid_0's ndcg@3: 0.991467\tvalid_0's ndcg@4: 0.991987\tvalid_0's ndcg@5: 0.992104\n",
      "[400]\tvalid_0's ndcg@1: 0.987326\tvalid_0's ndcg@2: 0.989832\tvalid_0's ndcg@3: 0.991467\tvalid_0's ndcg@4: 0.991857\tvalid_0's ndcg@5: 0.992091\n",
      "[450]\tvalid_0's ndcg@1: 0.987025\tvalid_0's ndcg@2: 0.98934\tvalid_0's ndcg@3: 0.991277\tvalid_0's ndcg@4: 0.991667\tvalid_0's ndcg@5: 0.9919\n",
      "[500]\tvalid_0's ndcg@1: 0.987326\tvalid_0's ndcg@2: 0.989451\tvalid_0's ndcg@3: 0.991238\tvalid_0's ndcg@4: 0.991627\tvalid_0's ndcg@5: 0.991861\n",
      "[550]\tvalid_0's ndcg@1: 0.987025\tvalid_0's ndcg@2: 0.98934\tvalid_0's ndcg@3: 0.991126\tvalid_0's ndcg@4: 0.991516\tvalid_0's ndcg@5: 0.99175\n",
      "[600]\tvalid_0's ndcg@1: 0.987025\tvalid_0's ndcg@2: 0.98915\tvalid_0's ndcg@3: 0.991087\tvalid_0's ndcg@4: 0.991477\tvalid_0's ndcg@5: 0.99171\n",
      "Early stopping, best iteration is:\n",
      "[143]\tvalid_0's ndcg@1: 0.988232\tvalid_0's ndcg@2: 0.99078\tvalid_0's ndcg@3: 0.991929\tvalid_0's ndcg@4: 0.992319\tvalid_0's ndcg@5: 0.992552\n",
      "------------- eval -------------\n",
      "------------- eval result -------------\n",
      "hitrate_50_full :  0.22983778029880572 ndcg_50_full :  478.8280388399174 \n",
      "\n",
      "hitrate_50_half :  0.06471565294214107 ndcg_50_half :  135.10157771846656 \n",
      "\n",
      "------------- eval result -------------\n",
      "------------- predict -------------\n",
      "------------- assert -------------\n",
      "LGBM的特征重要性...\n"
     ]
    },
    {
     "data": {
      "text/plain": [
       "<Figure size 1080x720 with 0 Axes>"
      ]
     },
     "metadata": {},
     "output_type": "display_data"
    },
    {
     "data": {
      "image/png": "[encoded data removed]",
      "text/plain": [
       "<Figure size 432x288 with 1 Axes>"
      ]
     },
     "metadata": {
      "needs_background": "light"
     },
     "output_type": "display_data"
    },
    {
     "name": "stdout",
     "output_type": "stream",
     "text": [
      "--------------------------- 保存预测文件 ---------------------\n"
     ]
    }
   ],
   "source": [
    "\n",
    "now_phase = 7\n",
    "\n",
    "\n",
    "for phase in range(now_phase, now_phase + 1):  \n",
    "    print('phase:', phase)\n",
    "    \"\"\"\n",
    "    train_test: 训练测试点击数据\n",
    "    item_hot_list: 项目热度list\n",
    "    dict_label_user_item: 训练点击中用户——最后一次点击项目字典\n",
    "    item_hot_dict: 项目热度字典\n",
    "    time_feat：用户点击时间特征\n",
    "    \n",
    "    \"\"\"\n",
    "    click_all, test_user_set = load_click_data(phase, nrows=nrows)\n",
    "    train_test, item_hot_list, dict_label_user_item, item_hot_dict, time_feat = data_generate(click_all, test_user_set)\n",
    "\n",
    "    \n",
    "    \n",
    "    print('==================================== 召回 ====================================')\n",
    "    \n",
    "    # TODO: 增加其它召回\n",
    "    if topk_recall_read:\n",
    "        topk_recall = pd.read_pickle('../data/recall/topk_recall_{phase}.pkl'.format(phase=phase))\n",
    "        matrix_association_rules = np.load('../data/recall/matrix_association_rules_{phase}.npy'.format(phase=phase), allow_pickle=True).item()\n",
    "\n",
    "    else:\n",
    "        topk_recall, matrix_association_rules = topk_recall_association_rules_qyxs_icf(\n",
    "                                                click_all=train_test,\n",
    "                                                dict_label=dict_label_user_item, \n",
    "                                                k=recall_num\n",
    "                                                )\n",
    "        topk_recall.to_pickle('../data/recall/topk_recall_{phase}.pkl'.format(phase=phase))\n",
    "        np.save('../data/recall/matrix_association_rules_{phase}.npy'.format(phase=phase), matrix_association_rules)\n",
    "\n",
    "\n",
    "    print('-------- 评测召回效果 -------------')\n",
    "    hit_rate = metrics_recall(topk_recall=topk_recall, phase=phase, k=recall_num, sep=int(recall_num/10))\n",
    "    print('召回TOP:{k}时, 命中百分比:{hit_rate}'.format(k=recall_num, hit_rate=hit_rate))\n",
    "\n",
    "    \n",
    "    \n",
    "    print('==================================== 排序 ====================================')\n",
    "    print('-------- 构建特征 ---------')\n",
    "    \n",
    "    dim, epochs, learning_rate = 30, 15, 0.1 # 由于内存问题，size改回30\n",
    "    if embedding_feat_read:\n",
    "        print('-------- sku1 sku2 sku3 sku4 sku5 user ----------')\n",
    "        dict_embedding_all_ui_item = np.load('../data/embedding/dict_embedding_all_ui_item_{phase}.npy'.format(phase=phase), \n",
    "                                             allow_pickle=True).item()\n",
    "        \n",
    "        print('------- user1 user2 user3 user4 user5 sku -------')\n",
    "        dict_embedding_all_ui_user = np.load('../data/embedding/dict_embedding_all_ui_user_{phase}.npy'.format(phase=phase), \n",
    "                                             allow_pickle=True).item()\n",
    "        \n",
    "        print('------- item1 item2 item3 item4 item5 -------')\n",
    "        dict_embedding_item_only = np.load('../data/embedding/dict_embedding_item_only_{phase}.npy'.format(phase=phase), \n",
    "                                           allow_pickle=True).item()\n",
    "        \n",
    "        print('------- user1 user2 user3 user4 user5 -------')\n",
    "        dict_embedding_user_only = np.load('../data/embedding/dict_embedding_user_only_{phase}.npy'.format(phase=phase), \n",
    "                                           allow_pickle=True).item()\n",
    "\n",
    "    else:\n",
    "        print('-------- sku1 sku2 sku3 sku4 sku5 user ----------')\n",
    "        dict_embedding_all_ui_item = matrix_word2vec_embedding(\n",
    "                                                                click_all=train_test,\n",
    "                                                                flag='item',\n",
    "                                                                mode='all',\n",
    "                                                                dim=dim,\n",
    "                                                                epochs=epochs,\n",
    "                                                                learning_rate=learning_rate\n",
    "                                                                )\n",
    "        np.save('../data/embedding/dict_embedding_all_ui_item_{phase}.npy'.format(phase=phase),\n",
    "               dict_embedding_all_ui_item)\n",
    "\n",
    "\n",
    "        print('------- user1 user2 user3 user4 user5 sku -------')\n",
    "        dict_embedding_all_ui_user = matrix_word2vec_embedding(\n",
    "                                                                click_all=train_test,\n",
    "                                                                flag='user',\n",
    "                                                                mode='all',\n",
    "                                                                dim=dim,\n",
    "                                                                epochs=epochs,\n",
    "                                                                learning_rate=learning_rate\n",
    "                                                                )\n",
    "        np.save('../data/embedding/dict_embedding_all_ui_user_{phase}.npy'.format(phase=phase),\n",
    "               dict_embedding_all_ui_user)\n",
    "\n",
    "\n",
    "        print('------- item1 item2 item3 item4 item5 -------')\n",
    "        dict_embedding_item_only = matrix_word2vec_embedding(\n",
    "                                                                click_all=train_test,\n",
    "                                                                flag='item',\n",
    "                                                                mode='only',\n",
    "                                                                dim=dim,\n",
    "                                                                epochs=epochs,\n",
    "                                                                learning_rate=learning_rate\n",
    "                                                                )\n",
    "        np.save('../data/embedding/dict_embedding_item_only_{phase}.npy'.format(phase=phase),\n",
    "               dict_embedding_item_only)\n",
    "\n",
    "\n",
    "        print('------- user1 user2 user3 user4 user5 -------')\n",
    "        dict_embedding_user_only = matrix_word2vec_embedding(\n",
    "                                                                click_all=train_test,\n",
    "                                                                flag='user',\n",
    "                                                                mode='only',\n",
    "                                                                dim=dim,\n",
    "                                                                epochs=epochs,\n",
    "                                                                learning_rate=learning_rate\n",
    "                                                                )\n",
    "        np.save('../data/embedding/dict_embedding_user_only_{phase}.npy'.format(phase=phase),\n",
    "               dict_embedding_user_only)\n",
    "\n",
    "        \n",
    "    \n",
    "    print('------- Interactive Embedding Feature PCA -----------')\n",
    "\n",
    "    # dict_embedding_all_ui_item PCA\n",
    "    dict_embedding = dict_embedding_all_ui_item.copy()\n",
    "    dict_embedding_all_ui_item = {}\n",
    "    for i in ['user', 'item']:\n",
    "        tmp = pd.DataFrame(dict_embedding[i])\n",
    "        pca_ = embedding_fea_pca(tmp.T, n_components=pca_n_components) # 解释\n",
    "        tmp_pca = pd.DataFrame(pca_.T)\n",
    "        tmp_pca.columns = tmp.columns\n",
    "        dict_embedding_all_ui_item[i] = dict(tmp_pca)\n",
    "    \n",
    "    \n",
    "    # dict_embedding_all_ui_user PCA\n",
    "    dict_embedding = dict_embedding_all_ui_user.copy()\n",
    "    dict_embedding_all_ui_user = {}\n",
    "    for i in ['user', 'item']:\n",
    "        tmp = pd.DataFrame(dict_embedding[i])\n",
    "        pca_ = embedding_fea_pca(tmp.T, n_components=pca_n_components) # 解释\n",
    "        tmp_pca = pd.DataFrame(pca_.T)\n",
    "        tmp_pca.columns = tmp.columns\n",
    "        dict_embedding_all_ui_user[i] = dict(tmp_pca)\n",
    "    print('dict_embedding_all_ui_user是否降维成功........', len(dict_embedding_all_ui_user['user']['1']))    \n",
    "    del tmp, tmp_pca\n",
    "\n",
    "    \n",
    "    \n",
    "    print('------- user or item Embedding Feature Cluster -----------')\n",
    "\n",
    "    # dict_embedding_item_only聚类\n",
    "    item = pd.DataFrame(dict_embedding_item_only['item'])\n",
    "    km_cluster = KMeans(n_clusters=item_n_clusters, max_iter=300, n_init=40, \\\n",
    "                        init='k-means++') #, n_jobs=-1)\n",
    "    # 返回类索引\n",
    "    result = km_cluster.fit_predict(item.T)\n",
    "    item_cluster = pd.DataFrame({'item_id': item.columns, 'item_cluster': np.int16(result)})\n",
    "    del item, km_cluster, result, dict_embedding_item_only\n",
    "    \n",
    "    # dict_embedding_user_only聚类\n",
    "    user = pd.DataFrame(dict_embedding_user_only['user'])\n",
    "    km_cluster = KMeans(n_clusters=user_n_clusters, max_iter=300, n_init=40, \\\n",
    "                        init='k-means++') #, n_jobs=-1)\n",
    "    # 返回类索引\n",
    "    result = km_cluster.fit_predict(user.T)\n",
    "    user_cluster = pd.DataFrame({'user_id': user.columns, 'user_cluster': np.int16(result)})\n",
    "    del user, km_cluster, result, dict_embedding_user_only\n",
    "    \n",
    "    \n",
    "    # 加载聚类的统计特征\n",
    "    user_cluster_feat_ = user_cluster_feat(click_all, user_cluster)\n",
    "    item_cluster_feat_ = item_cluster_feat(click_all, item_cluster)\n",
    "\n",
    "    del click_all, user_cluster, item_cluster\n",
    "    \n",
    "    \n",
    "    print('------- 特征加工 -----------')\n",
    "\n",
    "    print('..............topk_recall shape:', topk_recall.shape)\n",
    "\n",
    "    \n",
    "#     feature_all = get_train_test_data(topk_recall,\n",
    "#                   matrix_association_rules, \n",
    "#                   time_feat,\n",
    "#                   user_cluster_feat_,\n",
    "#                   item_cluster_feat_,\n",
    "#                   item_hot_dict,\n",
    "#                   txt_cosine_similarity_dict,\n",
    "#                   img_cosine_similarity_dict,\n",
    "#                   dict_embedding_all_ui_item,\n",
    "#                   dict_embedding_all_ui_user,\n",
    "#                   flag_test,\n",
    "#                   click_topn)\n",
    "\n",
    "\n",
    "#     lprofiler = LineProfiler(get_train_test_data)\n",
    "#     lprofiler.run('get_train_test_data( topk_recall[:80000], matrix_association_rules, time_feat, user_cluster_feat_, item_cluster_feat_, item_hot_dict, txt_cosine_similarity_dict, img_cosine_similarity_dict, dict_embedding_all_ui_item, dict_embedding_all_ui_user, flag_test=False, click_topn=click_topn)')\n",
    "#     lprofiler.print_stats()\n",
    "\n",
    "\n",
    "    # 多进程构建特征\n",
    "    # 函数get_train_test_data内部已保存结果\n",
    "    if __name__=='__main__':\n",
    "        cpu_num = cpu_count()\n",
    "        \n",
    "        pool = Pool(open_cpu_n+1) # 创建一个多个进程的进程池\n",
    "        # 将topk_recall分batchs_n批次，并不是越大越好，启动进程也是需时间的\n",
    "        batch_size = topk_recall.shape[0]//(batchs_n)\n",
    "        \n",
    "        for batch in range(batchs_n):\n",
    "            start_index = batch * batch_size\n",
    "            if batch==cpu_num:\n",
    "                end_index = topk_recall.shape[0]\n",
    "            else:\n",
    "                end_index = (1+batch) * batch_size\n",
    "            p = pool.apply_async(func=get_train_test_data, \n",
    "                                                 args=(topk_recall[start_index:end_index],\n",
    "                                                       matrix_association_rules, \n",
    "                                                       time_feat,\n",
    "                                                       user_cluster_feat_,\n",
    "                                                       item_cluster_feat_,\n",
    "                                                       item_hot_dict,\n",
    "                                                       txt_cosine_similarity_dict,\n",
    "                                                       img_cosine_similarity_dict,\n",
    "                                                       dict_embedding_all_ui_item,\n",
    "                                                       dict_embedding_all_ui_user,\n",
    "                                                       phase,\n",
    "                                                       batch,\n",
    "                                                       flag_test,\n",
    "                                                       click_topn))            \n",
    "        pool.close()\n",
    "        pool.join() \n",
    "        \n",
    "        \"\"\"\n",
    "        遍历result列表，取出子进程对象，访问get()方法，获取返回值。（此时所有子进程已执行完毕）\n",
    "        result[0].get()\n",
    "        \"\"\"\n",
    "        print('进程结束') \n",
    "     \n",
    "    \n",
    "    \n",
    "#     # 释放内存\n",
    "# #     del topk_recall, matrix_association_rules, txt_cosine_similarity_dict, img_cosine_similarity_dict, dict_embedding_all_ui_item, dict_embedding_all_ui_user, dict_embedding_item_only, dict_embedding_user_only\n",
    "      \n",
    "    print('分片特征数据拼接')\n",
    "    # feature_all = Pool_feature_concat(feature_part)\n",
    "    # 加载暂存的特征数据\n",
    "    feature_all = load_pool_feature(phase=phase, batchs_n=batchs_n)\n",
    "    # 删除暂存的特征数据\n",
    "    remove_pool_feature(phase, batchs_n)\n",
    "\n",
    "\n",
    "    feature_all = add_time_statistics(feature_all, time_feat)\n",
    "    feature_all = add_user_statistics(feature_all, user_cluster_feat_)\n",
    "    feature_all = add_item_statistics(feature_all, item_cluster_feat_)\n",
    "    print('feature_all的列: ', feature_all.columns)\n",
    "    \n",
    "    \n",
    "    # 数据量太大了，保存占用空间\n",
    "    # print('特征数据保存')\n",
    "    # feature_all.to_pickle(\"../data/process/feature_all_phase{phase}_0002.pkl\".format(phase=phase))\n",
    "    \n",
    "    ############################## 整体数据特征 ############################## \n",
    "    print('--------------------------- 特征数据 ---------------------')\n",
    "    len_f = len(feature_all)\n",
    "    len_train = len(feature_all[feature_all['train_flag']=='train'])\n",
    "    len_test = len(feature_all[feature_all['train_flag']=='test'])\n",
    "    len_train_1 = len(feature_all[(feature_all['train_flag']=='train') & (feature_all['label']== 1)]) \n",
    "    print('所有数据条数', len_f)\n",
    "    print('训练数据 : ', len_train)\n",
    "    print('训练数据 label 1 : ', len_train_1)\n",
    "    print('训练数据 1 / 0 rate : ', len_train_1 * 1.0 / len_f)\n",
    "    print('测试数据 : ' , len_test)\n",
    "    print('flag : ', set(feature_all['train_flag']))\n",
    "\n",
    "    \n",
    "    ############################## 训练模型 ############################## \n",
    "    print('--------------------------- 训练模型 ---------------------')\n",
    "    submit = train_model_lgb(feature_all, recall_rate=hit_rate, hot_list=item_hot_list, valid=0.2, topk=50, \n",
    "                             num_boost_round=1500, early_stopping_rounds=500)\n",
    "\n",
    "    \n",
    "    # submit = train_model_rf(feature_all, recall_rate=hit_rate, hot_list=item_hot_list, valid=0.2, topk=50)\n",
    "    \n",
    "\n",
    "    print('--------------------------- 保存预测文件 ---------------------')\n",
    "    phase_submit_save(submit, phase, 50)\n"
   ]
  },
  {
   "cell_type": "code",
   "execution_count": null,
   "metadata": {},
   "outputs": [],
   "source": []
  },
  {
   "cell_type": "code",
   "execution_count": null,
   "metadata": {},
   "outputs": [],
   "source": []
  },
  {
   "cell_type": "code",
   "execution_count": 3,
   "metadata": {},
   "outputs": [
    {
     "name": "stdout",
     "output_type": "stream",
     "text": [
      "phase: 9\n",
      "================================== 加载click数据 ==================================\n",
      "================================== 生成中间数据 ==================================\n",
      "==================================== 召回 ====================================\n"
     ]
    },
    {
     "name": "stderr",
     "output_type": "stream",
     "text": [
      "25it [00:00, 249.12it/s]"
     ]
    },
    {
     "name": "stdout",
     "output_type": "stream",
     "text": [
      "------- association rules matrix 生成 ---------\n"
     ]
    },
    {
     "name": "stderr",
     "output_type": "stream",
     "text": [
      "20047it [01:04, 310.77it/s]\n",
      "12it [00:00, 115.60it/s]"
     ]
    },
    {
     "name": "stdout",
     "output_type": "stream",
     "text": [
      "------- association rules 召回 ---------\n"
     ]
    },
    {
     "name": "stderr",
     "output_type": "stream",
     "text": [
      "20047it [02:45, 121.02it/s]\n"
     ]
    },
    {
     "name": "stdout",
     "output_type": "stream",
     "text": [
      "-------- 评测召回效果 -------------\n",
      "-------- 召回效果 -------------\n",
      "--------:phase:  9  -------------\n",
      "phase:  9  top_ 0  :  hit_num :  275 hit_rate :  0.015031429352282044  data_num :  18295\n",
      "\n",
      "phase:  9  top_ 70  :  hit_num :  2361 hit_rate :  0.12905165345722874  data_num :  18295\n",
      "\n",
      "phase:  9  top_ 140  :  hit_num :  2871 hit_rate :  0.15692812243782453  data_num :  18295\n",
      "\n",
      "phase:  9  top_ 210  :  hit_num :  3173 hit_rate :  0.1734353648537852  data_num :  18295\n",
      "\n",
      "phase:  9  top_ 280  :  hit_num :  3380 hit_rate :  0.18474993167532114  data_num :  18295\n",
      "\n",
      "phase:  9  top_ 350  :  hit_num :  3538 hit_rate :  0.1933861710849959  data_num :  18295\n",
      "\n",
      "phase:  9  top_ 420  :  hit_num :  3696 hit_rate :  0.20202241049467068  data_num :  18295\n",
      "\n",
      "phase:  9  top_ 490  :  hit_num :  3809 hit_rate :  0.20819896146488112  data_num :  18295\n",
      "\n",
      "phase:  9  top_ 560  :  hit_num :  3914 hit_rate :  0.2139382344902979  data_num :  18295\n",
      "\n",
      "phase:  9  top_ 630  :  hit_num :  4033 hit_rate :  0.22044274391910357  data_num :  18295\n",
      "\n",
      "phase:  9  top_ 700  :  hit_num :  4131 hit_rate :  0.2257993987428259  data_num :  18295\n",
      "\n",
      "召回TOP:700时, 命中百分比:0.2257993987428259\n",
      "==================================== 排序 ====================================\n",
      "-------- 构建特征 ---------\n",
      "-------- sku1 sku2 sku3 sku4 sku5 user ----------\n",
      "------- user1 user2 user3 user4 user5 sku -------\n",
      "------- item1 item2 item3 item4 item5 -------\n",
      "------- user1 user2 user3 user4 user5 -------\n",
      "------- Interactive Embedding Feature PCA -----------\n",
      "------- 降成5维后的方差百分比:  [0.08848842 0.07579047 0.06292356 0.05512651 0.05211447]\n",
      "------- 降成5维后的方差百分比:  [0.06635753 0.05702645 0.05172389 0.04438741 0.03911276]\n",
      "------- 降成5维后的方差百分比:  [0.06578596 0.05883395 0.05164011 0.04487133 0.04173178]\n",
      "------- 降成5维后的方差百分比:  [0.1018311  0.08619219 0.07867399 0.0625202  0.05015605]\n",
      "dict_embedding_all_ui_user是否降维成功........ 5\n",
      "------- user or item Embedding Feature Cluster -----------\n",
      "------- 特征加工 -----------\n",
      "..............topk_recall shape: (14032900, 5)\n",
      "------- 构建样本 -----------\n",
      "............... train len= 760200\n",
      "............... test  len= 291200\n",
      "----------- 加入特征 train -----------\n"
     ]
    },
    {
     "name": "stderr",
     "output_type": "stream",
     "text": [
      "21113it [00:26, 811.93it/s]"
     ]
    },
    {
     "name": "stdout",
     "output_type": "stream",
     "text": [
      "------- 构建样本 -----------\n"
     ]
    },
    {
     "name": "stderr",
     "output_type": "stream",
     "text": [
      "24465it [00:30, 817.08it/s]"
     ]
    },
    {
     "name": "stdout",
     "output_type": "stream",
     "text": [
      "............... train len= 712600\n",
      "............... test  len= 317800\n"
     ]
    },
    {
     "name": "stderr",
     "output_type": "stream",
     "text": [
      "24957it [00:30, 817.77it/s]"
     ]
    },
    {
     "name": "stdout",
     "output_type": "stream",
     "text": [
      "----------- 加入特征 train -----------\n"
     ]
    },
    {
     "name": "stderr",
     "output_type": "stream",
     "text": [
      "20426it [00:26, 757.82it/s]"
     ]
    },
    {
     "name": "stdout",
     "output_type": "stream",
     "text": [
      "------- 构建样本 -----------\n"
     ]
    },
    {
     "name": "stderr",
     "output_type": "stream",
     "text": [
      "23451it [00:30, 708.50it/s]"
     ]
    },
    {
     "name": "stdout",
     "output_type": "stream",
     "text": [
      "............... train len= 699300\n",
      "............... test  len= 317275\n"
     ]
    },
    {
     "name": "stderr",
     "output_type": "stream",
     "text": [
      "23774it [00:30, 775.69it/s]"
     ]
    },
    {
     "name": "stdout",
     "output_type": "stream",
     "text": [
      "----------- 加入特征 train -----------\n"
     ]
    },
    {
     "name": "stderr",
     "output_type": "stream",
     "text": [
      "20167it [00:26, 668.31it/s]"
     ]
    },
    {
     "name": "stdout",
     "output_type": "stream",
     "text": [
      "------- 构建样本 -----------\n"
     ]
    },
    {
     "name": "stderr",
     "output_type": "stream",
     "text": [
      "72940it [01:32, 600.80it/s]"
     ]
    },
    {
     "name": "stdout",
     "output_type": "stream",
     "text": [
      "............... train len= 719600\n",
      "............... test  len= 300125\n"
     ]
    },
    {
     "name": "stderr",
     "output_type": "stream",
     "text": [
      "47298it [01:01, 702.49it/s]"
     ]
    },
    {
     "name": "stdout",
     "output_type": "stream",
     "text": [
      "----------- 加入特征 train -----------\n"
     ]
    },
    {
     "name": "stderr",
     "output_type": "stream",
     "text": [
      "712600it [16:00, 742.28it/s]\n",
      "699300it [15:36, 746.95it/s]\n",
      "758111it [16:51, 556.07it/s]"
     ]
    },
    {
     "name": "stdout",
     "output_type": "stream",
     "text": [
      "----------- 加入特征 test -----------\n"
     ]
    },
    {
     "name": "stderr",
     "output_type": "stream",
     "text": [
      "760200it [16:54, 749.70it/s]\n",
      "7832it [00:10, 735.07it/s]s]"
     ]
    },
    {
     "name": "stdout",
     "output_type": "stream",
     "text": [
      "----------- 加入特征 test -----------\n"
     ]
    },
    {
     "name": "stderr",
     "output_type": "stream",
     "text": [
      "11058it [00:14, 788.09it/s]]"
     ]
    },
    {
     "name": "stdout",
     "output_type": "stream",
     "text": [
      "----------- 加入特征 test -----------\n"
     ]
    },
    {
     "name": "stderr",
     "output_type": "stream",
     "text": [
      "719600it [16:02, 747.97it/s]\n",
      "29439it [00:38, 619.50it/s]"
     ]
    },
    {
     "name": "stdout",
     "output_type": "stream",
     "text": [
      "----------- 加入特征 test -----------\n"
     ]
    },
    {
     "name": "stderr",
     "output_type": "stream",
     "text": [
      "291200it [06:27, 750.87it/s]\n",
      "317800it [07:05, 747.35it/s]\n",
      "317275it [07:07, 741.99it/s]\n",
      "300125it [06:43, 743.76it/s]\n"
     ]
    },
    {
     "name": "stdout",
     "output_type": "stream",
     "text": [
      "进程结束\n",
      "分片特征数据拼接\n",
      "Removed all files of '../cache/pool_feature_part_phase9...'\n",
      "feature_all的列:  Index(['similarity_d1', 'similarity_d2', 'score_similar', 'dim1_user_0',\n",
      "       'dim1_user_1', 'dim1_user_2', 'dim1_user_3', 'dim1_user_4',\n",
      "       'dim1_item_0', 'dim1_item_1', 'dim1_item_2', 'dim1_item_3',\n",
      "       'dim1_item_4', 'dim2_user_0', 'dim2_user_1', 'dim2_user_2',\n",
      "       'dim2_user_3', 'dim2_user_4', 'dim2_item_0', 'dim2_item_1',\n",
      "       'dim2_item_2', 'dim2_item_3', 'dim2_item_4', 'clicked_item_0',\n",
      "       'clicked_item_0_cnt', 'clicked_item_0_to_item_0_score',\n",
      "       'item_0_to_clicked_item_0_txt_cosine_sim',\n",
      "       'item_0_to_clicked_item_0_img_cosine_sim',\n",
      "       'clicked_item_0_item_cluster', 'clicked_item_0_item_cluster_cnt',\n",
      "       'clicked_item_0_item_cluster_user_cnt',\n",
      "       'clicked_item_0_item_cluster_item_cnt', 'clicked_item_1',\n",
      "       'clicked_item_1_cnt', 'clicked_item_1_to_item_1_score',\n",
      "       'item_1_to_clicked_item_1_txt_cosine_sim',\n",
      "       'item_1_to_clicked_item_1_img_cosine_sim',\n",
      "       'clicked_item_1_item_cluster', 'clicked_item_1_item_cluster_cnt',\n",
      "       'clicked_item_1_item_cluster_user_cnt',\n",
      "       'clicked_item_1_item_cluster_item_cnt', 'clicked_item_2',\n",
      "       'clicked_item_2_cnt', 'clicked_item_2_to_item_2_score',\n",
      "       'item_2_to_clicked_item_2_txt_cosine_sim',\n",
      "       'item_2_to_clicked_item_2_img_cosine_sim',\n",
      "       'clicked_item_2_item_cluster', 'clicked_item_2_item_cluster_cnt',\n",
      "       'clicked_item_2_item_cluster_user_cnt',\n",
      "       'clicked_item_2_item_cluster_item_cnt', 'clicked_item_3',\n",
      "       'clicked_item_3_cnt', 'clicked_item_3_to_item_3_score',\n",
      "       'item_3_to_clicked_item_3_txt_cosine_sim',\n",
      "       'item_3_to_clicked_item_3_img_cosine_sim',\n",
      "       'clicked_item_3_item_cluster', 'clicked_item_3_item_cluster_cnt',\n",
      "       'clicked_item_3_item_cluster_user_cnt',\n",
      "       'clicked_item_3_item_cluster_item_cnt', 'clicked_item_4',\n",
      "       'clicked_item_4_cnt', 'clicked_item_4_to_item_4_score',\n",
      "       'item_4_to_clicked_item_4_txt_cosine_sim',\n",
      "       'item_4_to_clicked_item_4_img_cosine_sim',\n",
      "       'clicked_item_4_item_cluster', 'clicked_item_4_item_cluster_cnt',\n",
      "       'clicked_item_4_item_cluster_user_cnt',\n",
      "       'clicked_item_4_item_cluster_item_cnt', 'train_flag', 'user_id',\n",
      "       'item_similar', 'label', 'user_click_item_num', 'time_max_min_minus',\n",
      "       'time_diff_mean', 'time_mean', 'time_std', 'time_max', 'time_min',\n",
      "       'user_cluster', 'user_cluster_cnt', 'user_cluster_user_cnt',\n",
      "       'user_cluster_item_cnt', 'item_cluster', 'item_cluster_cnt',\n",
      "       'item_cluster_user_cnt', 'item_cluster_item_cnt'],\n",
      "      dtype='object')\n",
      "--------------------------- 特征数据 ---------------------\n",
      "所有数据条数 4118100\n",
      "训练数据 :  2891700\n",
      "训练数据 label 1 :  4131\n",
      "训练数据 1 / 0 rate :  0.0010031325125664748\n",
      "测试数据 :  1226400\n",
      "flag :  {'test', 'train'}\n",
      "--------------------------- 训练模型 ---------------------\n",
      "Training until validation scores don't improve for 500 rounds\n",
      "[50]\tvalid_0's ndcg@1: 0.986989\tvalid_0's ndcg@2: 0.991953\tvalid_0's ndcg@3: 0.992104\tvalid_0's ndcg@4: 0.992234\tvalid_0's ndcg@5: 0.992469\n",
      "[100]\tvalid_0's ndcg@1: 0.987897\tvalid_0's ndcg@2: 0.993051\tvalid_0's ndcg@3: 0.993354\tvalid_0's ndcg@4: 0.993354\tvalid_0's ndcg@5: 0.993471\n",
      "[150]\tvalid_0's ndcg@1: 0.988502\tvalid_0's ndcg@2: 0.993848\tvalid_0's ndcg@3: 0.994453\tvalid_0's ndcg@4: 0.994453\tvalid_0's ndcg@5: 0.99457\n",
      "[200]\tvalid_0's ndcg@1: 0.988502\tvalid_0's ndcg@2: 0.994038\tvalid_0's ndcg@3: 0.994795\tvalid_0's ndcg@4: 0.994795\tvalid_0's ndcg@5: 0.994912\n",
      "[250]\tvalid_0's ndcg@1: 0.988805\tvalid_0's ndcg@2: 0.99415\tvalid_0's ndcg@3: 0.994907\tvalid_0's ndcg@4: 0.994907\tvalid_0's ndcg@5: 0.995024\n",
      "[300]\tvalid_0's ndcg@1: 0.988805\tvalid_0's ndcg@2: 0.993959\tvalid_0's ndcg@3: 0.994716\tvalid_0's ndcg@4: 0.994716\tvalid_0's ndcg@5: 0.994833\n",
      "[350]\tvalid_0's ndcg@1: 0.988805\tvalid_0's ndcg@2: 0.993959\tvalid_0's ndcg@3: 0.994716\tvalid_0's ndcg@4: 0.994716\tvalid_0's ndcg@5: 0.994833\n",
      "[400]\tvalid_0's ndcg@1: 0.988805\tvalid_0's ndcg@2: 0.993959\tvalid_0's ndcg@3: 0.994716\tvalid_0's ndcg@4: 0.994716\tvalid_0's ndcg@5: 0.994833\n",
      "[450]\tvalid_0's ndcg@1: 0.988502\tvalid_0's ndcg@2: 0.993466\tvalid_0's ndcg@3: 0.994222\tvalid_0's ndcg@4: 0.994222\tvalid_0's ndcg@5: 0.994339\n",
      "[500]\tvalid_0's ndcg@1: 0.988502\tvalid_0's ndcg@2: 0.993466\tvalid_0's ndcg@3: 0.994222\tvalid_0's ndcg@4: 0.994222\tvalid_0's ndcg@5: 0.994339\n",
      "[550]\tvalid_0's ndcg@1: 0.9882\tvalid_0's ndcg@2: 0.993354\tvalid_0's ndcg@3: 0.99411\tvalid_0's ndcg@4: 0.99411\tvalid_0's ndcg@5: 0.994228\n",
      "[600]\tvalid_0's ndcg@1: 0.9882\tvalid_0's ndcg@2: 0.993163\tvalid_0's ndcg@3: 0.99392\tvalid_0's ndcg@4: 0.99392\tvalid_0's ndcg@5: 0.994037\n",
      "Early stopping, best iteration is:\n",
      "[113]\tvalid_0's ndcg@1: 0.98941\tvalid_0's ndcg@2: 0.99361\tvalid_0's ndcg@3: 0.993912\tvalid_0's ndcg@4: 0.993912\tvalid_0's ndcg@5: 0.994029\n",
      "------------- eval -------------\n",
      "------------- eval result -------------\n",
      "hitrate_50_full :  0.22532115493308313 ndcg_50_full :  468.8018656077733 \n",
      "\n",
      "hitrate_50_half :  0.06572436356750333 ndcg_50_half :  136.99081604392148 \n",
      "\n",
      "------------- eval result -------------\n",
      "------------- predict -------------\n",
      "------------- assert -------------\n",
      "LGBM的特征重要性...\n"
     ]
    },
    {
     "data": {
      "text/plain": [
       "<Figure size 1080x720 with 0 Axes>"
      ]
     },
     "metadata": {},
     "output_type": "display_data"
    },
    {
     "data": {
      "image/png": "[encoded data removed]",
      "text/plain": [
       "<Figure size 432x288 with 1 Axes>"
      ]
     },
     "metadata": {
      "needs_background": "light"
     },
     "output_type": "display_data"
    },
    {
     "name": "stdout",
     "output_type": "stream",
     "text": [
      "--------------------------- 保存预测文件 ---------------------\n"
     ]
    }
   ],
   "source": [
    "\n",
    "now_phase = 9\n",
    "\n",
    "\n",
    "for phase in range(now_phase, now_phase + 1):  \n",
    "    print('phase:', phase)\n",
    "    \"\"\"\n",
    "    train_test: 训练测试点击数据\n",
    "    item_hot_list: 项目热度list\n",
    "    dict_label_user_item: 训练点击中用户——最后一次点击项目字典\n",
    "    item_hot_dict: 项目热度字典\n",
    "    time_feat：用户点击时间特征\n",
    "    \n",
    "    \"\"\"\n",
    "    click_all, test_user_set = load_click_data(phase, nrows=nrows)\n",
    "    train_test, item_hot_list, dict_label_user_item, item_hot_dict, time_feat = data_generate(click_all, test_user_set)\n",
    "\n",
    "    \n",
    "    \n",
    "    print('==================================== 召回 ====================================')\n",
    "    \n",
    "    # TODO: 增加其它召回\n",
    "    if topk_recall_read:\n",
    "        topk_recall = pd.read_pickle('../data/recall/topk_recall_{phase}.pkl'.format(phase=phase))\n",
    "        matrix_association_rules = np.load('../data/recall/matrix_association_rules_{phase}.npy'.format(phase=phase), allow_pickle=True).item()\n",
    "\n",
    "    else:\n",
    "        topk_recall, matrix_association_rules = topk_recall_association_rules_qyxs_icf(\n",
    "                                                click_all=train_test,\n",
    "                                                dict_label=dict_label_user_item, \n",
    "                                                k=recall_num\n",
    "                                                )\n",
    "        topk_recall.to_pickle('../data/recall/topk_recall_{phase}.pkl'.format(phase=phase))\n",
    "        np.save('../data/recall/matrix_association_rules_{phase}.npy'.format(phase=phase), matrix_association_rules)\n",
    "\n",
    "\n",
    "    print('-------- 评测召回效果 -------------')\n",
    "    hit_rate = metrics_recall(topk_recall=topk_recall, phase=phase, k=recall_num, sep=int(recall_num/10))\n",
    "    print('召回TOP:{k}时, 命中百分比:{hit_rate}'.format(k=recall_num, hit_rate=hit_rate))\n",
    "\n",
    "    \n",
    "    \n",
    "    print('==================================== 排序 ====================================')\n",
    "    print('-------- 构建特征 ---------')\n",
    "    \n",
    "    dim, epochs, learning_rate = 30, 15, 0.1 # 由于内存问题，size改回30\n",
    "    if embedding_feat_read:\n",
    "        print('-------- sku1 sku2 sku3 sku4 sku5 user ----------')\n",
    "        dict_embedding_all_ui_item = np.load('../data/embedding/dict_embedding_all_ui_item_{phase}.npy'.format(phase=phase), \n",
    "                                             allow_pickle=True).item()\n",
    "        \n",
    "        print('------- user1 user2 user3 user4 user5 sku -------')\n",
    "        dict_embedding_all_ui_user = np.load('../data/embedding/dict_embedding_all_ui_user_{phase}.npy'.format(phase=phase), \n",
    "                                             allow_pickle=True).item()\n",
    "        \n",
    "        print('------- item1 item2 item3 item4 item5 -------')\n",
    "        dict_embedding_item_only = np.load('../data/embedding/dict_embedding_item_only_{phase}.npy'.format(phase=phase), \n",
    "                                           allow_pickle=True).item()\n",
    "        \n",
    "        print('------- user1 user2 user3 user4 user5 -------')\n",
    "        dict_embedding_user_only = np.load('../data/embedding/dict_embedding_user_only_{phase}.npy'.format(phase=phase), \n",
    "                                           allow_pickle=True).item()\n",
    "\n",
    "    else:\n",
    "        print('-------- sku1 sku2 sku3 sku4 sku5 user ----------')\n",
    "        dict_embedding_all_ui_item = matrix_word2vec_embedding(\n",
    "                                                                click_all=train_test,\n",
    "                                                                flag='item',\n",
    "                                                                mode='all',\n",
    "                                                                dim=dim,\n",
    "                                                                epochs=epochs,\n",
    "                                                                learning_rate=learning_rate\n",
    "                                                                )\n",
    "        np.save('../data/embedding/dict_embedding_all_ui_item_{phase}.npy'.format(phase=phase),\n",
    "               dict_embedding_all_ui_item)\n",
    "\n",
    "\n",
    "        print('------- user1 user2 user3 user4 user5 sku -------')\n",
    "        dict_embedding_all_ui_user = matrix_word2vec_embedding(\n",
    "                                                                click_all=train_test,\n",
    "                                                                flag='user',\n",
    "                                                                mode='all',\n",
    "                                                                dim=dim,\n",
    "                                                                epochs=epochs,\n",
    "                                                                learning_rate=learning_rate\n",
    "                                                                )\n",
    "        np.save('../data/embedding/dict_embedding_all_ui_user_{phase}.npy'.format(phase=phase),\n",
    "               dict_embedding_all_ui_user)\n",
    "\n",
    "\n",
    "        print('------- item1 item2 item3 item4 item5 -------')\n",
    "        dict_embedding_item_only = matrix_word2vec_embedding(\n",
    "                                                                click_all=train_test,\n",
    "                                                                flag='item',\n",
    "                                                                mode='only',\n",
    "                                                                dim=dim,\n",
    "                                                                epochs=epochs,\n",
    "                                                                learning_rate=learning_rate\n",
    "                                                                )\n",
    "        np.save('../data/embedding/dict_embedding_item_only_{phase}.npy'.format(phase=phase),\n",
    "               dict_embedding_item_only)\n",
    "\n",
    "\n",
    "        print('------- user1 user2 user3 user4 user5 -------')\n",
    "        dict_embedding_user_only = matrix_word2vec_embedding(\n",
    "                                                                click_all=train_test,\n",
    "                                                                flag='user',\n",
    "                                                                mode='only',\n",
    "                                                                dim=dim,\n",
    "                                                                epochs=epochs,\n",
    "                                                                learning_rate=learning_rate\n",
    "                                                                )\n",
    "        np.save('../data/embedding/dict_embedding_user_only_{phase}.npy'.format(phase=phase),\n",
    "               dict_embedding_user_only)\n",
    "\n",
    "        \n",
    "    \n",
    "    print('------- Interactive Embedding Feature PCA -----------')\n",
    "\n",
    "    # dict_embedding_all_ui_item PCA\n",
    "    dict_embedding = dict_embedding_all_ui_item.copy()\n",
    "    dict_embedding_all_ui_item = {}\n",
    "    for i in ['user', 'item']:\n",
    "        tmp = pd.DataFrame(dict_embedding[i])\n",
    "        pca_ = embedding_fea_pca(tmp.T, n_components=pca_n_components) # 解释\n",
    "        tmp_pca = pd.DataFrame(pca_.T)\n",
    "        tmp_pca.columns = tmp.columns\n",
    "        dict_embedding_all_ui_item[i] = dict(tmp_pca)\n",
    "    \n",
    "    \n",
    "    # dict_embedding_all_ui_user PCA\n",
    "    dict_embedding = dict_embedding_all_ui_user.copy()\n",
    "    dict_embedding_all_ui_user = {}\n",
    "    for i in ['user', 'item']:\n",
    "        tmp = pd.DataFrame(dict_embedding[i])\n",
    "        pca_ = embedding_fea_pca(tmp.T, n_components=pca_n_components) # 解释\n",
    "        tmp_pca = pd.DataFrame(pca_.T)\n",
    "        tmp_pca.columns = tmp.columns\n",
    "        dict_embedding_all_ui_user[i] = dict(tmp_pca)\n",
    "    print('dict_embedding_all_ui_user是否降维成功........', len(dict_embedding_all_ui_user['user']['1']))    \n",
    "    del tmp, tmp_pca\n",
    "\n",
    "    \n",
    "    \n",
    "    print('------- user or item Embedding Feature Cluster -----------')\n",
    "\n",
    "    # dict_embedding_item_only聚类\n",
    "    item = pd.DataFrame(dict_embedding_item_only['item'])\n",
    "    km_cluster = KMeans(n_clusters=item_n_clusters, max_iter=300, n_init=40, \\\n",
    "                        init='k-means++') #, n_jobs=-1)\n",
    "    # 返回类索引\n",
    "    result = km_cluster.fit_predict(item.T)\n",
    "    item_cluster = pd.DataFrame({'item_id': item.columns, 'item_cluster': np.int16(result)})\n",
    "    del item, km_cluster, result, dict_embedding_item_only\n",
    "    \n",
    "    # dict_embedding_user_only聚类\n",
    "    user = pd.DataFrame(dict_embedding_user_only['user'])\n",
    "    km_cluster = KMeans(n_clusters=user_n_clusters, max_iter=300, n_init=40, \\\n",
    "                        init='k-means++') #, n_jobs=-1)\n",
    "    # 返回类索引\n",
    "    result = km_cluster.fit_predict(user.T)\n",
    "    user_cluster = pd.DataFrame({'user_id': user.columns, 'user_cluster': np.int16(result)})\n",
    "    del user, km_cluster, result, dict_embedding_user_only\n",
    "    \n",
    "    \n",
    "    # 加载聚类的统计特征\n",
    "    user_cluster_feat_ = user_cluster_feat(click_all, user_cluster)\n",
    "    item_cluster_feat_ = item_cluster_feat(click_all, item_cluster)\n",
    "\n",
    "    del click_all, user_cluster, item_cluster\n",
    "    \n",
    "    \n",
    "    print('------- 特征加工 -----------')\n",
    "\n",
    "    print('..............topk_recall shape:', topk_recall.shape)\n",
    "\n",
    "    \n",
    "#     feature_all = get_train_test_data(topk_recall,\n",
    "#                   matrix_association_rules, \n",
    "#                   time_feat,\n",
    "#                   user_cluster_feat_,\n",
    "#                   item_cluster_feat_,\n",
    "#                   item_hot_dict,\n",
    "#                   txt_cosine_similarity_dict,\n",
    "#                   img_cosine_similarity_dict,\n",
    "#                   dict_embedding_all_ui_item,\n",
    "#                   dict_embedding_all_ui_user,\n",
    "#                   flag_test,\n",
    "#                   click_topn)\n",
    "\n",
    "\n",
    "#     lprofiler = LineProfiler(get_train_test_data)\n",
    "#     lprofiler.run('get_train_test_data( topk_recall[:80000], matrix_association_rules, time_feat, user_cluster_feat_, item_cluster_feat_, item_hot_dict, txt_cosine_similarity_dict, img_cosine_similarity_dict, dict_embedding_all_ui_item, dict_embedding_all_ui_user, flag_test=False, click_topn=click_topn)')\n",
    "#     lprofiler.print_stats()\n",
    "\n",
    "\n",
    "    # 多进程构建特征\n",
    "    # 函数get_train_test_data内部已保存结果\n",
    "    if __name__=='__main__':\n",
    "        cpu_num = cpu_count()\n",
    "        \n",
    "        pool = Pool(open_cpu_n+1) # 创建一个多个进程的进程池\n",
    "        # 将topk_recall分batchs_n批次，并不是越大越好，启动进程也是需时间的\n",
    "        batch_size = topk_recall.shape[0]//(batchs_n)\n",
    "        \n",
    "        for batch in range(batchs_n):\n",
    "            start_index = batch * batch_size\n",
    "            if batch==cpu_num:\n",
    "                end_index = topk_recall.shape[0]\n",
    "            else:\n",
    "                end_index = (1+batch) * batch_size\n",
    "            p = pool.apply_async(func=get_train_test_data, \n",
    "                                                 args=(topk_recall[start_index:end_index],\n",
    "                                                       matrix_association_rules, \n",
    "                                                       time_feat,\n",
    "                                                       user_cluster_feat_,\n",
    "                                                       item_cluster_feat_,\n",
    "                                                       item_hot_dict,\n",
    "                                                       txt_cosine_similarity_dict,\n",
    "                                                       img_cosine_similarity_dict,\n",
    "                                                       dict_embedding_all_ui_item,\n",
    "                                                       dict_embedding_all_ui_user,\n",
    "                                                       phase,\n",
    "                                                       batch,\n",
    "                                                       flag_test,\n",
    "                                                       click_topn))            \n",
    "        pool.close()\n",
    "        pool.join() \n",
    "        \n",
    "        \"\"\"\n",
    "        遍历result列表，取出子进程对象，访问get()方法，获取返回值。（此时所有子进程已执行完毕）\n",
    "        result[0].get()\n",
    "        \"\"\"\n",
    "        print('进程结束') \n",
    "     \n",
    "    \n",
    "    \n",
    "#     # 释放内存\n",
    "# #     del topk_recall, matrix_association_rules, txt_cosine_similarity_dict, img_cosine_similarity_dict, dict_embedding_all_ui_item, dict_embedding_all_ui_user, dict_embedding_item_only, dict_embedding_user_only\n",
    "      \n",
    "    print('分片特征数据拼接')\n",
    "    # feature_all = Pool_feature_concat(feature_part)\n",
    "    # 加载暂存的特征数据\n",
    "    feature_all = load_pool_feature(phase=phase, batchs_n=batchs_n)\n",
    "    # 删除暂存的特征数据\n",
    "    remove_pool_feature(phase, batchs_n)\n",
    "\n",
    "\n",
    "    feature_all = add_time_statistics(feature_all, time_feat)\n",
    "    feature_all = add_user_statistics(feature_all, user_cluster_feat_)\n",
    "    feature_all = add_item_statistics(feature_all, item_cluster_feat_)\n",
    "    print('feature_all的列: ', feature_all.columns)\n",
    "    \n",
    "    \n",
    "    # 数据量太大了，保存占用空间\n",
    "    # print('特征数据保存')\n",
    "    # feature_all.to_pickle(\"../data/process/feature_all_phase{phase}_0002.pkl\".format(phase=phase))\n",
    "    \n",
    "    ############################## 整体数据特征 ############################## \n",
    "    print('--------------------------- 特征数据 ---------------------')\n",
    "    len_f = len(feature_all)\n",
    "    len_train = len(feature_all[feature_all['train_flag']=='train'])\n",
    "    len_test = len(feature_all[feature_all['train_flag']=='test'])\n",
    "    len_train_1 = len(feature_all[(feature_all['train_flag']=='train') & (feature_all['label']== 1)]) \n",
    "    print('所有数据条数', len_f)\n",
    "    print('训练数据 : ', len_train)\n",
    "    print('训练数据 label 1 : ', len_train_1)\n",
    "    print('训练数据 1 / 0 rate : ', len_train_1 * 1.0 / len_f)\n",
    "    print('测试数据 : ' , len_test)\n",
    "    print('flag : ', set(feature_all['train_flag']))\n",
    "\n",
    "    \n",
    "    ############################## 训练模型 ############################## \n",
    "    print('--------------------------- 训练模型 ---------------------')\n",
    "    submit = train_model_lgb(feature_all, recall_rate=hit_rate, hot_list=item_hot_list, valid=0.2, topk=50, \n",
    "                             num_boost_round=1500, early_stopping_rounds=500)\n",
    "\n",
    "    \n",
    "    # submit = train_model_rf(feature_all, recall_rate=hit_rate, hot_list=item_hot_list, valid=0.2, topk=50)\n",
    "    \n",
    "\n",
    "    print('--------------------------- 保存预测文件 ---------------------')\n",
    "    phase_submit_save(submit, phase, 50)\n"
   ]
  },
  {
   "cell_type": "code",
   "execution_count": null,
   "metadata": {},
   "outputs": [],
   "source": []
  },
  {
   "cell_type": "code",
   "execution_count": null,
   "metadata": {},
   "outputs": [],
   "source": []
  },
  {
   "cell_type": "code",
   "execution_count": 3,
   "metadata": {},
   "outputs": [
    {
     "name": "stdout",
     "output_type": "stream",
     "text": [
      "phase: 8\n",
      "================================== 加载click数据 ==================================\n",
      "================================== 生成中间数据 ==================================\n",
      "==================================== 召回 ====================================\n",
      "-------- 评测召回效果 -------------\n",
      "-------- 召回效果 -------------\n",
      "--------:phase:  8  -------------\n",
      "phase:  8  top_ 0  :  hit_num :  321 hit_rate :  0.01776916689731525  data_num :  18065\n",
      "\n",
      "phase:  8  top_ 70  :  hit_num :  2230 hit_rate :  0.12344312205923055  data_num :  18065\n",
      "\n",
      "phase:  8  top_ 140  :  hit_num :  2716 hit_rate :  0.15034597287572654  data_num :  18065\n",
      "\n",
      "phase:  8  top_ 210  :  hit_num :  3046 hit_rate :  0.168613340714088  data_num :  18065\n",
      "\n",
      "phase:  8  top_ 280  :  hit_num :  3269 hit_rate :  0.18095765292001106  data_num :  18065\n",
      "\n",
      "phase:  8  top_ 350  :  hit_num :  3437 hit_rate :  0.19025740381954054  data_num :  18065\n",
      "\n",
      "phase:  8  top_ 420  :  hit_num :  3587 hit_rate :  0.19856075283697758  data_num :  18065\n",
      "\n",
      "phase:  8  top_ 490  :  hit_num :  3718 hit_rate :  0.20581234431220594  data_num :  18065\n",
      "\n",
      "phase:  8  top_ 560  :  hit_num :  3841 hit_rate :  0.2126210905065043  data_num :  18065\n",
      "\n",
      "phase:  8  top_ 630  :  hit_num :  3929 hit_rate :  0.217492388596734  data_num :  18065\n",
      "\n",
      "phase:  8  top_ 700  :  hit_num :  4028 hit_rate :  0.22297259894824245  data_num :  18065\n",
      "\n",
      "召回TOP:700时, 命中百分比:0.22297259894824245\n",
      "==================================== 排序 ====================================\n",
      "-------- 构建特征 ---------\n",
      "-------- sku1 sku2 sku3 sku4 sku5 user ----------\n",
      "------- user1 user2 user3 user4 user5 sku -------\n",
      "------- item1 item2 item3 item4 item5 -------\n",
      "------- user1 user2 user3 user4 user5 -------\n",
      "------- Interactive Embedding Feature PCA -----------\n",
      "------- 降成5维后的方差百分比:  [0.08406427 0.07030957 0.06611628 0.05802999 0.04903613]\n",
      "------- 降成5维后的方差百分比:  [0.06509977 0.05580633 0.05149007 0.04732589 0.0406197 ]\n",
      "------- 降成5维后的方差百分比:  [0.06395518 0.06190839 0.05219234 0.0434181  0.04029129]\n",
      "------- 降成5维后的方差百分比:  [0.10170216 0.08829441 0.07661606 0.06211346 0.04711789]\n",
      "dict_embedding_all_ui_user是否降维成功........ 5\n",
      "------- user or item Embedding Feature Cluster -----------\n",
      "------- 特征加工 -----------\n",
      "..............topk_recall shape: (13918100, 5)\n",
      "------- 构建样本 -----------\n",
      "............... train len= 723100\n",
      "............... test  len= 326900\n",
      "----------- 加入特征 train -----------\n"
     ]
    },
    {
     "name": "stderr",
     "output_type": "stream",
     "text": [
      "21674it [00:27, 796.19it/s]"
     ]
    },
    {
     "name": "stdout",
     "output_type": "stream",
     "text": [
      "------- 构建样本 -----------\n"
     ]
    },
    {
     "name": "stderr",
     "output_type": "stream",
     "text": [
      "24861it [00:31, 720.79it/s]"
     ]
    },
    {
     "name": "stdout",
     "output_type": "stream",
     "text": [
      "............... train len= 690200\n",
      "............... test  len= 312200\n"
     ]
    },
    {
     "name": "stderr",
     "output_type": "stream",
     "text": [
      "25183it [00:31, 778.62it/s]"
     ]
    },
    {
     "name": "stdout",
     "output_type": "stream",
     "text": [
      "----------- 加入特征 train -----------\n"
     ]
    },
    {
     "name": "stderr",
     "output_type": "stream",
     "text": [
      "46841it [00:59, 791.24it/s]"
     ]
    },
    {
     "name": "stdout",
     "output_type": "stream",
     "text": [
      "------- 构建样本 -----------\n"
     ]
    },
    {
     "name": "stderr",
     "output_type": "stream",
     "text": [
      "24388it [00:31, 746.65it/s]"
     ]
    },
    {
     "name": "stdout",
     "output_type": "stream",
     "text": [
      "............... train len= 660800\n",
      "............... test  len= 322700\n"
     ]
    },
    {
     "name": "stderr",
     "output_type": "stream",
     "text": [
      "24705it [00:31, 777.81it/s]"
     ]
    },
    {
     "name": "stdout",
     "output_type": "stream",
     "text": [
      "----------- 加入特征 train -----------\n"
     ]
    },
    {
     "name": "stderr",
     "output_type": "stream",
     "text": [
      "19790it [00:26, 785.84it/s]"
     ]
    },
    {
     "name": "stdout",
     "output_type": "stream",
     "text": [
      "------- 构建样本 -----------\n"
     ]
    },
    {
     "name": "stderr",
     "output_type": "stream",
     "text": [
      "47193it [01:01, 536.13it/s]"
     ]
    },
    {
     "name": "stdout",
     "output_type": "stream",
     "text": [
      "............... train len= 745500\n",
      "............... test  len= 310800\n"
     ]
    },
    {
     "name": "stderr",
     "output_type": "stream",
     "text": [
      "22902it [00:30, 604.44it/s]"
     ]
    },
    {
     "name": "stdout",
     "output_type": "stream",
     "text": [
      "----------- 加入特征 train -----------\n"
     ]
    },
    {
     "name": "stderr",
     "output_type": "stream",
     "text": [
      "660800it [15:04, 730.36it/s]\n",
      "690200it [15:42, 732.04it/s]\n",
      "722146it [16:28, 775.60it/s]"
     ]
    },
    {
     "name": "stdout",
     "output_type": "stream",
     "text": [
      "----------- 加入特征 test -----------\n"
     ]
    },
    {
     "name": "stderr",
     "output_type": "stream",
     "text": [
      "723100it [16:29, 730.79it/s]\n",
      "5343it [00:07, 620.58it/s]s]"
     ]
    },
    {
     "name": "stdout",
     "output_type": "stream",
     "text": [
      "----------- 加入特征 test -----------\n"
     ]
    },
    {
     "name": "stderr",
     "output_type": "stream",
     "text": [
      "675828it [15:17, 543.20it/s]"
     ]
    },
    {
     "name": "stdout",
     "output_type": "stream",
     "text": [
      "----------- 加入特征 test -----------\n"
     ]
    },
    {
     "name": "stderr",
     "output_type": "stream",
     "text": [
      "745500it [16:53, 735.32it/s]\n",
      "105025it [02:22, 793.59it/s]"
     ]
    },
    {
     "name": "stdout",
     "output_type": "stream",
     "text": [
      "----------- 加入特征 test -----------\n"
     ]
    },
    {
     "name": "stderr",
     "output_type": "stream",
     "text": [
      "312200it [07:04, 735.12it/s]\n",
      "322700it [07:19, 734.69it/s]\n",
      "326900it [07:23, 736.72it/s]\n",
      "310800it [06:59, 741.62it/s]\n"
     ]
    },
    {
     "name": "stdout",
     "output_type": "stream",
     "text": [
      "进程结束\n",
      "分片特征数据拼接\n",
      "Removed all files of '../cache/pool_feature_part_phase8...'\n",
      "feature_all的列:  Index(['similarity_d1', 'similarity_d2', 'score_similar', 'dim1_user_0',\n",
      "       'dim1_user_1', 'dim1_user_2', 'dim1_user_3', 'dim1_user_4',\n",
      "       'dim1_item_0', 'dim1_item_1', 'dim1_item_2', 'dim1_item_3',\n",
      "       'dim1_item_4', 'dim2_user_0', 'dim2_user_1', 'dim2_user_2',\n",
      "       'dim2_user_3', 'dim2_user_4', 'dim2_item_0', 'dim2_item_1',\n",
      "       'dim2_item_2', 'dim2_item_3', 'dim2_item_4', 'clicked_item_0',\n",
      "       'clicked_item_0_cnt', 'clicked_item_0_to_item_0_score',\n",
      "       'item_0_to_clicked_item_0_txt_cosine_sim',\n",
      "       'item_0_to_clicked_item_0_img_cosine_sim',\n",
      "       'clicked_item_0_item_cluster', 'clicked_item_0_item_cluster_cnt',\n",
      "       'clicked_item_0_item_cluster_user_cnt',\n",
      "       'clicked_item_0_item_cluster_item_cnt', 'clicked_item_1',\n",
      "       'clicked_item_1_cnt', 'clicked_item_1_to_item_1_score',\n",
      "       'item_1_to_clicked_item_1_txt_cosine_sim',\n",
      "       'item_1_to_clicked_item_1_img_cosine_sim',\n",
      "       'clicked_item_1_item_cluster', 'clicked_item_1_item_cluster_cnt',\n",
      "       'clicked_item_1_item_cluster_user_cnt',\n",
      "       'clicked_item_1_item_cluster_item_cnt', 'clicked_item_2',\n",
      "       'clicked_item_2_cnt', 'clicked_item_2_to_item_2_score',\n",
      "       'item_2_to_clicked_item_2_txt_cosine_sim',\n",
      "       'item_2_to_clicked_item_2_img_cosine_sim',\n",
      "       'clicked_item_2_item_cluster', 'clicked_item_2_item_cluster_cnt',\n",
      "       'clicked_item_2_item_cluster_user_cnt',\n",
      "       'clicked_item_2_item_cluster_item_cnt', 'clicked_item_3',\n",
      "       'clicked_item_3_cnt', 'clicked_item_3_to_item_3_score',\n",
      "       'item_3_to_clicked_item_3_txt_cosine_sim',\n",
      "       'item_3_to_clicked_item_3_img_cosine_sim',\n",
      "       'clicked_item_3_item_cluster', 'clicked_item_3_item_cluster_cnt',\n",
      "       'clicked_item_3_item_cluster_user_cnt',\n",
      "       'clicked_item_3_item_cluster_item_cnt', 'clicked_item_4',\n",
      "       'clicked_item_4_cnt', 'clicked_item_4_to_item_4_score',\n",
      "       'item_4_to_clicked_item_4_txt_cosine_sim',\n",
      "       'item_4_to_clicked_item_4_img_cosine_sim',\n",
      "       'clicked_item_4_item_cluster', 'clicked_item_4_item_cluster_cnt',\n",
      "       'clicked_item_4_item_cluster_user_cnt',\n",
      "       'clicked_item_4_item_cluster_item_cnt', 'train_flag', 'user_id',\n",
      "       'item_similar', 'label', 'user_click_item_num', 'time_max_min_minus',\n",
      "       'time_diff_mean', 'time_mean', 'time_std', 'time_max', 'time_min',\n",
      "       'user_cluster', 'user_cluster_cnt', 'user_cluster_user_cnt',\n",
      "       'user_cluster_item_cnt', 'item_cluster', 'item_cluster_cnt',\n",
      "       'item_cluster_user_cnt', 'item_cluster_item_cnt'],\n",
      "      dtype='object')\n",
      "--------------------------- 特征数据 ---------------------\n",
      "所有数据条数 4092200\n",
      "训练数据 :  2819600\n",
      "训练数据 label 1 :  4028\n",
      "训练数据 1 / 0 rate :  0.0009843116172230095\n",
      "测试数据 :  1272600\n",
      "flag :  {'test', 'train'}\n",
      "--------------------------- 训练模型 ---------------------\n",
      "Training until validation scores don't improve for 500 rounds\n",
      "[50]\tvalid_0's ndcg@1: 0.989758\tvalid_0's ndcg@2: 0.993478\tvalid_0's ndcg@3: 0.993944\tvalid_0's ndcg@4: 0.994479\tvalid_0's ndcg@5: 0.994479\n",
      "[100]\tvalid_0's ndcg@1: 0.988206\tvalid_0's ndcg@2: 0.99271\tvalid_0's ndcg@3: 0.993175\tvalid_0's ndcg@4: 0.993844\tvalid_0's ndcg@5: 0.993964\n",
      "[150]\tvalid_0's ndcg@1: 0.990068\tvalid_0's ndcg@2: 0.993985\tvalid_0's ndcg@3: 0.994605\tvalid_0's ndcg@4: 0.995006\tvalid_0's ndcg@5: 0.995487\n",
      "[200]\tvalid_0's ndcg@1: 0.990068\tvalid_0's ndcg@2: 0.99418\tvalid_0's ndcg@3: 0.994646\tvalid_0's ndcg@4: 0.995047\tvalid_0's ndcg@5: 0.995407\n",
      "[250]\tvalid_0's ndcg@1: 0.99131\tvalid_0's ndcg@2: 0.994639\tvalid_0's ndcg@3: 0.995104\tvalid_0's ndcg@4: 0.995505\tvalid_0's ndcg@5: 0.995865\n",
      "[300]\tvalid_0's ndcg@1: 0.99162\tvalid_0's ndcg@2: 0.994753\tvalid_0's ndcg@3: 0.995064\tvalid_0's ndcg@4: 0.995331\tvalid_0's ndcg@5: 0.995811\n",
      "[350]\tvalid_0's ndcg@1: 0.99162\tvalid_0's ndcg@2: 0.994753\tvalid_0's ndcg@3: 0.995064\tvalid_0's ndcg@4: 0.995331\tvalid_0's ndcg@5: 0.995811\n",
      "[400]\tvalid_0's ndcg@1: 0.99162\tvalid_0's ndcg@2: 0.994753\tvalid_0's ndcg@3: 0.995064\tvalid_0's ndcg@4: 0.995331\tvalid_0's ndcg@5: 0.995811\n",
      "[450]\tvalid_0's ndcg@1: 0.990999\tvalid_0's ndcg@2: 0.994328\tvalid_0's ndcg@3: 0.994794\tvalid_0's ndcg@4: 0.995061\tvalid_0's ndcg@5: 0.995541\n",
      "[500]\tvalid_0's ndcg@1: 0.990999\tvalid_0's ndcg@2: 0.994328\tvalid_0's ndcg@3: 0.994639\tvalid_0's ndcg@4: 0.99504\tvalid_0's ndcg@5: 0.99552\n",
      "[550]\tvalid_0's ndcg@1: 0.990999\tvalid_0's ndcg@2: 0.994328\tvalid_0's ndcg@3: 0.994639\tvalid_0's ndcg@4: 0.994906\tvalid_0's ndcg@5: 0.995386\n",
      "[600]\tvalid_0's ndcg@1: 0.990689\tvalid_0's ndcg@2: 0.994214\tvalid_0's ndcg@3: 0.994524\tvalid_0's ndcg@4: 0.994791\tvalid_0's ndcg@5: 0.995272\n",
      "[650]\tvalid_0's ndcg@1: 0.990689\tvalid_0's ndcg@2: 0.994214\tvalid_0's ndcg@3: 0.994524\tvalid_0's ndcg@4: 0.994791\tvalid_0's ndcg@5: 0.995272\n",
      "[700]\tvalid_0's ndcg@1: 0.990379\tvalid_0's ndcg@2: 0.994099\tvalid_0's ndcg@3: 0.99441\tvalid_0's ndcg@4: 0.994677\tvalid_0's ndcg@5: 0.995157\n",
      "Early stopping, best iteration is:\n",
      "[231]\tvalid_0's ndcg@1: 0.99131\tvalid_0's ndcg@2: 0.994639\tvalid_0's ndcg@3: 0.995104\tvalid_0's ndcg@4: 0.995505\tvalid_0's ndcg@5: 0.995865\n",
      "------------- eval -------------\n",
      "------------- eval result -------------\n",
      "hitrate_50_full :  0.22297259894824245 ndcg_50_full :  452.1571344057624 \n",
      "\n",
      "hitrate_50_half :  0.06560460080786278 ndcg_50_half :  133.16257255157592 \n",
      "\n",
      "------------- eval result -------------\n",
      "------------- predict -------------\n",
      "------------- assert -------------\n",
      "LGBM的特征重要性...\n"
     ]
    },
    {
     "data": {
      "text/plain": [
       "<Figure size 1080x720 with 0 Axes>"
      ]
     },
     "metadata": {},
     "output_type": "display_data"
    },
    {
     "data": {
      "image/png": "[encoded data removed]",
      "text/plain": [
       "<Figure size 432x288 with 1 Axes>"
      ]
     },
     "metadata": {
      "needs_background": "light"
     },
     "output_type": "display_data"
    },
    {
     "name": "stdout",
     "output_type": "stream",
     "text": [
      "--------------------------- 保存预测文件 ---------------------\n"
     ]
    }
   ],
   "source": [
    "\n",
    "now_phase = 8\n",
    "\n",
    "\n",
    "for phase in range(now_phase, now_phase + 1):  \n",
    "    print('phase:', phase)\n",
    "    \"\"\"\n",
    "    train_test: 训练测试点击数据\n",
    "    item_hot_list: 项目热度list\n",
    "    dict_label_user_item: 训练点击中用户——最后一次点击项目字典\n",
    "    item_hot_dict: 项目热度字典\n",
    "    time_feat：用户点击时间特征\n",
    "    \n",
    "    \"\"\"\n",
    "    click_all, test_user_set = load_click_data(phase, nrows=nrows)\n",
    "    train_test, item_hot_list, dict_label_user_item, item_hot_dict, time_feat = data_generate(click_all, test_user_set)\n",
    "\n",
    "    \n",
    "    \n",
    "    print('==================================== 召回 ====================================')\n",
    "    \n",
    "    # TODO: 增加其它召回\n",
    "    if topk_recall_read:\n",
    "        topk_recall = pd.read_pickle('../data/recall/topk_recall_{phase}.pkl'.format(phase=phase))\n",
    "        matrix_association_rules = np.load('../data/recall/matrix_association_rules_{phase}.npy'.format(phase=phase), allow_pickle=True).item()\n",
    "\n",
    "    else:\n",
    "        topk_recall, matrix_association_rules = topk_recall_association_rules_qyxs_icf(\n",
    "                                                click_all=train_test,\n",
    "                                                dict_label=dict_label_user_item, \n",
    "                                                k=recall_num\n",
    "                                                )\n",
    "        topk_recall.to_pickle('../data/recall/topk_recall_{phase}.pkl'.format(phase=phase))\n",
    "        np.save('../data/recall/matrix_association_rules_{phase}.npy'.format(phase=phase), matrix_association_rules)\n",
    "\n",
    "\n",
    "    print('-------- 评测召回效果 -------------')\n",
    "    hit_rate = metrics_recall(topk_recall=topk_recall, phase=phase, k=recall_num, sep=int(recall_num/10))\n",
    "    print('召回TOP:{k}时, 命中百分比:{hit_rate}'.format(k=recall_num, hit_rate=hit_rate))\n",
    "\n",
    "    \n",
    "    \n",
    "    print('==================================== 排序 ====================================')\n",
    "    print('-------- 构建特征 ---------')\n",
    "    \n",
    "    dim, epochs, learning_rate = 30, 15, 0.1 # 由于内存问题，size改回30\n",
    "    if embedding_feat_read:\n",
    "        print('-------- sku1 sku2 sku3 sku4 sku5 user ----------')\n",
    "        dict_embedding_all_ui_item = np.load('../data/embedding/dict_embedding_all_ui_item_{phase}.npy'.format(phase=phase), \n",
    "                                             allow_pickle=True).item()\n",
    "        \n",
    "        print('------- user1 user2 user3 user4 user5 sku -------')\n",
    "        dict_embedding_all_ui_user = np.load('../data/embedding/dict_embedding_all_ui_user_{phase}.npy'.format(phase=phase), \n",
    "                                             allow_pickle=True).item()\n",
    "        \n",
    "        print('------- item1 item2 item3 item4 item5 -------')\n",
    "        dict_embedding_item_only = np.load('../data/embedding/dict_embedding_item_only_{phase}.npy'.format(phase=phase), \n",
    "                                           allow_pickle=True).item()\n",
    "        \n",
    "        print('------- user1 user2 user3 user4 user5 -------')\n",
    "        dict_embedding_user_only = np.load('../data/embedding/dict_embedding_user_only_{phase}.npy'.format(phase=phase), \n",
    "                                           allow_pickle=True).item()\n",
    "\n",
    "    else:\n",
    "        print('-------- sku1 sku2 sku3 sku4 sku5 user ----------')\n",
    "        dict_embedding_all_ui_item = matrix_word2vec_embedding(\n",
    "                                                                click_all=train_test,\n",
    "                                                                flag='item',\n",
    "                                                                mode='all',\n",
    "                                                                dim=dim,\n",
    "                                                                epochs=epochs,\n",
    "                                                                learning_rate=learning_rate\n",
    "                                                                )\n",
    "        np.save('../data/embedding/dict_embedding_all_ui_item_{phase}.npy'.format(phase=phase),\n",
    "               dict_embedding_all_ui_item)\n",
    "\n",
    "\n",
    "        print('------- user1 user2 user3 user4 user5 sku -------')\n",
    "        dict_embedding_all_ui_user = matrix_word2vec_embedding(\n",
    "                                                                click_all=train_test,\n",
    "                                                                flag='user',\n",
    "                                                                mode='all',\n",
    "                                                                dim=dim,\n",
    "                                                                epochs=epochs,\n",
    "                                                                learning_rate=learning_rate\n",
    "                                                                )\n",
    "        np.save('../data/embedding/dict_embedding_all_ui_user_{phase}.npy'.format(phase=phase),\n",
    "               dict_embedding_all_ui_user)\n",
    "\n",
    "\n",
    "        print('------- item1 item2 item3 item4 item5 -------')\n",
    "        dict_embedding_item_only = matrix_word2vec_embedding(\n",
    "                                                                click_all=train_test,\n",
    "                                                                flag='item',\n",
    "                                                                mode='only',\n",
    "                                                                dim=dim,\n",
    "                                                                epochs=epochs,\n",
    "                                                                learning_rate=learning_rate\n",
    "                                                                )\n",
    "        np.save('../data/embedding/dict_embedding_item_only_{phase}.npy'.format(phase=phase),\n",
    "               dict_embedding_item_only)\n",
    "\n",
    "\n",
    "        print('------- user1 user2 user3 user4 user5 -------')\n",
    "        dict_embedding_user_only = matrix_word2vec_embedding(\n",
    "                                                                click_all=train_test,\n",
    "                                                                flag='user',\n",
    "                                                                mode='only',\n",
    "                                                                dim=dim,\n",
    "                                                                epochs=epochs,\n",
    "                                                                learning_rate=learning_rate\n",
    "                                                                )\n",
    "        np.save('../data/embedding/dict_embedding_user_only_{phase}.npy'.format(phase=phase),\n",
    "               dict_embedding_user_only)\n",
    "\n",
    "        \n",
    "    \n",
    "    print('------- Interactive Embedding Feature PCA -----------')\n",
    "\n",
    "    # dict_embedding_all_ui_item PCA\n",
    "    dict_embedding = dict_embedding_all_ui_item.copy()\n",
    "    dict_embedding_all_ui_item = {}\n",
    "    for i in ['user', 'item']:\n",
    "        tmp = pd.DataFrame(dict_embedding[i])\n",
    "        pca_ = embedding_fea_pca(tmp.T, n_components=pca_n_components) # 解释\n",
    "        tmp_pca = pd.DataFrame(pca_.T)\n",
    "        tmp_pca.columns = tmp.columns\n",
    "        dict_embedding_all_ui_item[i] = dict(tmp_pca)\n",
    "    \n",
    "    \n",
    "    # dict_embedding_all_ui_user PCA\n",
    "    dict_embedding = dict_embedding_all_ui_user.copy()\n",
    "    dict_embedding_all_ui_user = {}\n",
    "    for i in ['user', 'item']:\n",
    "        tmp = pd.DataFrame(dict_embedding[i])\n",
    "        pca_ = embedding_fea_pca(tmp.T, n_components=pca_n_components) # 解释\n",
    "        tmp_pca = pd.DataFrame(pca_.T)\n",
    "        tmp_pca.columns = tmp.columns\n",
    "        dict_embedding_all_ui_user[i] = dict(tmp_pca)\n",
    "    print('dict_embedding_all_ui_user是否降维成功........', len(dict_embedding_all_ui_user['user']['1']))    \n",
    "    del tmp, tmp_pca\n",
    "\n",
    "    \n",
    "    \n",
    "    print('------- user or item Embedding Feature Cluster -----------')\n",
    "\n",
    "    # dict_embedding_item_only聚类\n",
    "    item = pd.DataFrame(dict_embedding_item_only['item'])\n",
    "    km_cluster = KMeans(n_clusters=item_n_clusters, max_iter=300, n_init=40, \\\n",
    "                        init='k-means++') #, n_jobs=-1)\n",
    "    # 返回类索引\n",
    "    result = km_cluster.fit_predict(item.T)\n",
    "    item_cluster = pd.DataFrame({'item_id': item.columns, 'item_cluster': np.int16(result)})\n",
    "    del item, km_cluster, result, dict_embedding_item_only\n",
    "    \n",
    "    # dict_embedding_user_only聚类\n",
    "    user = pd.DataFrame(dict_embedding_user_only['user'])\n",
    "    km_cluster = KMeans(n_clusters=user_n_clusters, max_iter=300, n_init=40, \\\n",
    "                        init='k-means++') #, n_jobs=-1)\n",
    "    # 返回类索引\n",
    "    result = km_cluster.fit_predict(user.T)\n",
    "    user_cluster = pd.DataFrame({'user_id': user.columns, 'user_cluster': np.int16(result)})\n",
    "    del user, km_cluster, result, dict_embedding_user_only\n",
    "    \n",
    "    \n",
    "    # 加载聚类的统计特征\n",
    "    user_cluster_feat_ = user_cluster_feat(click_all, user_cluster)\n",
    "    item_cluster_feat_ = item_cluster_feat(click_all, item_cluster)\n",
    "\n",
    "    del click_all, user_cluster, item_cluster\n",
    "    \n",
    "    \n",
    "    print('------- 特征加工 -----------')\n",
    "\n",
    "    print('..............topk_recall shape:', topk_recall.shape)\n",
    "\n",
    "    \n",
    "#     feature_all = get_train_test_data(topk_recall,\n",
    "#                   matrix_association_rules, \n",
    "#                   time_feat,\n",
    "#                   user_cluster_feat_,\n",
    "#                   item_cluster_feat_,\n",
    "#                   item_hot_dict,\n",
    "#                   txt_cosine_similarity_dict,\n",
    "#                   img_cosine_similarity_dict,\n",
    "#                   dict_embedding_all_ui_item,\n",
    "#                   dict_embedding_all_ui_user,\n",
    "#                   flag_test,\n",
    "#                   click_topn)\n",
    "\n",
    "\n",
    "#     lprofiler = LineProfiler(get_train_test_data)\n",
    "#     lprofiler.run('get_train_test_data( topk_recall[:80000], matrix_association_rules, time_feat, user_cluster_feat_, item_cluster_feat_, item_hot_dict, txt_cosine_similarity_dict, img_cosine_similarity_dict, dict_embedding_all_ui_item, dict_embedding_all_ui_user, flag_test=False, click_topn=click_topn)')\n",
    "#     lprofiler.print_stats()\n",
    "\n",
    "\n",
    "    # 多进程构建特征\n",
    "    # 函数get_train_test_data内部已保存结果\n",
    "    if __name__=='__main__':\n",
    "        cpu_num = cpu_count()\n",
    "        \n",
    "        pool = Pool(open_cpu_n+1) # 创建一个多个进程的进程池\n",
    "        # 将topk_recall分batchs_n批次，并不是越大越好，启动进程也是需时间的\n",
    "        batch_size = topk_recall.shape[0]//(batchs_n)\n",
    "        \n",
    "        for batch in range(batchs_n):\n",
    "            start_index = batch * batch_size\n",
    "            if batch==cpu_num:\n",
    "                end_index = topk_recall.shape[0]\n",
    "            else:\n",
    "                end_index = (1+batch) * batch_size\n",
    "            p = pool.apply_async(func=get_train_test_data, \n",
    "                                                 args=(topk_recall[start_index:end_index],\n",
    "                                                       matrix_association_rules, \n",
    "                                                       time_feat,\n",
    "                                                       user_cluster_feat_,\n",
    "                                                       item_cluster_feat_,\n",
    "                                                       item_hot_dict,\n",
    "                                                       txt_cosine_similarity_dict,\n",
    "                                                       img_cosine_similarity_dict,\n",
    "                                                       dict_embedding_all_ui_item,\n",
    "                                                       dict_embedding_all_ui_user,\n",
    "                                                       phase,\n",
    "                                                       batch,\n",
    "                                                       flag_test,\n",
    "                                                       click_topn))            \n",
    "        pool.close()\n",
    "        pool.join() \n",
    "        \n",
    "        \"\"\"\n",
    "        遍历result列表，取出子进程对象，访问get()方法，获取返回值。（此时所有子进程已执行完毕）\n",
    "        result[0].get()\n",
    "        \"\"\"\n",
    "        print('进程结束') \n",
    "     \n",
    "    \n",
    "    \n",
    "#     # 释放内存\n",
    "# #     del topk_recall, matrix_association_rules, txt_cosine_similarity_dict, img_cosine_similarity_dict, dict_embedding_all_ui_item, dict_embedding_all_ui_user, dict_embedding_item_only, dict_embedding_user_only\n",
    "      \n",
    "    print('分片特征数据拼接')\n",
    "    # feature_all = Pool_feature_concat(feature_part)\n",
    "    # 加载暂存的特征数据\n",
    "    feature_all = load_pool_feature(phase=phase, batchs_n=batchs_n)\n",
    "    # 删除暂存的特征数据\n",
    "    remove_pool_feature(phase, batchs_n)\n",
    "\n",
    "\n",
    "    feature_all = add_time_statistics(feature_all, time_feat)\n",
    "    feature_all = add_user_statistics(feature_all, user_cluster_feat_)\n",
    "    feature_all = add_item_statistics(feature_all, item_cluster_feat_)\n",
    "    print('feature_all的列: ', feature_all.columns)\n",
    "    \n",
    "    \n",
    "    # 数据量太大了，保存占用空间\n",
    "    # print('特征数据保存')\n",
    "    # feature_all.to_pickle(\"../data/process/feature_all_phase{phase}_0002.pkl\".format(phase=phase))\n",
    "    \n",
    "    ############################## 整体数据特征 ############################## \n",
    "    print('--------------------------- 特征数据 ---------------------')\n",
    "    len_f = len(feature_all)\n",
    "    len_train = len(feature_all[feature_all['train_flag']=='train'])\n",
    "    len_test = len(feature_all[feature_all['train_flag']=='test'])\n",
    "    len_train_1 = len(feature_all[(feature_all['train_flag']=='train') & (feature_all['label']== 1)]) \n",
    "    print('所有数据条数', len_f)\n",
    "    print('训练数据 : ', len_train)\n",
    "    print('训练数据 label 1 : ', len_train_1)\n",
    "    print('训练数据 1 / 0 rate : ', len_train_1 * 1.0 / len_f)\n",
    "    print('测试数据 : ' , len_test)\n",
    "    print('flag : ', set(feature_all['train_flag']))\n",
    "\n",
    "    \n",
    "    ############################## 训练模型 ############################## \n",
    "    print('--------------------------- 训练模型 ---------------------')\n",
    "    submit = train_model_lgb(feature_all, recall_rate=hit_rate, hot_list=item_hot_list, valid=0.2, topk=50, \n",
    "                             num_boost_round=1500, early_stopping_rounds=500)\n",
    "\n",
    "    \n",
    "    # submit = train_model_rf(feature_all, recall_rate=hit_rate, hot_list=item_hot_list, valid=0.2, topk=50)\n",
    "    \n",
    "\n",
    "    print('--------------------------- 保存预测文件 ---------------------')\n",
    "    phase_submit_save(submit, phase, 50)\n"
   ]
  },
  {
   "cell_type": "code",
   "execution_count": null,
   "metadata": {},
   "outputs": [],
   "source": []
  },
  {
   "cell_type": "code",
   "execution_count": null,
   "metadata": {},
   "outputs": [],
   "source": []
  },
  {
   "cell_type": "code",
   "execution_count": 3,
   "metadata": {},
   "outputs": [
    {
     "name": "stdout",
     "output_type": "stream",
     "text": [
      "phase: 6\n",
      "================================== 加载click数据 ==================================\n",
      "================================== 生成中间数据 ==================================\n",
      "==================================== 召回 ====================================\n",
      "-------- 评测召回效果 -------------\n",
      "-------- 召回效果 -------------\n",
      "--------:phase:  6  -------------\n",
      "phase:  6  top_ 0  :  hit_num :  361 hit_rate :  0.01943472409152086  data_num :  18575\n",
      "\n",
      "phase:  6  top_ 70  :  hit_num :  2779 hit_rate :  0.14960969044414535  data_num :  18575\n",
      "\n",
      "phase:  6  top_ 140  :  hit_num :  3406 hit_rate :  0.18336473755047106  data_num :  18575\n",
      "\n",
      "phase:  6  top_ 210  :  hit_num :  3771 hit_rate :  0.20301480484522208  data_num :  18575\n",
      "\n",
      "phase:  6  top_ 280  :  hit_num :  4024 hit_rate :  0.21663526244952894  data_num :  18575\n",
      "\n",
      "phase:  6  top_ 350  :  hit_num :  4220 hit_rate :  0.2271870794078062  data_num :  18575\n",
      "\n",
      "phase:  6  top_ 420  :  hit_num :  4377 hit_rate :  0.2356393001345895  data_num :  18575\n",
      "\n",
      "phase:  6  top_ 490  :  hit_num :  4515 hit_rate :  0.24306864064602962  data_num :  18575\n",
      "\n",
      "phase:  6  top_ 560  :  hit_num :  4641 hit_rate :  0.24985195154777928  data_num :  18575\n",
      "\n",
      "phase:  6  top_ 630  :  hit_num :  4754 hit_rate :  0.25593539703903095  data_num :  18575\n",
      "\n",
      "phase:  6  top_ 700  :  hit_num :  4846 hit_rate :  0.26088829071332437  data_num :  18575\n",
      "\n",
      "召回TOP:700时, 命中百分比:0.26088829071332437\n",
      "==================================== 排序 ====================================\n",
      "-------- 构建特征 ---------\n",
      "-------- sku1 sku2 sku3 sku4 sku5 user ----------\n",
      "------- user1 user2 user3 user4 user5 sku -------\n",
      "------- item1 item2 item3 item4 item5 -------\n",
      "------- user1 user2 user3 user4 user5 -------\n",
      "------- Interactive Embedding Feature PCA -----------\n",
      "------- 降成5维后的方差百分比:  [0.08217483 0.06843234 0.06360221 0.05282828 0.04896561]\n",
      "------- 降成5维后的方差百分比:  [0.06571647 0.0562623  0.05109343 0.04555978 0.039969  ]\n",
      "------- 降成5维后的方差百分比:  [0.06540467 0.05653616 0.05323111 0.04526922 0.04330537]\n",
      "------- 降成5维后的方差百分比:  [0.09634772 0.08573639 0.07107616 0.06550201 0.05047962]\n",
      "dict_embedding_all_ui_user是否降维成功........ 5\n",
      "------- user or item Embedding Feature Cluster -----------\n",
      "------- 特征加工 -----------\n",
      "..............topk_recall shape: (14277200, 5)\n",
      "------- 构建样本 -----------\n",
      "............... train len= 863800\n",
      "............... test  len= 326200\n",
      "----------- 加入特征 train -----------\n"
     ]
    },
    {
     "name": "stderr",
     "output_type": "stream",
     "text": [
      "27829it [00:35, 788.59it/s]"
     ]
    },
    {
     "name": "stdout",
     "output_type": "stream",
     "text": [
      "------- 构建样本 -----------\n"
     ]
    },
    {
     "name": "stderr",
     "output_type": "stream",
     "text": [
      "31160it [00:40, 788.65it/s]"
     ]
    },
    {
     "name": "stdout",
     "output_type": "stream",
     "text": [
      "............... train len= 834400\n",
      "............... test  len= 308000\n"
     ]
    },
    {
     "name": "stderr",
     "output_type": "stream",
     "text": [
      "31477it [00:40, 788.88it/s]"
     ]
    },
    {
     "name": "stdout",
     "output_type": "stream",
     "text": [
      "----------- 加入特征 train -----------\n"
     ]
    },
    {
     "name": "stderr",
     "output_type": "stream",
     "text": [
      "58387it [01:15, 773.10it/s]"
     ]
    },
    {
     "name": "stdout",
     "output_type": "stream",
     "text": [
      "------- 构建样本 -----------\n"
     ]
    },
    {
     "name": "stderr",
     "output_type": "stream",
     "text": [
      "61609it [01:19, 786.29it/s]"
     ]
    },
    {
     "name": "stdout",
     "output_type": "stream",
     "text": [
      "............... train len= 800100\n",
      "............... test  len= 320600\n"
     ]
    },
    {
     "name": "stderr",
     "output_type": "stream",
     "text": [
      "61926it [01:19, 787.43it/s]"
     ]
    },
    {
     "name": "stdout",
     "output_type": "stream",
     "text": [
      "----------- 加入特征 train -----------\n"
     ]
    },
    {
     "name": "stderr",
     "output_type": "stream",
     "text": [
      "58394it [01:16, 766.12it/s]"
     ]
    },
    {
     "name": "stdout",
     "output_type": "stream",
     "text": [
      "------- 构建样本 -----------\n"
     ]
    },
    {
     "name": "stderr",
     "output_type": "stream",
     "text": [
      "93124it [02:01, 475.39it/s]"
     ]
    },
    {
     "name": "stdout",
     "output_type": "stream",
     "text": [
      "............... train len= 893900\n",
      "............... test  len= 319900\n"
     ]
    },
    {
     "name": "stderr",
     "output_type": "stream",
     "text": [
      "93433it [02:01, 668.63it/s]"
     ]
    },
    {
     "name": "stdout",
     "output_type": "stream",
     "text": [
      "----------- 加入特征 train -----------\n"
     ]
    },
    {
     "name": "stderr",
     "output_type": "stream",
     "text": [
      "800100it [18:24, 724.60it/s]\n",
      "834400it [19:04, 728.98it/s]\n",
      "863800it [19:47, 727.61it/s]\n",
      "787654it [18:04, 490.10it/s]"
     ]
    },
    {
     "name": "stdout",
     "output_type": "stream",
     "text": [
      "----------- 加入特征 test -----------\n"
     ]
    },
    {
     "name": "stderr",
     "output_type": "stream",
     "text": [
      "790130it [18:07, 776.93it/s]"
     ]
    },
    {
     "name": "stdout",
     "output_type": "stream",
     "text": [
      "----------- 加入特征 test -----------\n"
     ]
    },
    {
     "name": "stderr",
     "output_type": "stream",
     "text": [
      "4748it [00:06, 700.84it/s]s]"
     ]
    },
    {
     "name": "stdout",
     "output_type": "stream",
     "text": [
      "----------- 加入特征 test -----------\n"
     ]
    },
    {
     "name": "stderr",
     "output_type": "stream",
     "text": [
      "893900it [20:29, 726.94it/s]\n",
      "121769it [02:47, 780.08it/s]"
     ]
    },
    {
     "name": "stdout",
     "output_type": "stream",
     "text": [
      "----------- 加入特征 test -----------\n"
     ]
    },
    {
     "name": "stderr",
     "output_type": "stream",
     "text": [
      "308000it [07:02, 729.61it/s]\n",
      "320600it [07:16, 733.89it/s]\n",
      "326200it [07:28, 727.07it/s]\n",
      "319900it [07:09, 744.60it/s]\n"
     ]
    },
    {
     "name": "stdout",
     "output_type": "stream",
     "text": [
      "进程结束\n",
      "分片特征数据拼接\n",
      "Removed all files of '../cache/pool_feature_part_phase6...'\n",
      "feature_all的列:  Index(['similarity_d1', 'similarity_d2', 'score_similar', 'dim1_user_0',\n",
      "       'dim1_user_1', 'dim1_user_2', 'dim1_user_3', 'dim1_user_4',\n",
      "       'dim1_item_0', 'dim1_item_1', 'dim1_item_2', 'dim1_item_3',\n",
      "       'dim1_item_4', 'dim2_user_0', 'dim2_user_1', 'dim2_user_2',\n",
      "       'dim2_user_3', 'dim2_user_4', 'dim2_item_0', 'dim2_item_1',\n",
      "       'dim2_item_2', 'dim2_item_3', 'dim2_item_4', 'clicked_item_0',\n",
      "       'clicked_item_0_cnt', 'clicked_item_0_to_item_0_score',\n",
      "       'item_0_to_clicked_item_0_txt_cosine_sim',\n",
      "       'item_0_to_clicked_item_0_img_cosine_sim',\n",
      "       'clicked_item_0_item_cluster', 'clicked_item_0_item_cluster_cnt',\n",
      "       'clicked_item_0_item_cluster_user_cnt',\n",
      "       'clicked_item_0_item_cluster_item_cnt', 'clicked_item_1',\n",
      "       'clicked_item_1_cnt', 'clicked_item_1_to_item_1_score',\n",
      "       'item_1_to_clicked_item_1_txt_cosine_sim',\n",
      "       'item_1_to_clicked_item_1_img_cosine_sim',\n",
      "       'clicked_item_1_item_cluster', 'clicked_item_1_item_cluster_cnt',\n",
      "       'clicked_item_1_item_cluster_user_cnt',\n",
      "       'clicked_item_1_item_cluster_item_cnt', 'clicked_item_2',\n",
      "       'clicked_item_2_cnt', 'clicked_item_2_to_item_2_score',\n",
      "       'item_2_to_clicked_item_2_txt_cosine_sim',\n",
      "       'item_2_to_clicked_item_2_img_cosine_sim',\n",
      "       'clicked_item_2_item_cluster', 'clicked_item_2_item_cluster_cnt',\n",
      "       'clicked_item_2_item_cluster_user_cnt',\n",
      "       'clicked_item_2_item_cluster_item_cnt', 'clicked_item_3',\n",
      "       'clicked_item_3_cnt', 'clicked_item_3_to_item_3_score',\n",
      "       'item_3_to_clicked_item_3_txt_cosine_sim',\n",
      "       'item_3_to_clicked_item_3_img_cosine_sim',\n",
      "       'clicked_item_3_item_cluster', 'clicked_item_3_item_cluster_cnt',\n",
      "       'clicked_item_3_item_cluster_user_cnt',\n",
      "       'clicked_item_3_item_cluster_item_cnt', 'clicked_item_4',\n",
      "       'clicked_item_4_cnt', 'clicked_item_4_to_item_4_score',\n",
      "       'item_4_to_clicked_item_4_txt_cosine_sim',\n",
      "       'item_4_to_clicked_item_4_img_cosine_sim',\n",
      "       'clicked_item_4_item_cluster', 'clicked_item_4_item_cluster_cnt',\n",
      "       'clicked_item_4_item_cluster_user_cnt',\n",
      "       'clicked_item_4_item_cluster_item_cnt', 'train_flag', 'user_id',\n",
      "       'item_similar', 'label', 'user_click_item_num', 'time_max_min_minus',\n",
      "       'time_diff_mean', 'time_mean', 'time_std', 'time_max', 'time_min',\n",
      "       'user_cluster', 'user_cluster_cnt', 'user_cluster_user_cnt',\n",
      "       'user_cluster_item_cnt', 'item_cluster', 'item_cluster_cnt',\n",
      "       'item_cluster_user_cnt', 'item_cluster_item_cnt'],\n",
      "      dtype='object')\n",
      "--------------------------- 特征数据 ---------------------\n",
      "所有数据条数 4666900\n",
      "训练数据 :  3392200\n",
      "训练数据 label 1 :  4846\n",
      "训练数据 1 / 0 rate :  0.0010383766525959416\n",
      "测试数据 :  1274700\n",
      "flag :  {'test', 'train'}\n",
      "--------------------------- 训练模型 ---------------------\n",
      "Training until validation scores don't improve for 500 rounds\n",
      "[50]\tvalid_0's ndcg@1: 0.980397\tvalid_0's ndcg@2: 0.990161\tvalid_0's ndcg@3: 0.991064\tvalid_0's ndcg@4: 0.991286\tvalid_0's ndcg@5: 0.991286\n",
      "[100]\tvalid_0's ndcg@1: 0.983492\tvalid_0's ndcg@2: 0.991304\tvalid_0's ndcg@3: 0.992335\tvalid_0's ndcg@4: 0.992447\tvalid_0's ndcg@5: 0.992447\n",
      "[150]\tvalid_0's ndcg@1: 0.984782\tvalid_0's ndcg@2: 0.991617\tvalid_0's ndcg@3: 0.992778\tvalid_0's ndcg@4: 0.992889\tvalid_0's ndcg@5: 0.992889\n",
      "[200]\tvalid_0's ndcg@1: 0.985298\tvalid_0's ndcg@2: 0.992458\tvalid_0's ndcg@3: 0.993748\tvalid_0's ndcg@4: 0.99397\tvalid_0's ndcg@5: 0.99397\n",
      "[250]\tvalid_0's ndcg@1: 0.98504\tvalid_0's ndcg@2: 0.991875\tvalid_0's ndcg@3: 0.993165\tvalid_0's ndcg@4: 0.993276\tvalid_0's ndcg@5: 0.993276\n",
      "[300]\tvalid_0's ndcg@1: 0.986072\tvalid_0's ndcg@2: 0.992256\tvalid_0's ndcg@3: 0.993416\tvalid_0's ndcg@4: 0.993527\tvalid_0's ndcg@5: 0.993527\n",
      "[350]\tvalid_0's ndcg@1: 0.98633\tvalid_0's ndcg@2: 0.992351\tvalid_0's ndcg@3: 0.993512\tvalid_0's ndcg@4: 0.993623\tvalid_0's ndcg@5: 0.993623\n",
      "[400]\tvalid_0's ndcg@1: 0.985556\tvalid_0's ndcg@2: 0.992228\tvalid_0's ndcg@3: 0.99326\tvalid_0's ndcg@4: 0.993371\tvalid_0's ndcg@5: 0.993371\n",
      "[450]\tvalid_0's ndcg@1: 0.985814\tvalid_0's ndcg@2: 0.992323\tvalid_0's ndcg@3: 0.993355\tvalid_0's ndcg@4: 0.993466\tvalid_0's ndcg@5: 0.993466\n",
      "[500]\tvalid_0's ndcg@1: 0.985814\tvalid_0's ndcg@2: 0.992323\tvalid_0's ndcg@3: 0.993355\tvalid_0's ndcg@4: 0.993466\tvalid_0's ndcg@5: 0.993466\n",
      "[550]\tvalid_0's ndcg@1: 0.985814\tvalid_0's ndcg@2: 0.992323\tvalid_0's ndcg@3: 0.993355\tvalid_0's ndcg@4: 0.993466\tvalid_0's ndcg@5: 0.993466\n",
      "[600]\tvalid_0's ndcg@1: 0.985814\tvalid_0's ndcg@2: 0.992323\tvalid_0's ndcg@3: 0.993355\tvalid_0's ndcg@4: 0.993466\tvalid_0's ndcg@5: 0.993466\n",
      "[650]\tvalid_0's ndcg@1: 0.986072\tvalid_0's ndcg@2: 0.992418\tvalid_0's ndcg@3: 0.99345\tvalid_0's ndcg@4: 0.993561\tvalid_0's ndcg@5: 0.993561\n",
      "Early stopping, best iteration is:\n",
      "[165]\tvalid_0's ndcg@1: 0.987103\tvalid_0's ndcg@2: 0.992962\tvalid_0's ndcg@3: 0.994252\tvalid_0's ndcg@4: 0.994474\tvalid_0's ndcg@5: 0.994474\n",
      "------------- eval -------------\n",
      "------------- eval result -------------\n",
      "hitrate_50_full :  0.26082099943380066 ndcg_50_full :  636.036287649493 \n",
      "\n",
      "hitrate_50_half :  0.06789690103939755 ndcg_50_half :  165.93352606333292 \n",
      "\n",
      "------------- eval result -------------\n",
      "------------- predict -------------\n",
      "------------- assert -------------\n",
      "LGBM的特征重要性...\n"
     ]
    },
    {
     "data": {
      "text/plain": [
       "<Figure size 1080x720 with 0 Axes>"
      ]
     },
     "metadata": {},
     "output_type": "display_data"
    },
    {
     "data": {
      "image/png": "[encoded data removed]",
      "text/plain": [
       "<Figure size 432x288 with 1 Axes>"
      ]
     },
     "metadata": {
      "needs_background": "light"
     },
     "output_type": "display_data"
    },
    {
     "name": "stdout",
     "output_type": "stream",
     "text": [
      "--------------------------- 保存预测文件 ---------------------\n"
     ]
    }
   ],
   "source": [
    "\n",
    "now_phase = 6\n",
    "\n",
    "\n",
    "for phase in range(now_phase, now_phase + 1):  \n",
    "    print('phase:', phase)\n",
    "    \"\"\"\n",
    "    train_test: 训练测试点击数据\n",
    "    item_hot_list: 项目热度list\n",
    "    dict_label_user_item: 训练点击中用户——最后一次点击项目字典\n",
    "    item_hot_dict: 项目热度字典\n",
    "    time_feat：用户点击时间特征\n",
    "    \n",
    "    \"\"\"\n",
    "    click_all, test_user_set = load_click_data(phase, nrows=nrows)\n",
    "    train_test, item_hot_list, dict_label_user_item, item_hot_dict, time_feat = data_generate(click_all, test_user_set)\n",
    "\n",
    "    \n",
    "    \n",
    "    print('==================================== 召回 ====================================')\n",
    "    \n",
    "    # TODO: 增加其它召回\n",
    "    if topk_recall_read:\n",
    "        topk_recall = pd.read_pickle('../data/recall/topk_recall_{phase}.pkl'.format(phase=phase))\n",
    "        matrix_association_rules = np.load('../data/recall/matrix_association_rules_{phase}.npy'.format(phase=phase), allow_pickle=True).item()\n",
    "\n",
    "    else:\n",
    "        topk_recall, matrix_association_rules = topk_recall_association_rules_qyxs_icf(\n",
    "                                                click_all=train_test,\n",
    "                                                dict_label=dict_label_user_item, \n",
    "                                                k=recall_num\n",
    "                                                )\n",
    "        topk_recall.to_pickle('../data/recall/topk_recall_{phase}.pkl'.format(phase=phase))\n",
    "        np.save('../data/recall/matrix_association_rules_{phase}.npy'.format(phase=phase), matrix_association_rules)\n",
    "\n",
    "\n",
    "    print('-------- 评测召回效果 -------------')\n",
    "    hit_rate = metrics_recall(topk_recall=topk_recall, phase=phase, k=recall_num, sep=int(recall_num/10))\n",
    "    print('召回TOP:{k}时, 命中百分比:{hit_rate}'.format(k=recall_num, hit_rate=hit_rate))\n",
    "\n",
    "    \n",
    "    \n",
    "    print('==================================== 排序 ====================================')\n",
    "    print('-------- 构建特征 ---------')\n",
    "    \n",
    "    dim, epochs, learning_rate = 30, 15, 0.1 # 由于内存问题，size改回30\n",
    "    if embedding_feat_read:\n",
    "        print('-------- sku1 sku2 sku3 sku4 sku5 user ----------')\n",
    "        dict_embedding_all_ui_item = np.load('../data/embedding/dict_embedding_all_ui_item_{phase}.npy'.format(phase=phase), \n",
    "                                             allow_pickle=True).item()\n",
    "        \n",
    "        print('------- user1 user2 user3 user4 user5 sku -------')\n",
    "        dict_embedding_all_ui_user = np.load('../data/embedding/dict_embedding_all_ui_user_{phase}.npy'.format(phase=phase), \n",
    "                                             allow_pickle=True).item()\n",
    "        \n",
    "        print('------- item1 item2 item3 item4 item5 -------')\n",
    "        dict_embedding_item_only = np.load('../data/embedding/dict_embedding_item_only_{phase}.npy'.format(phase=phase), \n",
    "                                           allow_pickle=True).item()\n",
    "        \n",
    "        print('------- user1 user2 user3 user4 user5 -------')\n",
    "        dict_embedding_user_only = np.load('../data/embedding/dict_embedding_user_only_{phase}.npy'.format(phase=phase), \n",
    "                                           allow_pickle=True).item()\n",
    "\n",
    "    else:\n",
    "        print('-------- sku1 sku2 sku3 sku4 sku5 user ----------')\n",
    "        dict_embedding_all_ui_item = matrix_word2vec_embedding(\n",
    "                                                                click_all=train_test,\n",
    "                                                                flag='item',\n",
    "                                                                mode='all',\n",
    "                                                                dim=dim,\n",
    "                                                                epochs=epochs,\n",
    "                                                                learning_rate=learning_rate\n",
    "                                                                )\n",
    "        np.save('../data/embedding/dict_embedding_all_ui_item_{phase}.npy'.format(phase=phase),\n",
    "               dict_embedding_all_ui_item)\n",
    "\n",
    "\n",
    "        print('------- user1 user2 user3 user4 user5 sku -------')\n",
    "        dict_embedding_all_ui_user = matrix_word2vec_embedding(\n",
    "                                                                click_all=train_test,\n",
    "                                                                flag='user',\n",
    "                                                                mode='all',\n",
    "                                                                dim=dim,\n",
    "                                                                epochs=epochs,\n",
    "                                                                learning_rate=learning_rate\n",
    "                                                                )\n",
    "        np.save('../data/embedding/dict_embedding_all_ui_user_{phase}.npy'.format(phase=phase),\n",
    "               dict_embedding_all_ui_user)\n",
    "\n",
    "\n",
    "        print('------- item1 item2 item3 item4 item5 -------')\n",
    "        dict_embedding_item_only = matrix_word2vec_embedding(\n",
    "                                                                click_all=train_test,\n",
    "                                                                flag='item',\n",
    "                                                                mode='only',\n",
    "                                                                dim=dim,\n",
    "                                                                epochs=epochs,\n",
    "                                                                learning_rate=learning_rate\n",
    "                                                                )\n",
    "        np.save('../data/embedding/dict_embedding_item_only_{phase}.npy'.format(phase=phase),\n",
    "               dict_embedding_item_only)\n",
    "\n",
    "\n",
    "        print('------- user1 user2 user3 user4 user5 -------')\n",
    "        dict_embedding_user_only = matrix_word2vec_embedding(\n",
    "                                                                click_all=train_test,\n",
    "                                                                flag='user',\n",
    "                                                                mode='only',\n",
    "                                                                dim=dim,\n",
    "                                                                epochs=epochs,\n",
    "                                                                learning_rate=learning_rate\n",
    "                                                                )\n",
    "        np.save('../data/embedding/dict_embedding_user_only_{phase}.npy'.format(phase=phase),\n",
    "               dict_embedding_user_only)\n",
    "\n",
    "        \n",
    "    \n",
    "    print('------- Interactive Embedding Feature PCA -----------')\n",
    "\n",
    "    # dict_embedding_all_ui_item PCA\n",
    "    dict_embedding = dict_embedding_all_ui_item.copy()\n",
    "    dict_embedding_all_ui_item = {}\n",
    "    for i in ['user', 'item']:\n",
    "        tmp = pd.DataFrame(dict_embedding[i])\n",
    "        pca_ = embedding_fea_pca(tmp.T, n_components=pca_n_components) # 解释\n",
    "        tmp_pca = pd.DataFrame(pca_.T)\n",
    "        tmp_pca.columns = tmp.columns\n",
    "        dict_embedding_all_ui_item[i] = dict(tmp_pca)\n",
    "    \n",
    "    \n",
    "    # dict_embedding_all_ui_user PCA\n",
    "    dict_embedding = dict_embedding_all_ui_user.copy()\n",
    "    dict_embedding_all_ui_user = {}\n",
    "    for i in ['user', 'item']:\n",
    "        tmp = pd.DataFrame(dict_embedding[i])\n",
    "        pca_ = embedding_fea_pca(tmp.T, n_components=pca_n_components) # 解释\n",
    "        tmp_pca = pd.DataFrame(pca_.T)\n",
    "        tmp_pca.columns = tmp.columns\n",
    "        dict_embedding_all_ui_user[i] = dict(tmp_pca)\n",
    "    print('dict_embedding_all_ui_user是否降维成功........', len(dict_embedding_all_ui_user['user']['1']))    \n",
    "    del tmp, tmp_pca\n",
    "\n",
    "    \n",
    "    \n",
    "    print('------- user or item Embedding Feature Cluster -----------')\n",
    "\n",
    "    # dict_embedding_item_only聚类\n",
    "    item = pd.DataFrame(dict_embedding_item_only['item'])\n",
    "    km_cluster = KMeans(n_clusters=item_n_clusters, max_iter=300, n_init=40, \\\n",
    "                        init='k-means++') #, n_jobs=-1)\n",
    "    # 返回类索引\n",
    "    result = km_cluster.fit_predict(item.T)\n",
    "    item_cluster = pd.DataFrame({'item_id': item.columns, 'item_cluster': np.int16(result)})\n",
    "    del item, km_cluster, result, dict_embedding_item_only\n",
    "    \n",
    "    # dict_embedding_user_only聚类\n",
    "    user = pd.DataFrame(dict_embedding_user_only['user'])\n",
    "    km_cluster = KMeans(n_clusters=user_n_clusters, max_iter=300, n_init=40, \\\n",
    "                        init='k-means++') #, n_jobs=-1)\n",
    "    # 返回类索引\n",
    "    result = km_cluster.fit_predict(user.T)\n",
    "    user_cluster = pd.DataFrame({'user_id': user.columns, 'user_cluster': np.int16(result)})\n",
    "    del user, km_cluster, result, dict_embedding_user_only\n",
    "    \n",
    "    \n",
    "    # 加载聚类的统计特征\n",
    "    user_cluster_feat_ = user_cluster_feat(click_all, user_cluster)\n",
    "    item_cluster_feat_ = item_cluster_feat(click_all, item_cluster)\n",
    "\n",
    "    del click_all, user_cluster, item_cluster\n",
    "    \n",
    "    \n",
    "    print('------- 特征加工 -----------')\n",
    "\n",
    "    print('..............topk_recall shape:', topk_recall.shape)\n",
    "\n",
    "    \n",
    "#     feature_all = get_train_test_data(topk_recall,\n",
    "#                   matrix_association_rules, \n",
    "#                   time_feat,\n",
    "#                   user_cluster_feat_,\n",
    "#                   item_cluster_feat_,\n",
    "#                   item_hot_dict,\n",
    "#                   txt_cosine_similarity_dict,\n",
    "#                   img_cosine_similarity_dict,\n",
    "#                   dict_embedding_all_ui_item,\n",
    "#                   dict_embedding_all_ui_user,\n",
    "#                   flag_test,\n",
    "#                   click_topn)\n",
    "\n",
    "\n",
    "#     lprofiler = LineProfiler(get_train_test_data)\n",
    "#     lprofiler.run('get_train_test_data( topk_recall[:80000], matrix_association_rules, time_feat, user_cluster_feat_, item_cluster_feat_, item_hot_dict, txt_cosine_similarity_dict, img_cosine_similarity_dict, dict_embedding_all_ui_item, dict_embedding_all_ui_user, flag_test=False, click_topn=click_topn)')\n",
    "#     lprofiler.print_stats()\n",
    "\n",
    "\n",
    "    # 多进程构建特征\n",
    "    # 函数get_train_test_data内部已保存结果\n",
    "    if __name__=='__main__':\n",
    "        cpu_num = cpu_count()\n",
    "        \n",
    "        pool = Pool(open_cpu_n+1) # 创建一个多个进程的进程池\n",
    "        feature_part = []\n",
    "        # 将topk_recall分batchs_n批次，并不是越大越好，启动进程也是需时间的\n",
    "        batch_size = topk_recall.shape[0]//(batchs_n)\n",
    "        \n",
    "        for batch in range(batchs_n):\n",
    "            start_index = batch * batch_size\n",
    "            if batch==cpu_num:\n",
    "                end_index = topk_recall.shape[0]\n",
    "            else:\n",
    "                end_index = (1+batch) * batch_size\n",
    "            feature_part.append(pool.apply_async(func=get_train_test_data, \n",
    "                                                 args=(topk_recall[start_index:end_index],\n",
    "                                                       matrix_association_rules, \n",
    "                                                       time_feat,\n",
    "                                                       user_cluster_feat_,\n",
    "                                                       item_cluster_feat_,\n",
    "                                                       item_hot_dict,\n",
    "                                                       txt_cosine_similarity_dict,\n",
    "                                                       img_cosine_similarity_dict,\n",
    "                                                       dict_embedding_all_ui_item,\n",
    "                                                       dict_embedding_all_ui_user,\n",
    "                                                       phase,\n",
    "                                                       batch,\n",
    "                                                       flag_test,\n",
    "                                                       click_topn)))            \n",
    "        pool.close()\n",
    "        pool.join() \n",
    "        \n",
    "        \"\"\"\n",
    "        遍历result列表，取出子进程对象，访问get()方法，获取返回值。（此时所有子进程已执行完毕）\n",
    "        result[0].get()\n",
    "        \"\"\"\n",
    "        print('进程结束') \n",
    "     \n",
    "    \n",
    "    \n",
    "#     # 释放内存\n",
    "# #     del topk_recall, matrix_association_rules, txt_cosine_similarity_dict, img_cosine_similarity_dict, dict_embedding_all_ui_item, dict_embedding_all_ui_user, dict_embedding_item_only, dict_embedding_user_only\n",
    "      \n",
    "    print('分片特征数据拼接')\n",
    "    # feature_all = Pool_feature_concat(feature_part)\n",
    "    # 加载暂存的特征数据\n",
    "    feature_all = load_pool_feature(phase=phase, batchs_n=batchs_n)\n",
    "    # 删除暂存的特征数据\n",
    "    remove_pool_feature(phase, batchs_n)\n",
    "\n",
    "\n",
    "    feature_all = add_time_statistics(feature_all, time_feat)\n",
    "    feature_all = add_user_statistics(feature_all, user_cluster_feat_)\n",
    "    feature_all = add_item_statistics(feature_all, item_cluster_feat_)\n",
    "    print('feature_all的列: ', feature_all.columns)\n",
    "    \n",
    "    \n",
    "    # 数据量太大了，保存占用空间\n",
    "    # print('特征数据保存')\n",
    "    # feature_all.to_pickle(\"../data/process/feature_all_phase{phase}_0002.pkl\".format(phase=phase))\n",
    "    \n",
    "    ############################## 整体数据特征 ############################## \n",
    "    print('--------------------------- 特征数据 ---------------------')\n",
    "    len_f = len(feature_all)\n",
    "    len_train = len(feature_all[feature_all['train_flag']=='train'])\n",
    "    len_test = len(feature_all[feature_all['train_flag']=='test'])\n",
    "    len_train_1 = len(feature_all[(feature_all['train_flag']=='train') & (feature_all['label']== 1)]) \n",
    "    print('所有数据条数', len_f)\n",
    "    print('训练数据 : ', len_train)\n",
    "    print('训练数据 label 1 : ', len_train_1)\n",
    "    print('训练数据 1 / 0 rate : ', len_train_1 * 1.0 / len_f)\n",
    "    print('测试数据 : ' , len_test)\n",
    "    print('flag : ', set(feature_all['train_flag']))\n",
    "\n",
    "    \n",
    "    ############################## 训练模型 ############################## \n",
    "    print('--------------------------- 训练模型 ---------------------')\n",
    "    submit = train_model_lgb(feature_all, recall_rate=hit_rate, hot_list=item_hot_list, valid=0.2, topk=50, \n",
    "                             num_boost_round=1500, early_stopping_rounds=500)\n",
    "\n",
    "    \n",
    "    # submit = train_model_rf(feature_all, recall_rate=hit_rate, hot_list=item_hot_list, valid=0.2, topk=50)\n",
    "    \n",
    "\n",
    "    print('--------------------------- 保存预测文件 ---------------------')\n",
    "    phase_submit_save(submit, phase, 50)\n"
   ]
  },
  {
   "cell_type": "code",
   "execution_count": null,
   "metadata": {},
   "outputs": [],
   "source": []
  },
  {
   "cell_type": "code",
   "execution_count": null,
   "metadata": {},
   "outputs": [],
   "source": []
  },
  {
   "cell_type": "code",
   "execution_count": 3,
   "metadata": {},
   "outputs": [
    {
     "name": "stdout",
     "output_type": "stream",
     "text": [
      "phase: 4\n",
      "================================== 加载click数据 ==================================\n",
      "================================== 生成中间数据 ==================================\n",
      "==================================== 召回 ====================================\n",
      "-------- 评测召回效果 -------------\n",
      "-------- 召回效果 -------------\n",
      "--------:phase:  4  -------------\n",
      "phase:  4  top_ 0  :  hit_num :  320 hit_rate :  0.018923713778829097  data_num :  16910\n",
      "\n",
      "phase:  4  top_ 70  :  hit_num :  2492 hit_rate :  0.14736842105263157  data_num :  16910\n",
      "\n",
      "phase:  4  top_ 140  :  hit_num :  3092 hit_rate :  0.18285038438793613  data_num :  16910\n",
      "\n",
      "phase:  4  top_ 210  :  hit_num :  3402 hit_rate :  0.20118273211117682  data_num :  16910\n",
      "\n",
      "phase:  4  top_ 280  :  hit_num :  3660 hit_rate :  0.21643997634535778  data_num :  16910\n",
      "\n",
      "phase:  4  top_ 350  :  hit_num :  3825 hit_rate :  0.22619751626256654  data_num :  16910\n",
      "\n",
      "phase:  4  top_ 420  :  hit_num :  3985 hit_rate :  0.23565937315198107  data_num :  16910\n",
      "\n",
      "phase:  4  top_ 490  :  hit_num :  4096 hit_rate :  0.24222353636901242  data_num :  16910\n",
      "\n",
      "phase:  4  top_ 560  :  hit_num :  4199 hit_rate :  0.24831460674157305  data_num :  16910\n",
      "\n",
      "phase:  4  top_ 630  :  hit_num :  4298 hit_rate :  0.2541691306918983  data_num :  16910\n",
      "\n",
      "phase:  4  top_ 700  :  hit_num :  4377 hit_rate :  0.25884092253104674  data_num :  16910\n",
      "\n",
      "召回TOP:700时, 命中百分比:0.25884092253104674\n",
      "==================================== 排序 ====================================\n",
      "-------- 构建特征 ---------\n",
      "-------- sku1 sku2 sku3 sku4 sku5 user ----------\n",
      "------- user1 user2 user3 user4 user5 sku -------\n",
      "------- item1 item2 item3 item4 item5 -------\n",
      "------- user1 user2 user3 user4 user5 -------\n",
      "------- Interactive Embedding Feature PCA -----------\n",
      "------- 降成5维后的方差百分比:  [0.08048086 0.0697763  0.06085119 0.0552594  0.04982492]\n",
      "------- 降成5维后的方差百分比:  [0.06523261 0.05609403 0.04955317 0.04423828 0.04174326]\n",
      "------- 降成5维后的方差百分比:  [0.06323218 0.05620014 0.05266305 0.04403621 0.04301058]\n",
      "------- 降成5维后的方差百分比:  [0.09758387 0.07815868 0.06925765 0.05905935 0.05134237]\n",
      "dict_embedding_all_ui_user是否降维成功........ 5\n",
      "------- user or item Embedding Feature Cluster -----------\n",
      "------- 特征加工 -----------\n",
      "..............topk_recall shape: (13032600, 5)\n",
      "------- 构建样本 -----------\n",
      "............... train len= 619920\n",
      "............... test  len= 241500\n",
      "----------- 加入特征 train -----------\n"
     ]
    },
    {
     "name": "stderr",
     "output_type": "stream",
     "text": [
      "23521it [00:29, 801.28it/s]"
     ]
    },
    {
     "name": "stdout",
     "output_type": "stream",
     "text": [
      "------- 构建样本 -----------\n"
     ]
    },
    {
     "name": "stderr",
     "output_type": "stream",
     "text": [
      "25787it [00:32, 740.43it/s]"
     ]
    },
    {
     "name": "stdout",
     "output_type": "stream",
     "text": [
      "............... train len= 579600\n"
     ]
    },
    {
     "name": "stderr",
     "output_type": "stream",
     "text": [
      "\r",
      "25863it [00:32, 713.17it/s]"
     ]
    },
    {
     "name": "stdout",
     "output_type": "stream",
     "text": [
      "............... test  len= 250600\n"
     ]
    },
    {
     "name": "stderr",
     "output_type": "stream",
     "text": [
      "26106it [00:32, 771.06it/s]"
     ]
    },
    {
     "name": "stdout",
     "output_type": "stream",
     "text": [
      "----------- 加入特征 train -----------\n"
     ]
    },
    {
     "name": "stderr",
     "output_type": "stream",
     "text": [
      "24375it [00:30, 780.12it/s]"
     ]
    },
    {
     "name": "stdout",
     "output_type": "stream",
     "text": [
      "------- 构建样本 -----------\n"
     ]
    },
    {
     "name": "stderr",
     "output_type": "stream",
     "text": [
      "52981it [01:06, 792.32it/s]"
     ]
    },
    {
     "name": "stdout",
     "output_type": "stream",
     "text": [
      "............... train len= 623700\n",
      "............... test  len= 231700\n"
     ]
    },
    {
     "name": "stderr",
     "output_type": "stream",
     "text": [
      "53301it [01:06, 794.86it/s]"
     ]
    },
    {
     "name": "stdout",
     "output_type": "stream",
     "text": [
      "----------- 加入特征 train -----------\n"
     ]
    },
    {
     "name": "stderr",
     "output_type": "stream",
     "text": [
      "76711it [01:38, 642.97it/s]"
     ]
    },
    {
     "name": "stdout",
     "output_type": "stream",
     "text": [
      "------- 构建样本 -----------\n"
     ]
    },
    {
     "name": "stderr",
     "output_type": "stream",
     "text": [
      "52351it [01:09, 655.47it/s]"
     ]
    },
    {
     "name": "stdout",
     "output_type": "stream",
     "text": [
      "............... train len= 565600\n",
      "............... test  len= 233100\n"
     ]
    },
    {
     "name": "stderr",
     "output_type": "stream",
     "text": [
      "52652it [01:09, 721.92it/s]"
     ]
    },
    {
     "name": "stdout",
     "output_type": "stream",
     "text": [
      "----------- 加入特征 train -----------\n"
     ]
    },
    {
     "name": "stderr",
     "output_type": "stream",
     "text": [
      "20392it [00:34, 530.15it/s]]"
     ]
    },
    {
     "name": "stdout",
     "output_type": "stream",
     "text": [
      "------- 构建样本 -----------\n"
     ]
    },
    {
     "name": "stderr",
     "output_type": "stream",
     "text": [
      "76500it [01:48, 500.42it/s]]"
     ]
    },
    {
     "name": "stdout",
     "output_type": "stream",
     "text": [
      "............... train len= 674800\n",
      "............... test  len= 238700\n"
     ]
    },
    {
     "name": "stderr",
     "output_type": "stream",
     "text": [
      "49999it [01:14, 565.34it/s]]"
     ]
    },
    {
     "name": "stdout",
     "output_type": "stream",
     "text": [
      "----------- 加入特征 train -----------\n"
     ]
    },
    {
     "name": "stderr",
     "output_type": "stream",
     "text": [
      "579600it [15:38, 617.79it/s]\n",
      "564538it [15:24, 611.60it/s]"
     ]
    },
    {
     "name": "stdout",
     "output_type": "stream",
     "text": [
      "----------- 加入特征 test -----------\n"
     ]
    },
    {
     "name": "stderr",
     "output_type": "stream",
     "text": [
      "619920it [16:34, 623.26it/s]\n",
      "535444it [14:35, 606.51it/s]"
     ]
    },
    {
     "name": "stdout",
     "output_type": "stream",
     "text": [
      "----------- 加入特征 test -----------\n"
     ]
    },
    {
     "name": "stderr",
     "output_type": "stream",
     "text": [
      "565600it [15:29, 608.71it/s]\n",
      "556494it [15:10, 672.78it/s]"
     ]
    },
    {
     "name": "stdout",
     "output_type": "stream",
     "text": [
      "----------- 加入特征 test -----------\n"
     ]
    },
    {
     "name": "stderr",
     "output_type": "stream",
     "text": [
      "623700it [16:59, 611.67it/s]\n",
      "69888it [01:55, 638.87it/s]]"
     ]
    },
    {
     "name": "stdout",
     "output_type": "stream",
     "text": [
      "----------- 加入特征 test -----------\n"
     ]
    },
    {
     "name": "stderr",
     "output_type": "stream",
     "text": [
      "674800it [18:21, 612.45it/s]\n",
      "134218it [03:36, 721.69it/s]"
     ]
    },
    {
     "name": "stdout",
     "output_type": "stream",
     "text": [
      "----------- 加入特征 test -----------\n"
     ]
    },
    {
     "name": "stderr",
     "output_type": "stream",
     "text": [
      "250600it [06:52, 606.81it/s]\n",
      "241500it [06:39, 604.78it/s]\n",
      "233100it [06:19, 614.60it/s]\n",
      "231700it [06:07, 629.99it/s]\n",
      "238700it [05:37, 707.72it/s]\n"
     ]
    },
    {
     "name": "stdout",
     "output_type": "stream",
     "text": [
      "进程结束\n",
      "分片特征数据拼接\n",
      "feature_all的列:  Index(['similarity_d1', 'similarity_d2', 'score_similar', 'dim1_user_0',\n",
      "       'dim1_user_1', 'dim1_user_2', 'dim1_user_3', 'dim1_user_4',\n",
      "       'dim1_item_0', 'dim1_item_1', 'dim1_item_2', 'dim1_item_3',\n",
      "       'dim1_item_4', 'dim2_user_0', 'dim2_user_1', 'dim2_user_2',\n",
      "       'dim2_user_3', 'dim2_user_4', 'dim2_item_0', 'dim2_item_1',\n",
      "       'dim2_item_2', 'dim2_item_3', 'dim2_item_4', 'clicked_item_0',\n",
      "       'clicked_item_0_cnt', 'clicked_item_0_to_item_0_score',\n",
      "       'item_0_to_clicked_item_0_txt_cosine_sim',\n",
      "       'item_0_to_clicked_item_0_img_cosine_sim',\n",
      "       'clicked_item_0_item_cluster', 'clicked_item_0_item_cluster_cnt',\n",
      "       'clicked_item_0_item_cluster_user_cnt',\n",
      "       'clicked_item_0_item_cluster_item_cnt', 'clicked_item_1',\n",
      "       'clicked_item_1_cnt', 'clicked_item_1_to_item_1_score',\n",
      "       'item_1_to_clicked_item_1_txt_cosine_sim',\n",
      "       'item_1_to_clicked_item_1_img_cosine_sim',\n",
      "       'clicked_item_1_item_cluster', 'clicked_item_1_item_cluster_cnt',\n",
      "       'clicked_item_1_item_cluster_user_cnt',\n",
      "       'clicked_item_1_item_cluster_item_cnt', 'clicked_item_2',\n",
      "       'clicked_item_2_cnt', 'clicked_item_2_to_item_2_score',\n",
      "       'item_2_to_clicked_item_2_txt_cosine_sim',\n",
      "       'item_2_to_clicked_item_2_img_cosine_sim',\n",
      "       'clicked_item_2_item_cluster', 'clicked_item_2_item_cluster_cnt',\n",
      "       'clicked_item_2_item_cluster_user_cnt',\n",
      "       'clicked_item_2_item_cluster_item_cnt', 'clicked_item_3',\n",
      "       'clicked_item_3_cnt', 'clicked_item_3_to_item_3_score',\n",
      "       'item_3_to_clicked_item_3_txt_cosine_sim',\n",
      "       'item_3_to_clicked_item_3_img_cosine_sim',\n",
      "       'clicked_item_3_item_cluster', 'clicked_item_3_item_cluster_cnt',\n",
      "       'clicked_item_3_item_cluster_user_cnt',\n",
      "       'clicked_item_3_item_cluster_item_cnt', 'clicked_item_4',\n",
      "       'clicked_item_4_cnt', 'clicked_item_4_to_item_4_score',\n",
      "       'item_4_to_clicked_item_4_txt_cosine_sim',\n",
      "       'item_4_to_clicked_item_4_img_cosine_sim',\n",
      "       'clicked_item_4_item_cluster', 'clicked_item_4_item_cluster_cnt',\n",
      "       'clicked_item_4_item_cluster_user_cnt',\n",
      "       'clicked_item_4_item_cluster_item_cnt', 'train_flag', 'user_id',\n",
      "       'item_similar', 'label'],\n",
      "      dtype='object')\n",
      "   similarity_d1  similarity_d2  score_similar  dim1_user_0  dim1_user_1  \\\n",
      "0      -0.615905       0.259075       6.856990    -1.112399    -0.727918   \n",
      "1      -0.791506      -0.260154       6.389477    -1.112399    -0.727918   \n",
      "\n",
      "   dim1_user_2  dim1_user_3  dim1_user_4  dim1_item_0  dim1_item_1  ...    \\\n",
      "0    -1.571988     0.945198    -2.268345     0.677528     0.970797  ...     \n",
      "1    -1.571988     0.945198    -2.268345    -0.229062     0.486560  ...     \n",
      "\n",
      "   item_4_to_clicked_item_4_txt_cosine_sim  \\\n",
      "0                                      0.0   \n",
      "1                                      0.0   \n",
      "\n",
      "   item_4_to_clicked_item_4_img_cosine_sim  clicked_item_4_item_cluster  \\\n",
      "0                                      0.0                          4.0   \n",
      "1                                      0.0                          4.0   \n",
      "\n",
      "   clicked_item_4_item_cluster_cnt  clicked_item_4_item_cluster_user_cnt  \\\n",
      "0                          81912.0                               13062.0   \n",
      "1                          81912.0                               13062.0   \n",
      "\n",
      "   clicked_item_4_item_cluster_item_cnt  train_flag  user_id  item_similar  \\\n",
      "0                                8337.0       train    10012         91164   \n",
      "1                                8337.0       train    10012          1518   \n",
      "\n",
      "   label  \n",
      "0      0  \n",
      "1      0  \n",
      "\n",
      "[2 rows x 72 columns]\n",
      "特征数据保存\n"
     ]
    },
    {
     "ename": "OSError",
     "evalue": "[Errno 28] No space left on device",
     "output_type": "error",
     "traceback": [
      "\u001b[0;31m---------------------------------------------------------------------------\u001b[0m",
      "\u001b[0;31mOSError\u001b[0m                                   Traceback (most recent call last)",
      "\u001b[0;32m<ipython-input-3-20ced08e7346>\u001b[0m in \u001b[0;36m<module>\u001b[0;34m()\u001b[0m\n\u001b[1;32m    250\u001b[0m \u001b[0;34m\u001b[0m\u001b[0m\n\u001b[1;32m    251\u001b[0m     \u001b[0mprint\u001b[0m\u001b[0;34m(\u001b[0m\u001b[0;34m'特征数据保存'\u001b[0m\u001b[0;34m)\u001b[0m\u001b[0;34m\u001b[0m\u001b[0m\n\u001b[0;32m--> 252\u001b[0;31m     \u001b[0mfeature_all\u001b[0m\u001b[0;34m.\u001b[0m\u001b[0mto_pickle\u001b[0m\u001b[0;34m(\u001b[0m\u001b[0;34m\"../data/process/feature_all_phase{phase}_0002.pkl\"\u001b[0m\u001b[0;34m.\u001b[0m\u001b[0mformat\u001b[0m\u001b[0;34m(\u001b[0m\u001b[0mphase\u001b[0m\u001b[0;34m=\u001b[0m\u001b[0mphase\u001b[0m\u001b[0;34m)\u001b[0m\u001b[0;34m)\u001b[0m\u001b[0;34m\u001b[0m\u001b[0m\n\u001b[0m\u001b[1;32m    253\u001b[0m \u001b[0;34m\u001b[0m\u001b[0m\n\u001b[1;32m    254\u001b[0m     \u001b[0;31m############################## 整体数据特征 ##############################\u001b[0m\u001b[0;34m\u001b[0m\u001b[0;34m\u001b[0m\u001b[0m\n",
      "\u001b[0;32m/home/zhu/anaconda3/lib/python3.7/site-packages/pandas/core/generic.py\u001b[0m in \u001b[0;36mto_pickle\u001b[0;34m(self, path, compression, protocol)\u001b[0m\n\u001b[1;32m   2190\u001b[0m         \u001b[0;32mfrom\u001b[0m \u001b[0mpandas\u001b[0m\u001b[0;34m.\u001b[0m\u001b[0mio\u001b[0m\u001b[0;34m.\u001b[0m\u001b[0mpickle\u001b[0m \u001b[0;32mimport\u001b[0m \u001b[0mto_pickle\u001b[0m\u001b[0;34m\u001b[0m\u001b[0m\n\u001b[1;32m   2191\u001b[0m         return to_pickle(self, path, compression=compression,\n\u001b[0;32m-> 2192\u001b[0;31m                          protocol=protocol)\n\u001b[0m\u001b[1;32m   2193\u001b[0m \u001b[0;34m\u001b[0m\u001b[0m\n\u001b[1;32m   2194\u001b[0m     \u001b[0;32mdef\u001b[0m \u001b[0mto_clipboard\u001b[0m\u001b[0;34m(\u001b[0m\u001b[0mself\u001b[0m\u001b[0;34m,\u001b[0m \u001b[0mexcel\u001b[0m\u001b[0;34m=\u001b[0m\u001b[0;32mTrue\u001b[0m\u001b[0;34m,\u001b[0m \u001b[0msep\u001b[0m\u001b[0;34m=\u001b[0m\u001b[0;32mNone\u001b[0m\u001b[0;34m,\u001b[0m \u001b[0;34m**\u001b[0m\u001b[0mkwargs\u001b[0m\u001b[0;34m)\u001b[0m\u001b[0;34m:\u001b[0m\u001b[0;34m\u001b[0m\u001b[0m\n",
      "\u001b[0;32m/home/zhu/anaconda3/lib/python3.7/site-packages/pandas/io/pickle.py\u001b[0m in \u001b[0;36mto_pickle\u001b[0;34m(obj, path, compression, protocol)\u001b[0m\n\u001b[1;32m     75\u001b[0m         \u001b[0mprotocol\u001b[0m \u001b[0;34m=\u001b[0m \u001b[0mpkl\u001b[0m\u001b[0;34m.\u001b[0m\u001b[0mHIGHEST_PROTOCOL\u001b[0m\u001b[0;34m\u001b[0m\u001b[0m\n\u001b[1;32m     76\u001b[0m     \u001b[0;32mtry\u001b[0m\u001b[0;34m:\u001b[0m\u001b[0;34m\u001b[0m\u001b[0m\n\u001b[0;32m---> 77\u001b[0;31m         \u001b[0mf\u001b[0m\u001b[0;34m.\u001b[0m\u001b[0mwrite\u001b[0m\u001b[0;34m(\u001b[0m\u001b[0mpkl\u001b[0m\u001b[0;34m.\u001b[0m\u001b[0mdumps\u001b[0m\u001b[0;34m(\u001b[0m\u001b[0mobj\u001b[0m\u001b[0;34m,\u001b[0m \u001b[0mprotocol\u001b[0m\u001b[0;34m=\u001b[0m\u001b[0mprotocol\u001b[0m\u001b[0;34m)\u001b[0m\u001b[0;34m)\u001b[0m\u001b[0;34m\u001b[0m\u001b[0m\n\u001b[0m\u001b[1;32m     78\u001b[0m     \u001b[0;32mfinally\u001b[0m\u001b[0;34m:\u001b[0m\u001b[0;34m\u001b[0m\u001b[0m\n\u001b[1;32m     79\u001b[0m         \u001b[0;32mfor\u001b[0m \u001b[0m_f\u001b[0m \u001b[0;32min\u001b[0m \u001b[0mfh\u001b[0m\u001b[0;34m:\u001b[0m\u001b[0;34m\u001b[0m\u001b[0m\n",
      "\u001b[0;31mOSError\u001b[0m: [Errno 28] No space left on device"
     ]
    }
   ],
   "source": [
    "\n",
    "now_phase = 4\n",
    "\n",
    "\n",
    "for phase in range(now_phase, now_phase + 1):  \n",
    "    print('phase:', phase)\n",
    "    \"\"\"\n",
    "    train_test: 训练测试点击数据\n",
    "    item_hot_list: 项目热度list\n",
    "    dict_label_user_item: 训练点击中用户——最后一次点击项目字典\n",
    "    item_hot_dict: 项目热度字典\n",
    "    time_feat：用户点击时间特征\n",
    "    \n",
    "    \"\"\"\n",
    "    click_all, test_user_set = load_click_data(phase, nrows=nrows)\n",
    "    train_test, item_hot_list, dict_label_user_item, item_hot_dict, time_feat = data_generate(click_all, test_user_set)\n",
    "\n",
    "    \n",
    "    \n",
    "    print('==================================== 召回 ====================================')\n",
    "    \n",
    "    # TODO: 增加其它召回\n",
    "    if topk_recall_read:\n",
    "        topk_recall = pd.read_pickle('../data/recall/topk_recall_{phase}.pkl'.format(phase=phase))\n",
    "        matrix_association_rules = np.load('../data/recall/matrix_association_rules_{phase}.npy'.format(phase=phase), allow_pickle=True).item()\n",
    "\n",
    "    else:\n",
    "        topk_recall, matrix_association_rules = topk_recall_association_rules_qyxs_icf(\n",
    "                                                click_all=train_test,\n",
    "                                                dict_label=dict_label_user_item, \n",
    "                                                k=recall_num\n",
    "                                                )\n",
    "        topk_recall.to_pickle('../data/recall/topk_recall_{phase}.pkl'.format(phase=phase))\n",
    "        np.save('../data/recall/matrix_association_rules_{phase}.npy'.format(phase=phase), matrix_association_rules)\n",
    "\n",
    "\n",
    "    print('-------- 评测召回效果 -------------')\n",
    "    hit_rate = metrics_recall(topk_recall=topk_recall, phase=phase, k=recall_num, sep=int(recall_num/10))\n",
    "    print('召回TOP:{k}时, 命中百分比:{hit_rate}'.format(k=recall_num, hit_rate=hit_rate))\n",
    "\n",
    "    \n",
    "    \n",
    "    print('==================================== 排序 ====================================')\n",
    "    print('-------- 构建特征 ---------')\n",
    "    \n",
    "    dim, epochs, learning_rate = 30, 15, 0.1 # 由于内存问题，size改回30\n",
    "    if embedding_feat_read:\n",
    "        print('-------- sku1 sku2 sku3 sku4 sku5 user ----------')\n",
    "        dict_embedding_all_ui_item = np.load('../data/embedding/dict_embedding_all_ui_item_{phase}.npy'.format(phase=phase), \n",
    "                                             allow_pickle=True).item()\n",
    "        \n",
    "        print('------- user1 user2 user3 user4 user5 sku -------')\n",
    "        dict_embedding_all_ui_user = np.load('../data/embedding/dict_embedding_all_ui_user_{phase}.npy'.format(phase=phase), \n",
    "                                             allow_pickle=True).item()\n",
    "        \n",
    "        print('------- item1 item2 item3 item4 item5 -------')\n",
    "        dict_embedding_item_only = np.load('../data/embedding/dict_embedding_item_only_{phase}.npy'.format(phase=phase), \n",
    "                                           allow_pickle=True).item()\n",
    "        \n",
    "        print('------- user1 user2 user3 user4 user5 -------')\n",
    "        dict_embedding_user_only = np.load('../data/embedding/dict_embedding_user_only_{phase}.npy'.format(phase=phase), \n",
    "                                           allow_pickle=True).item()\n",
    "\n",
    "    else:\n",
    "        print('-------- sku1 sku2 sku3 sku4 sku5 user ----------')\n",
    "        dict_embedding_all_ui_item = matrix_word2vec_embedding(\n",
    "                                                                click_all=train_test,\n",
    "                                                                flag='item',\n",
    "                                                                mode='all',\n",
    "                                                                dim=dim,\n",
    "                                                                epochs=epochs,\n",
    "                                                                learning_rate=learning_rate\n",
    "                                                                )\n",
    "        np.save('../data/embedding/dict_embedding_all_ui_item_{phase}.npy'.format(phase=phase),\n",
    "               dict_embedding_all_ui_item)\n",
    "\n",
    "\n",
    "        print('------- user1 user2 user3 user4 user5 sku -------')\n",
    "        dict_embedding_all_ui_user = matrix_word2vec_embedding(\n",
    "                                                                click_all=train_test,\n",
    "                                                                flag='user',\n",
    "                                                                mode='all',\n",
    "                                                                dim=dim,\n",
    "                                                                epochs=epochs,\n",
    "                                                                learning_rate=learning_rate\n",
    "                                                                )\n",
    "        np.save('../data/embedding/dict_embedding_all_ui_user_{phase}.npy'.format(phase=phase),\n",
    "               dict_embedding_all_ui_user)\n",
    "\n",
    "\n",
    "        print('------- item1 item2 item3 item4 item5 -------')\n",
    "        dict_embedding_item_only = matrix_word2vec_embedding(\n",
    "                                                                click_all=train_test,\n",
    "                                                                flag='item',\n",
    "                                                                mode='only',\n",
    "                                                                dim=dim,\n",
    "                                                                epochs=epochs,\n",
    "                                                                learning_rate=learning_rate\n",
    "                                                                )\n",
    "        np.save('../data/embedding/dict_embedding_item_only_{phase}.npy'.format(phase=phase),\n",
    "               dict_embedding_item_only)\n",
    "\n",
    "\n",
    "        print('------- user1 user2 user3 user4 user5 -------')\n",
    "        dict_embedding_user_only = matrix_word2vec_embedding(\n",
    "                                                                click_all=train_test,\n",
    "                                                                flag='user',\n",
    "                                                                mode='only',\n",
    "                                                                dim=dim,\n",
    "                                                                epochs=epochs,\n",
    "                                                                learning_rate=learning_rate\n",
    "                                                                )\n",
    "        np.save('../data/embedding/dict_embedding_user_only_{phase}.npy'.format(phase=phase),\n",
    "               dict_embedding_user_only)\n",
    "\n",
    "        \n",
    "    \n",
    "    print('------- Interactive Embedding Feature PCA -----------')\n",
    "\n",
    "    # dict_embedding_all_ui_item PCA\n",
    "    dict_embedding = dict_embedding_all_ui_item.copy()\n",
    "    dict_embedding_all_ui_item = {}\n",
    "    for i in ['user', 'item']:\n",
    "        tmp = pd.DataFrame(dict_embedding[i])\n",
    "        pca_ = embedding_fea_pca(tmp.T, n_components=pca_n_components) # 解释\n",
    "        tmp_pca = pd.DataFrame(pca_.T)\n",
    "        tmp_pca.columns = tmp.columns\n",
    "        dict_embedding_all_ui_item[i] = dict(tmp_pca)\n",
    "    \n",
    "    \n",
    "    # dict_embedding_all_ui_user PCA\n",
    "    dict_embedding = dict_embedding_all_ui_user.copy()\n",
    "    dict_embedding_all_ui_user = {}\n",
    "    for i in ['user', 'item']:\n",
    "        tmp = pd.DataFrame(dict_embedding[i])\n",
    "        pca_ = embedding_fea_pca(tmp.T, n_components=pca_n_components) # 解释\n",
    "        tmp_pca = pd.DataFrame(pca_.T)\n",
    "        tmp_pca.columns = tmp.columns\n",
    "        dict_embedding_all_ui_user[i] = dict(tmp_pca)\n",
    "    print('dict_embedding_all_ui_user是否降维成功........', len(dict_embedding_all_ui_user['user']['1']))    \n",
    "    del tmp, tmp_pca\n",
    "\n",
    "    \n",
    "    \n",
    "    print('------- user or item Embedding Feature Cluster -----------')\n",
    "\n",
    "    # dict_embedding_item_only聚类\n",
    "    item = pd.DataFrame(dict_embedding_item_only['item'])\n",
    "    km_cluster = KMeans(n_clusters=item_n_clusters, max_iter=300, n_init=40, \\\n",
    "                        init='k-means++') #, n_jobs=-1)\n",
    "    # 返回类索引\n",
    "    result = km_cluster.fit_predict(item.T)\n",
    "    item_cluster = pd.DataFrame({'item_id': item.columns, 'item_cluster': np.int16(result)})\n",
    "    del item, km_cluster, result, dict_embedding_item_only\n",
    "    \n",
    "    # dict_embedding_user_only聚类\n",
    "    user = pd.DataFrame(dict_embedding_user_only['user'])\n",
    "    km_cluster = KMeans(n_clusters=user_n_clusters, max_iter=300, n_init=40, \\\n",
    "                        init='k-means++') #, n_jobs=-1)\n",
    "    # 返回类索引\n",
    "    result = km_cluster.fit_predict(user.T)\n",
    "    user_cluster = pd.DataFrame({'user_id': user.columns, 'user_cluster': np.int16(result)})\n",
    "    del user, km_cluster, result, dict_embedding_user_only\n",
    "    \n",
    "    \n",
    "    # 加载聚类的统计特征\n",
    "    user_cluster_feat_ = user_cluster_feat(click_all, user_cluster)\n",
    "    item_cluster_feat_ = item_cluster_feat(click_all, item_cluster)\n",
    "\n",
    "    del click_all, user_cluster, item_cluster\n",
    "    \n",
    "    \n",
    "    print('------- 特征加工 -----------')\n",
    "\n",
    "    print('..............topk_recall shape:', topk_recall.shape)\n",
    "\n",
    "    \n",
    "#     feature_all = get_train_test_data(topk_recall,\n",
    "#                   matrix_association_rules, \n",
    "#                   time_feat,\n",
    "#                   user_cluster_feat_,\n",
    "#                   item_cluster_feat_,\n",
    "#                   item_hot_dict,\n",
    "#                   txt_cosine_similarity_dict,\n",
    "#                   img_cosine_similarity_dict,\n",
    "#                   dict_embedding_all_ui_item,\n",
    "#                   dict_embedding_all_ui_user,\n",
    "#                   flag_test,\n",
    "#                   click_topn)\n",
    "\n",
    "\n",
    "#     lprofiler = LineProfiler(get_train_test_data)\n",
    "#     lprofiler.run('get_train_test_data( topk_recall[:80000], matrix_association_rules, time_feat, user_cluster_feat_, item_cluster_feat_, item_hot_dict, txt_cosine_similarity_dict, img_cosine_similarity_dict, dict_embedding_all_ui_item, dict_embedding_all_ui_user, flag_test=False, click_topn=click_topn)')\n",
    "#     lprofiler.print_stats()\n",
    "\n",
    "\n",
    "    # 多进程构建特征\n",
    "    if __name__=='__main__':\n",
    "        cpu_num = cpu_count()\n",
    "        batchs_n = 5 # 数据划分份数\n",
    "        pool = Pool(batchs_n+1) # 创建一个多个进程的进程池\n",
    "        feature_part = []\n",
    "        # 将topk_recall分batchs_n批次，并不是越大越好，启动进程也是需时间的\n",
    "        batch_size = topk_recall.shape[0]//(batchs_n)\n",
    "        \n",
    "        for batch in range(batchs_n):\n",
    "            start_index = batch * batch_size\n",
    "            if batch==cpu_num:\n",
    "                end_index = topk_recall.shape[0]\n",
    "            else:\n",
    "                end_index = (1+batch) * batch_size\n",
    "            feature_part.append(pool.apply_async(func=get_train_test_data, \n",
    "                                                 args=(topk_recall[start_index:end_index],\n",
    "                                                       matrix_association_rules, \n",
    "                                                       time_feat,\n",
    "                                                       user_cluster_feat_,\n",
    "                                                       item_cluster_feat_,\n",
    "                                                       item_hot_dict,\n",
    "                                                       txt_cosine_similarity_dict,\n",
    "                                                       img_cosine_similarity_dict,\n",
    "                                                       dict_embedding_all_ui_item,\n",
    "                                                       dict_embedding_all_ui_user,\n",
    "                                                       phase,\n",
    "                                                       batch,\n",
    "                                                       flag_test,\n",
    "                                                       click_topn)))            \n",
    "        pool.close()\n",
    "        pool.join() \n",
    "        \n",
    "        \"\"\"\n",
    "        遍历result列表，取出子进程对象，访问get()方法，获取返回值。（此时所有子进程已执行完毕）\n",
    "        result[0].get()\n",
    "        \"\"\"\n",
    "        print('进程结束') \n",
    "     \n",
    "    \n",
    "    \n",
    "#     # 释放内存\n",
    "# #     del topk_recall, matrix_association_rules, txt_cosine_similarity_dict, img_cosine_similarity_dict, dict_embedding_all_ui_item, dict_embedding_all_ui_user, dict_embedding_item_only, dict_embedding_user_only\n",
    "      \n",
    "    print('分片特征数据拼接')\n",
    "    #feature_all = Pool_feature_concat(feature_part)\n",
    "    feature_all = load_pool_feature(phase=phase, batchs_n=batchs_n)\n",
    "    print('feature_all的列: ', feature_all.columns)\n",
    "    print(feature_all.head(2))\n",
    "\n",
    "\n",
    "    feature_all = add_time_statistics(feature_all, time_feat)\n",
    "    feature_all = add_user_statistics(feature_all, user_cluster_feat_)\n",
    "    feature_all = add_item_statistics(feature_all, item_cluster_feat_)\n",
    "    \n",
    "\n",
    "    # print('特征数据保存')\n",
    "    # feature_all.to_pickle(\"../data/process/feature_all_phase{phase}_0002.pkl\".format(phase=phase))\n",
    "    \n",
    "    ############################## 整体数据特征 ############################## \n",
    "    print('--------------------------- 特征数据 ---------------------')\n",
    "    len_f = len(feature_all)\n",
    "    len_train = len(feature_all[feature_all['train_flag']=='train'])\n",
    "    len_test = len(feature_all[feature_all['train_flag']=='test'])\n",
    "    len_train_1 = len(feature_all[(feature_all['train_flag']=='train') & (feature_all['label']== 1)]) \n",
    "    print('所有数据条数', len_f)\n",
    "    print('训练数据 : ', len_train)\n",
    "    print('训练数据 label 1 : ', len_train_1)\n",
    "    print('训练数据 1 / 0 rate : ', len_train_1 * 1.0 / len_f)\n",
    "    print('测试数据 : ' , len_test)\n",
    "    print('flag : ', set(feature_all['train_flag']))\n",
    "\n",
    "    \n",
    "    ############################## 训练模型 ############################## \n",
    "    print('--------------------------- 训练模型 ---------------------')\n",
    "    submit = train_model_lgb(feature_all, recall_rate=hit_rate, hot_list=item_hot_list, valid=0.2, topk=50, \n",
    "                             num_boost_round=1500, early_stopping_rounds=500)\n",
    "\n",
    "    \n",
    "    # submit = train_model_rf(feature_all, recall_rate=hit_rate, hot_list=item_hot_list, valid=0.2, topk=50)\n",
    "    \n",
    "\n",
    "    print('--------------------------- 保存预测文件 ---------------------')\n",
    "    phase_submit_save(submit, phase, 50)\n"
   ]
  },
  {
   "cell_type": "code",
   "execution_count": 6,
   "metadata": {},
   "outputs": [
    {
     "name": "stdout",
     "output_type": "stream",
     "text": [
      "--------------------------- 特征数据 ---------------------\n",
      "所有数据条数 4259220\n",
      "训练数据 :  3063620\n",
      "训练数据 label 1 :  4377\n",
      "训练数据 1 / 0 rate :  0.0010276529505402398\n",
      "测试数据 :  1195600\n",
      "flag :  {'test', 'train'}\n",
      "--------------------------- 训练模型 ---------------------\n",
      "[50]\tvalid_0's ndcg@1: 0.987436\tvalid_0's ndcg@2: 0.991777\tvalid_0's ndcg@3: 0.993237\tvalid_0's ndcg@4: 0.993511\tvalid_0's ndcg@5: 0.993511\n",
      "[100]\tvalid_0's ndcg@1: 0.98715\tvalid_0's ndcg@2: 0.991741\tvalid_0's ndcg@3: 0.993091\tvalid_0's ndcg@4: 0.993412\tvalid_0's ndcg@5: 0.993412\n",
      "[150]\tvalid_0's ndcg@1: 0.988578\tvalid_0's ndcg@2: 0.992588\tvalid_0's ndcg@3: 0.994112\tvalid_0's ndcg@4: 0.994386\tvalid_0's ndcg@5: 0.994564\n",
      "[200]\tvalid_0's ndcg@1: 0.98715\tvalid_0's ndcg@2: 0.992752\tvalid_0's ndcg@3: 0.994102\tvalid_0's ndcg@4: 0.994451\tvalid_0's ndcg@5: 0.994562\n",
      "[250]\tvalid_0's ndcg@1: 0.986579\tvalid_0's ndcg@2: 0.992472\tvalid_0's ndcg@3: 0.993909\tvalid_0's ndcg@4: 0.994258\tvalid_0's ndcg@5: 0.994369\n",
      "[300]\tvalid_0's ndcg@1: 0.986865\tvalid_0's ndcg@2: 0.992757\tvalid_0's ndcg@3: 0.994052\tvalid_0's ndcg@4: 0.994449\tvalid_0's ndcg@5: 0.994516\n",
      "[350]\tvalid_0's ndcg@1: 0.986865\tvalid_0's ndcg@2: 0.992647\tvalid_0's ndcg@3: 0.994029\tvalid_0's ndcg@4: 0.994426\tvalid_0's ndcg@5: 0.994493\n",
      "[400]\tvalid_0's ndcg@1: 0.986008\tvalid_0's ndcg@2: 0.991901\tvalid_0's ndcg@3: 0.993338\tvalid_0's ndcg@4: 0.99381\tvalid_0's ndcg@5: 0.993878\n",
      "[450]\tvalid_0's ndcg@1: 0.985722\tvalid_0's ndcg@2: 0.991615\tvalid_0's ndcg@3: 0.993283\tvalid_0's ndcg@4: 0.993679\tvalid_0's ndcg@5: 0.993747\n",
      "[500]\tvalid_0's ndcg@1: 0.986008\tvalid_0's ndcg@2: 0.99154\tvalid_0's ndcg@3: 0.993351\tvalid_0's ndcg@4: 0.993747\tvalid_0's ndcg@5: 0.993815\n",
      "[550]\tvalid_0's ndcg@1: 0.986008\tvalid_0's ndcg@2: 0.991721\tvalid_0's ndcg@3: 0.993388\tvalid_0's ndcg@4: 0.993785\tvalid_0's ndcg@5: 0.993785\n",
      "[600]\tvalid_0's ndcg@1: 0.986294\tvalid_0's ndcg@2: 0.991535\tvalid_0's ndcg@3: 0.99329\tvalid_0's ndcg@4: 0.99381\tvalid_0's ndcg@5: 0.99381\n",
      "[650]\tvalid_0's ndcg@1: 0.986294\tvalid_0's ndcg@2: 0.991535\tvalid_0's ndcg@3: 0.99329\tvalid_0's ndcg@4: 0.993687\tvalid_0's ndcg@5: 0.993687\n",
      "[700]\tvalid_0's ndcg@1: 0.986294\tvalid_0's ndcg@2: 0.991425\tvalid_0's ndcg@3: 0.993267\tvalid_0's ndcg@4: 0.993664\tvalid_0's ndcg@5: 0.993664\n",
      "[750]\tvalid_0's ndcg@1: 0.986294\tvalid_0's ndcg@2: 0.991425\tvalid_0's ndcg@3: 0.993267\tvalid_0's ndcg@4: 0.993664\tvalid_0's ndcg@5: 0.993664\n",
      "[800]\tvalid_0's ndcg@1: 0.986008\tvalid_0's ndcg@2: 0.991319\tvalid_0's ndcg@3: 0.993162\tvalid_0's ndcg@4: 0.993559\tvalid_0's ndcg@5: 0.993559\n",
      "[850]\tvalid_0's ndcg@1: 0.986008\tvalid_0's ndcg@2: 0.991319\tvalid_0's ndcg@3: 0.993162\tvalid_0's ndcg@4: 0.993559\tvalid_0's ndcg@5: 0.993559\n",
      "[900]\tvalid_0's ndcg@1: 0.986008\tvalid_0's ndcg@2: 0.991319\tvalid_0's ndcg@3: 0.993162\tvalid_0's ndcg@4: 0.993559\tvalid_0's ndcg@5: 0.993559\n",
      "[950]\tvalid_0's ndcg@1: 0.986008\tvalid_0's ndcg@2: 0.991319\tvalid_0's ndcg@3: 0.993074\tvalid_0's ndcg@4: 0.993547\tvalid_0's ndcg@5: 0.993547\n",
      "[1000]\tvalid_0's ndcg@1: 0.986008\tvalid_0's ndcg@2: 0.99143\tvalid_0's ndcg@3: 0.993097\tvalid_0's ndcg@4: 0.99357\tvalid_0's ndcg@5: 0.99357\n",
      "[1050]\tvalid_0's ndcg@1: 0.985722\tvalid_0's ndcg@2: 0.991365\tvalid_0's ndcg@3: 0.993033\tvalid_0's ndcg@4: 0.99343\tvalid_0's ndcg@5: 0.993497\n",
      "[1100]\tvalid_0's ndcg@1: 0.986008\tvalid_0's ndcg@2: 0.991471\tvalid_0's ndcg@3: 0.993138\tvalid_0's ndcg@4: 0.993535\tvalid_0's ndcg@5: 0.993603\n",
      "[1150]\tvalid_0's ndcg@1: 0.986008\tvalid_0's ndcg@2: 0.991471\tvalid_0's ndcg@3: 0.993138\tvalid_0's ndcg@4: 0.993535\tvalid_0's ndcg@5: 0.993603\n",
      "[1200]\tvalid_0's ndcg@1: 0.986008\tvalid_0's ndcg@2: 0.991471\tvalid_0's ndcg@3: 0.993138\tvalid_0's ndcg@4: 0.993535\tvalid_0's ndcg@5: 0.993603\n",
      "[1250]\tvalid_0's ndcg@1: 0.986008\tvalid_0's ndcg@2: 0.99136\tvalid_0's ndcg@3: 0.993115\tvalid_0's ndcg@4: 0.993512\tvalid_0's ndcg@5: 0.99358\n",
      "[1300]\tvalid_0's ndcg@1: 0.986008\tvalid_0's ndcg@2: 0.99136\tvalid_0's ndcg@3: 0.993115\tvalid_0's ndcg@4: 0.993512\tvalid_0's ndcg@5: 0.99358\n",
      "[1350]\tvalid_0's ndcg@1: 0.986008\tvalid_0's ndcg@2: 0.99136\tvalid_0's ndcg@3: 0.993115\tvalid_0's ndcg@4: 0.993512\tvalid_0's ndcg@5: 0.99358\n",
      "[1400]\tvalid_0's ndcg@1: 0.986294\tvalid_0's ndcg@2: 0.991466\tvalid_0's ndcg@3: 0.993221\tvalid_0's ndcg@4: 0.993617\tvalid_0's ndcg@5: 0.993685\n",
      "[1450]\tvalid_0's ndcg@1: 0.986579\tvalid_0's ndcg@2: 0.99153\tvalid_0's ndcg@3: 0.993285\tvalid_0's ndcg@4: 0.993682\tvalid_0's ndcg@5: 0.99375\n",
      "[1500]\tvalid_0's ndcg@1: 0.986579\tvalid_0's ndcg@2: 0.99153\tvalid_0's ndcg@3: 0.993285\tvalid_0's ndcg@4: 0.993682\tvalid_0's ndcg@5: 0.99375\n",
      "------------- eval -------------\n",
      "------------- eval result -------------\n",
      "hitrate_50_full :  0.2586191855899865 ndcg_50_full :  569.2536702005574 \n",
      "\n",
      "hitrate_50_half :  0.06356458977061685 ndcg_50_half :  140.30699812222494 \n",
      "\n",
      "------------- eval result -------------\n",
      "------------- predict -------------\n",
      "------------- assert -------------\n",
      "LGBM的特征重要性...\n"
     ]
    },
    {
     "data": {
      "text/plain": [
       "<Figure size 1080x720 with 0 Axes>"
      ]
     },
     "metadata": {},
     "output_type": "display_data"
    },
    {
     "data": {
      "image/png": "[encoded data removed]",
      "text/plain": [
       "<Figure size 432x288 with 1 Axes>"
      ]
     },
     "metadata": {
      "needs_background": "light"
     },
     "output_type": "display_data"
    },
    {
     "name": "stdout",
     "output_type": "stream",
     "text": [
      "--------------------------- 保存预测文件 ---------------------\n"
     ]
    },
    {
     "ename": "OSError",
     "evalue": "[Errno 28] No space left on device",
     "output_type": "error",
     "traceback": [
      "\u001b[0;31m---------------------------------------------------------------------------\u001b[0m",
      "\u001b[0;31mOSError\u001b[0m                                   Traceback (most recent call last)",
      "\u001b[0;32m<ipython-input-6-561100e8473d>\u001b[0m in \u001b[0;36m<module>\u001b[0;34m()\u001b[0m\n\u001b[1;32m     23\u001b[0m \u001b[0;34m\u001b[0m\u001b[0m\n\u001b[1;32m     24\u001b[0m \u001b[0mprint\u001b[0m\u001b[0;34m(\u001b[0m\u001b[0;34m'--------------------------- 保存预测文件 ---------------------'\u001b[0m\u001b[0;34m)\u001b[0m\u001b[0;34m\u001b[0m\u001b[0m\n\u001b[0;32m---> 25\u001b[0;31m \u001b[0mphase_submit_save\u001b[0m\u001b[0;34m(\u001b[0m\u001b[0msubmit\u001b[0m\u001b[0;34m,\u001b[0m \u001b[0mphase\u001b[0m\u001b[0;34m,\u001b[0m \u001b[0;36m50\u001b[0m\u001b[0;34m)\u001b[0m\u001b[0;34m\u001b[0m\u001b[0m\n\u001b[0m",
      "\u001b[0;32m/home/zhu/kdd/code/process.py\u001b[0m in \u001b[0;36mphase_submit_save\u001b[0;34m(submit, phase, topk)\u001b[0m\n\u001b[1;32m    701\u001b[0m             \u001b[0mline\u001b[0m \u001b[0;34m=\u001b[0m \u001b[0muser_id\u001b[0m \u001b[0;34m+\u001b[0m \u001b[0;34m','\u001b[0m \u001b[0;34m+\u001b[0m \u001b[0;34m','\u001b[0m\u001b[0;34m.\u001b[0m\u001b[0mjoin\u001b[0m\u001b[0;34m(\u001b[0m\u001b[0mitem_list\u001b[0m\u001b[0;34m)\u001b[0m \u001b[0;34m+\u001b[0m \u001b[0;34m'\\n'\u001b[0m\u001b[0;34m\u001b[0m\u001b[0m\n\u001b[1;32m    702\u001b[0m             \u001b[0;32massert\u001b[0m \u001b[0mlen\u001b[0m\u001b[0;34m(\u001b[0m\u001b[0mline\u001b[0m\u001b[0;34m.\u001b[0m\u001b[0mstrip\u001b[0m\u001b[0;34m(\u001b[0m\u001b[0;34m)\u001b[0m\u001b[0;34m.\u001b[0m\u001b[0msplit\u001b[0m\u001b[0;34m(\u001b[0m\u001b[0;34m','\u001b[0m\u001b[0;34m)\u001b[0m\u001b[0;34m)\u001b[0m \u001b[0;34m==\u001b[0m \u001b[0;34m(\u001b[0m\u001b[0mtopk\u001b[0m\u001b[0;34m+\u001b[0m\u001b[0;36m1\u001b[0m\u001b[0;34m)\u001b[0m\u001b[0;34m\u001b[0m\u001b[0m\n\u001b[0;32m--> 703\u001b[0;31m             \u001b[0mf\u001b[0m\u001b[0;34m.\u001b[0m\u001b[0mwrite\u001b[0m\u001b[0;34m(\u001b[0m\u001b[0mline\u001b[0m\u001b[0;34m)\u001b[0m\u001b[0;34m\u001b[0m\u001b[0m\n\u001b[0m",
      "\u001b[0;31mOSError\u001b[0m: [Errno 28] No space left on device"
     ]
    }
   ],
   "source": [
    "    ############################## 整体数据特征 ############################## \n",
    "    print('--------------------------- 特征数据 ---------------------')\n",
    "    len_f = len(feature_all)\n",
    "    len_train = len(feature_all[feature_all['train_flag']=='train'])\n",
    "    len_test = len(feature_all[feature_all['train_flag']=='test'])\n",
    "    len_train_1 = len(feature_all[(feature_all['train_flag']=='train') & (feature_all['label']== 1)]) \n",
    "    print('所有数据条数', len_f)\n",
    "    print('训练数据 : ', len_train)\n",
    "    print('训练数据 label 1 : ', len_train_1)\n",
    "    print('训练数据 1 / 0 rate : ', len_train_1 * 1.0 / len_f)\n",
    "    print('测试数据 : ' , len_test)\n",
    "    print('flag : ', set(feature_all['train_flag']))\n",
    "\n",
    "    \n",
    "    ############################## 训练模型 ############################## \n",
    "    print('--------------------------- 训练模型 ---------------------')\n",
    "    submit = train_model_lgb(feature_all, recall_rate=hit_rate, hot_list=item_hot_list, valid=0.2, topk=50, \n",
    "                             num_boost_round=1500, early_stopping_rounds=500)\n",
    "\n",
    "    \n",
    "    # submit = train_model_rf(feature_all, recall_rate=hit_rate, hot_list=item_hot_list, valid=0.2, topk=50)\n",
    "    \n",
    "\n",
    "    print('--------------------------- 保存预测文件 ---------------------')\n",
    "    phase_submit_save(submit, phase, 50)"
   ]
  },
  {
   "cell_type": "code",
   "execution_count": 8,
   "metadata": {},
   "outputs": [],
   "source": []
  },
  {
   "cell_type": "code",
   "execution_count": null,
   "metadata": {},
   "outputs": [],
   "source": []
  },
  {
   "cell_type": "code",
   "execution_count": 3,
   "metadata": {},
   "outputs": [
    {
     "name": "stdout",
     "output_type": "stream",
     "text": [
      "phase: 2\n",
      "================================== 加载click数据 ==================================\n",
      "================================== 生成中间数据 ==================================\n",
      "==================================== 召回 ====================================\n"
     ]
    },
    {
     "name": "stderr",
     "output_type": "stream",
     "text": [
      "21it [00:00, 206.18it/s]"
     ]
    },
    {
     "name": "stdout",
     "output_type": "stream",
     "text": [
      "------- association rules matrix 生成 ---------\n"
     ]
    },
    {
     "name": "stderr",
     "output_type": "stream",
     "text": [
      "18398it [01:04, 283.64it/s]\n",
      "13it [00:00, 119.49it/s]"
     ]
    },
    {
     "name": "stdout",
     "output_type": "stream",
     "text": [
      "------- association rules 召回 ---------\n"
     ]
    },
    {
     "name": "stderr",
     "output_type": "stream",
     "text": [
      "18398it [02:46, 110.73it/s]\n"
     ]
    },
    {
     "name": "stdout",
     "output_type": "stream",
     "text": [
      "-------- 评测召回效果 -------------\n",
      "-------- 召回效果 -------------\n",
      "--------:phase:  2  -------------\n",
      "phase:  2  top_ 0  :  hit_num :  328 hit_rate :  0.019631314340435718  data_num :  16708\n",
      "\n",
      "phase:  2  top_ 70  :  hit_num :  2412 hit_rate :  0.14436198228393585  data_num :  16708\n",
      "\n",
      "phase:  2  top_ 140  :  hit_num :  2947 hit_rate :  0.17638257122336606  data_num :  16708\n",
      "\n",
      "phase:  2  top_ 210  :  hit_num :  3233 hit_rate :  0.19350011970313621  data_num :  16708\n",
      "\n",
      "phase:  2  top_ 280  :  hit_num :  3445 hit_rate :  0.20618865214268614  data_num :  16708\n",
      "\n",
      "phase:  2  top_ 350  :  hit_num :  3607 hit_rate :  0.21588460617668184  data_num :  16708\n",
      "\n",
      "phase:  2  top_ 420  :  hit_num :  3756 hit_rate :  0.22480248982523343  data_num :  16708\n",
      "\n",
      "phase:  2  top_ 490  :  hit_num :  3878 hit_rate :  0.23210438113478574  data_num :  16708\n",
      "\n",
      "phase:  2  top_ 560  :  hit_num :  3971 hit_rate :  0.2376705769691166  data_num :  16708\n",
      "\n",
      "phase:  2  top_ 630  :  hit_num :  4069 hit_rate :  0.24353603064400287  data_num :  16708\n",
      "\n",
      "phase:  2  top_ 700  :  hit_num :  4160 hit_rate :  0.24898252334211157  data_num :  16708\n",
      "\n",
      "召回TOP:700时, 命中百分比:0.24898252334211157\n",
      "==================================== 排序 ====================================\n",
      "-------- 构建特征 ---------\n",
      "-------- sku1 sku2 sku3 sku4 sku5 user ----------\n",
      "------- user1 user2 user3 user4 user5 sku -------\n",
      "------- item1 item2 item3 item4 item5 -------\n",
      "------- user1 user2 user3 user4 user5 -------\n",
      "------- Interactive Embedding Feature PCA -----------\n",
      "------- 降成5维后的方差百分比:  [0.08541936 0.07203986 0.07022959 0.0578492  0.04978743]\n",
      "------- 降成5维后的方差百分比:  [0.06805831 0.05638997 0.05217858 0.04711951 0.04039355]\n",
      "------- 降成5维后的方差百分比:  [0.06488108 0.06053108 0.05407041 0.04539821 0.04181552]\n",
      "------- 降成5维后的方差百分比:  [0.10384162 0.08644826 0.07460756 0.06026515 0.05404807]\n",
      "dict_embedding_all_ui_user是否降维成功........ 5\n",
      "------- user or item Embedding Feature Cluster -----------\n",
      "------- 特征加工 -----------\n",
      "..............topk_recall shape: (12878600, 5)\n",
      "------- 构建样本 -----------\n",
      "............... train len= 590100\n",
      "............... test  len= 223300\n",
      "----------- 加入特征 train -----------\n"
     ]
    },
    {
     "name": "stderr",
     "output_type": "stream",
     "text": [
      "20896it [00:26, 803.71it/s]"
     ]
    },
    {
     "name": "stdout",
     "output_type": "stream",
     "text": [
      "------- 构建样本 -----------\n"
     ]
    },
    {
     "name": "stderr",
     "output_type": "stream",
     "text": [
      "23235it [00:29, 792.89it/s]"
     ]
    },
    {
     "name": "stdout",
     "output_type": "stream",
     "text": [
      "............... train len= 576800\n",
      "............... test  len= 239400\n"
     ]
    },
    {
     "name": "stderr",
     "output_type": "stream",
     "text": [
      "23556it [00:29, 796.65it/s]"
     ]
    },
    {
     "name": "stdout",
     "output_type": "stream",
     "text": [
      "----------- 加入特征 train -----------\n"
     ]
    },
    {
     "name": "stderr",
     "output_type": "stream",
     "text": [
      "20730it [00:26, 786.06it/s]"
     ]
    },
    {
     "name": "stdout",
     "output_type": "stream",
     "text": [
      "------- 构建样本 -----------\n"
     ]
    },
    {
     "name": "stderr",
     "output_type": "stream",
     "text": [
      "22893it [00:29, 735.34it/s]"
     ]
    },
    {
     "name": "stdout",
     "output_type": "stream",
     "text": [
      "............... train len= 572600\n",
      "............... test  len= 239400\n"
     ]
    },
    {
     "name": "stderr",
     "output_type": "stream",
     "text": [
      "23299it [00:29, 793.83it/s]"
     ]
    },
    {
     "name": "stdout",
     "output_type": "stream",
     "text": [
      "----------- 加入特征 train -----------\n"
     ]
    },
    {
     "name": "stderr",
     "output_type": "stream",
     "text": [
      "66077it [01:26, 472.78it/s]"
     ]
    },
    {
     "name": "stdout",
     "output_type": "stream",
     "text": [
      "------- 构建样本 -----------\n"
     ]
    },
    {
     "name": "stderr",
     "output_type": "stream",
     "text": [
      "43925it [00:59, 649.79it/s]"
     ]
    },
    {
     "name": "stdout",
     "output_type": "stream",
     "text": [
      "............... train len= 564900\n",
      "............... test  len= 236600\n"
     ]
    },
    {
     "name": "stderr",
     "output_type": "stream",
     "text": [
      "44299it [01:00, 680.84it/s]"
     ]
    },
    {
     "name": "stdout",
     "output_type": "stream",
     "text": [
      "----------- 加入特征 train -----------\n"
     ]
    },
    {
     "name": "stderr",
     "output_type": "stream",
     "text": [
      "18210it [00:31, 768.66it/s]"
     ]
    },
    {
     "name": "stdout",
     "output_type": "stream",
     "text": [
      "------- 构建样本 -----------\n"
     ]
    },
    {
     "name": "stderr",
     "output_type": "stream",
     "text": [
      "88881it [02:05, 526.75it/s]"
     ]
    },
    {
     "name": "stdout",
     "output_type": "stream",
     "text": [
      "............... train len= 607600\n",
      "............... test  len= 244300\n"
     ]
    },
    {
     "name": "stderr",
     "output_type": "stream",
     "text": [
      "21065it [00:35, 724.46it/s]"
     ]
    },
    {
     "name": "stdout",
     "output_type": "stream",
     "text": [
      "----------- 加入特征 train -----------\n"
     ]
    },
    {
     "name": "stderr",
     "output_type": "stream",
     "text": [
      "590100it [15:59, 615.01it/s]\n",
      "576800it [15:47, 608.76it/s]\n",
      "515109it [14:13, 649.41it/s]"
     ]
    },
    {
     "name": "stdout",
     "output_type": "stream",
     "text": [
      "----------- 加入特征 test -----------\n"
     ]
    },
    {
     "name": "stderr",
     "output_type": "stream",
     "text": [
      "526228it [14:32, 608.58it/s]"
     ]
    },
    {
     "name": "stdout",
     "output_type": "stream",
     "text": [
      "----------- 加入特征 test -----------\n"
     ]
    },
    {
     "name": "stderr",
     "output_type": "stream",
     "text": [
      "572600it [15:54, 600.04it/s]\n",
      "547075it [15:06, 609.96it/s]"
     ]
    },
    {
     "name": "stdout",
     "output_type": "stream",
     "text": [
      "----------- 加入特征 test -----------\n"
     ]
    },
    {
     "name": "stderr",
     "output_type": "stream",
     "text": [
      "564900it [15:43, 598.69it/s]\n",
      "558678it [15:26, 710.10it/s]"
     ]
    },
    {
     "name": "stdout",
     "output_type": "stream",
     "text": [
      "----------- 加入特征 test -----------\n"
     ]
    },
    {
     "name": "stderr",
     "output_type": "stream",
     "text": [
      "607600it [16:48, 602.19it/s]\n",
      "61591it [01:43, 478.41it/s]]"
     ]
    },
    {
     "name": "stdout",
     "output_type": "stream",
     "text": [
      "----------- 加入特征 test -----------\n"
     ]
    },
    {
     "name": "stderr",
     "output_type": "stream",
     "text": [
      "223300it [06:06, 609.92it/s]\n",
      "239400it [06:27, 617.21it/s]\n",
      "239400it [06:24, 622.80it/s]\n",
      "236600it [06:18, 624.61it/s]\n",
      "244300it [05:59, 678.70it/s]\n"
     ]
    },
    {
     "name": "stdout",
     "output_type": "stream",
     "text": [
      "进程结束\n",
      "分片特征数据拼接\n",
      "------ part=0\n",
      "------ part=1\n",
      "------ part=2\n",
      "------ part=3\n",
      "------ part=4\n",
      "feature_all的列:  Index(['similarity_d1', 'similarity_d2', 'score_similar', 'dim1_user_0',\n",
      "       'dim1_user_1', 'dim1_user_2', 'dim1_user_3', 'dim1_user_4',\n",
      "       'dim1_item_0', 'dim1_item_1', 'dim1_item_2', 'dim1_item_3',\n",
      "       'dim1_item_4', 'dim2_user_0', 'dim2_user_1', 'dim2_user_2',\n",
      "       'dim2_user_3', 'dim2_user_4', 'dim2_item_0', 'dim2_item_1',\n",
      "       'dim2_item_2', 'dim2_item_3', 'dim2_item_4', 'clicked_item_0',\n",
      "       'clicked_item_0_cnt', 'clicked_item_0_to_item_0_score',\n",
      "       'item_0_to_clicked_item_0_txt_cosine_sim',\n",
      "       'item_0_to_clicked_item_0_img_cosine_sim',\n",
      "       'clicked_item_0_item_cluster', 'clicked_item_0_item_cluster_cnt',\n",
      "       'clicked_item_0_item_cluster_user_cnt',\n",
      "       'clicked_item_0_item_cluster_item_cnt', 'clicked_item_1',\n",
      "       'clicked_item_1_cnt', 'clicked_item_1_to_item_1_score',\n",
      "       'item_1_to_clicked_item_1_txt_cosine_sim',\n",
      "       'item_1_to_clicked_item_1_img_cosine_sim',\n",
      "       'clicked_item_1_item_cluster', 'clicked_item_1_item_cluster_cnt',\n",
      "       'clicked_item_1_item_cluster_user_cnt',\n",
      "       'clicked_item_1_item_cluster_item_cnt', 'clicked_item_2',\n",
      "       'clicked_item_2_cnt', 'clicked_item_2_to_item_2_score',\n",
      "       'item_2_to_clicked_item_2_txt_cosine_sim',\n",
      "       'item_2_to_clicked_item_2_img_cosine_sim',\n",
      "       'clicked_item_2_item_cluster', 'clicked_item_2_item_cluster_cnt',\n",
      "       'clicked_item_2_item_cluster_user_cnt',\n",
      "       'clicked_item_2_item_cluster_item_cnt', 'clicked_item_3',\n",
      "       'clicked_item_3_cnt', 'clicked_item_3_to_item_3_score',\n",
      "       'item_3_to_clicked_item_3_txt_cosine_sim',\n",
      "       'item_3_to_clicked_item_3_img_cosine_sim',\n",
      "       'clicked_item_3_item_cluster', 'clicked_item_3_item_cluster_cnt',\n",
      "       'clicked_item_3_item_cluster_user_cnt',\n",
      "       'clicked_item_3_item_cluster_item_cnt', 'clicked_item_4',\n",
      "       'clicked_item_4_cnt', 'clicked_item_4_to_item_4_score',\n",
      "       'item_4_to_clicked_item_4_txt_cosine_sim',\n",
      "       'item_4_to_clicked_item_4_img_cosine_sim',\n",
      "       'clicked_item_4_item_cluster', 'clicked_item_4_item_cluster_cnt',\n",
      "       'clicked_item_4_item_cluster_user_cnt',\n",
      "       'clicked_item_4_item_cluster_item_cnt', 'train_flag', 'user_id',\n",
      "       'item_similar', 'label'],\n",
      "      dtype='object')\n",
      "   similarity_d1  similarity_d2  score_similar  dim1_user_0  dim1_user_1  \\\n",
      "0      -0.546721       0.274392       0.625826    -0.384227    -0.225302   \n",
      "1       0.317494      -0.469587       0.574607    -0.384227    -0.225302   \n",
      "\n",
      "   dim1_user_2  dim1_user_3  dim1_user_4  dim1_item_0  dim1_item_1  ...    \\\n",
      "0    -1.139276      -0.3034     1.472171    -0.301437     0.065459  ...     \n",
      "1    -1.139276      -0.3034     1.472171    -2.596513     0.461962  ...     \n",
      "\n",
      "   item_4_to_clicked_item_4_txt_cosine_sim  \\\n",
      "0                                      0.0   \n",
      "1                                      0.0   \n",
      "\n",
      "   item_4_to_clicked_item_4_img_cosine_sim  clicked_item_4_item_cluster  \\\n",
      "0                                      0.0                          6.0   \n",
      "1                                      0.0                          6.0   \n",
      "\n",
      "   clicked_item_4_item_cluster_cnt  clicked_item_4_item_cluster_user_cnt  \\\n",
      "0                          30486.0                                7442.0   \n",
      "1                          30486.0                                7442.0   \n",
      "\n",
      "   clicked_item_4_item_cluster_item_cnt  train_flag  user_id  item_similar  \\\n",
      "0                                5358.0       train    10004         24470   \n",
      "1                                5358.0       train    10004         40026   \n",
      "\n",
      "   label  \n",
      "0      0  \n",
      "1      0  \n",
      "\n",
      "[2 rows x 72 columns]\n",
      "特征数据保存\n",
      "--------------------------- 特征数据 ---------------------\n",
      "所有数据条数 4095000\n",
      "训练数据 :  2912000\n",
      "训练数据 label 1 :  4160\n",
      "训练数据 1 / 0 rate :  0.0010158730158730158\n",
      "测试数据 :  1183000\n",
      "flag :  {'train', 'test'}\n",
      "--------------------------- 训练模型 ---------------------\n",
      "[50]\tvalid_0's ndcg@1: 0.981971\tvalid_0's ndcg@2: 0.988986\tvalid_0's ndcg@3: 0.989737\tvalid_0's ndcg@4: 0.990513\tvalid_0's ndcg@5: 0.990746\n",
      "[100]\tvalid_0's ndcg@1: 0.988882\tvalid_0's ndcg@2: 0.993622\tvalid_0's ndcg@3: 0.994523\tvalid_0's ndcg@4: 0.994911\tvalid_0's ndcg@5: 0.995144\n",
      "[150]\tvalid_0's ndcg@1: 0.990385\tvalid_0's ndcg@2: 0.995314\tvalid_0's ndcg@3: 0.995614\tvalid_0's ndcg@4: 0.996002\tvalid_0's ndcg@5: 0.996119\n",
      "[200]\tvalid_0's ndcg@1: 0.990685\tvalid_0's ndcg@2: 0.995425\tvalid_0's ndcg@3: 0.995725\tvalid_0's ndcg@4: 0.996113\tvalid_0's ndcg@5: 0.99623\n",
      "[250]\tvalid_0's ndcg@1: 0.990685\tvalid_0's ndcg@2: 0.995425\tvalid_0's ndcg@3: 0.995725\tvalid_0's ndcg@4: 0.996113\tvalid_0's ndcg@5: 0.99623\n",
      "[300]\tvalid_0's ndcg@1: 0.990986\tvalid_0's ndcg@2: 0.995536\tvalid_0's ndcg@3: 0.995836\tvalid_0's ndcg@4: 0.996224\tvalid_0's ndcg@5: 0.996341\n",
      "[350]\tvalid_0's ndcg@1: 0.991286\tvalid_0's ndcg@2: 0.995646\tvalid_0's ndcg@3: 0.995947\tvalid_0's ndcg@4: 0.996335\tvalid_0's ndcg@5: 0.996451\n",
      "[400]\tvalid_0's ndcg@1: 0.990986\tvalid_0's ndcg@2: 0.995536\tvalid_0's ndcg@3: 0.995836\tvalid_0's ndcg@4: 0.996224\tvalid_0's ndcg@5: 0.996341\n",
      "[450]\tvalid_0's ndcg@1: 0.990685\tvalid_0's ndcg@2: 0.995425\tvalid_0's ndcg@3: 0.995725\tvalid_0's ndcg@4: 0.996113\tvalid_0's ndcg@5: 0.99623\n",
      "[500]\tvalid_0's ndcg@1: 0.989784\tvalid_0's ndcg@2: 0.995092\tvalid_0's ndcg@3: 0.995392\tvalid_0's ndcg@4: 0.995781\tvalid_0's ndcg@5: 0.995897\n",
      "[550]\tvalid_0's ndcg@1: 0.989784\tvalid_0's ndcg@2: 0.995092\tvalid_0's ndcg@3: 0.995392\tvalid_0's ndcg@4: 0.995781\tvalid_0's ndcg@5: 0.995897\n",
      "[600]\tvalid_0's ndcg@1: 0.989183\tvalid_0's ndcg@2: 0.994681\tvalid_0's ndcg@3: 0.995131\tvalid_0's ndcg@4: 0.99552\tvalid_0's ndcg@5: 0.995636\n",
      "[650]\tvalid_0's ndcg@1: 0.989183\tvalid_0's ndcg@2: 0.994681\tvalid_0's ndcg@3: 0.995131\tvalid_0's ndcg@4: 0.99552\tvalid_0's ndcg@5: 0.995636\n",
      "[700]\tvalid_0's ndcg@1: 0.989483\tvalid_0's ndcg@2: 0.994791\tvalid_0's ndcg@3: 0.995242\tvalid_0's ndcg@4: 0.99563\tvalid_0's ndcg@5: 0.995747\n",
      "[750]\tvalid_0's ndcg@1: 0.988882\tvalid_0's ndcg@2: 0.99457\tvalid_0's ndcg@3: 0.99502\tvalid_0's ndcg@4: 0.995409\tvalid_0's ndcg@5: 0.995525\n",
      "[800]\tvalid_0's ndcg@1: 0.988882\tvalid_0's ndcg@2: 0.99457\tvalid_0's ndcg@3: 0.99502\tvalid_0's ndcg@4: 0.995409\tvalid_0's ndcg@5: 0.995525\n",
      "[850]\tvalid_0's ndcg@1: 0.989183\tvalid_0's ndcg@2: 0.994681\tvalid_0's ndcg@3: 0.995131\tvalid_0's ndcg@4: 0.99552\tvalid_0's ndcg@5: 0.995636\n",
      "[900]\tvalid_0's ndcg@1: 0.989183\tvalid_0's ndcg@2: 0.994681\tvalid_0's ndcg@3: 0.995131\tvalid_0's ndcg@4: 0.99552\tvalid_0's ndcg@5: 0.995636\n",
      "[950]\tvalid_0's ndcg@1: 0.989183\tvalid_0's ndcg@2: 0.994681\tvalid_0's ndcg@3: 0.995131\tvalid_0's ndcg@4: 0.99552\tvalid_0's ndcg@5: 0.995636\n",
      "[1000]\tvalid_0's ndcg@1: 0.989483\tvalid_0's ndcg@2: 0.994791\tvalid_0's ndcg@3: 0.995242\tvalid_0's ndcg@4: 0.99563\tvalid_0's ndcg@5: 0.995747\n",
      "[1050]\tvalid_0's ndcg@1: 0.989483\tvalid_0's ndcg@2: 0.994791\tvalid_0's ndcg@3: 0.995242\tvalid_0's ndcg@4: 0.99563\tvalid_0's ndcg@5: 0.995747\n",
      "[1100]\tvalid_0's ndcg@1: 0.989183\tvalid_0's ndcg@2: 0.994681\tvalid_0's ndcg@3: 0.995131\tvalid_0's ndcg@4: 0.99552\tvalid_0's ndcg@5: 0.995636\n",
      "[1150]\tvalid_0's ndcg@1: 0.989183\tvalid_0's ndcg@2: 0.994681\tvalid_0's ndcg@3: 0.995131\tvalid_0's ndcg@4: 0.99552\tvalid_0's ndcg@5: 0.995636\n",
      "[1200]\tvalid_0's ndcg@1: 0.989183\tvalid_0's ndcg@2: 0.994491\tvalid_0's ndcg@3: 0.995092\tvalid_0's ndcg@4: 0.99548\tvalid_0's ndcg@5: 0.995596\n",
      "[1250]\tvalid_0's ndcg@1: 0.989183\tvalid_0's ndcg@2: 0.994491\tvalid_0's ndcg@3: 0.995092\tvalid_0's ndcg@4: 0.99548\tvalid_0's ndcg@5: 0.995596\n",
      "[1300]\tvalid_0's ndcg@1: 0.989183\tvalid_0's ndcg@2: 0.994491\tvalid_0's ndcg@3: 0.995092\tvalid_0's ndcg@4: 0.99548\tvalid_0's ndcg@5: 0.995596\n",
      "[1350]\tvalid_0's ndcg@1: 0.989183\tvalid_0's ndcg@2: 0.994491\tvalid_0's ndcg@3: 0.995092\tvalid_0's ndcg@4: 0.99548\tvalid_0's ndcg@5: 0.995596\n",
      "[1400]\tvalid_0's ndcg@1: 0.989183\tvalid_0's ndcg@2: 0.994491\tvalid_0's ndcg@3: 0.995092\tvalid_0's ndcg@4: 0.99548\tvalid_0's ndcg@5: 0.995596\n",
      "[1450]\tvalid_0's ndcg@1: 0.989183\tvalid_0's ndcg@2: 0.994491\tvalid_0's ndcg@3: 0.995092\tvalid_0's ndcg@4: 0.99548\tvalid_0's ndcg@5: 0.995596\n",
      "[1500]\tvalid_0's ndcg@1: 0.988882\tvalid_0's ndcg@2: 0.99438\tvalid_0's ndcg@3: 0.994981\tvalid_0's ndcg@4: 0.995369\tvalid_0's ndcg@5: 0.995486\n",
      "------------- eval -------------\n",
      "------------- eval result -------------\n",
      "hitrate_50_full :  0.24898252334211157 ndcg_50_full :  521.401595039158 \n",
      "\n",
      "hitrate_50_half :  0.06531302370122098 ndcg_50_half :  136.87727567569792 \n",
      "\n",
      "------------- eval result -------------\n",
      "------------- predict -------------\n"
     ]
    },
    {
     "name": "stdout",
     "output_type": "stream",
     "text": [
      "------------- assert -------------\n",
      "LGBM的特征重要性...\n"
     ]
    },
    {
     "data": {
      "text/plain": [
       "<Figure size 1080x720 with 0 Axes>"
      ]
     },
     "metadata": {},
     "output_type": "display_data"
    },
    {
     "data": {
      "image/png": "[encoded data removed]",
      "text/plain": [
       "<Figure size 432x288 with 1 Axes>"
      ]
     },
     "metadata": {
      "needs_background": "light"
     },
     "output_type": "display_data"
    },
    {
     "name": "stdout",
     "output_type": "stream",
     "text": [
      "--------------------------- 保存预测文件 ---------------------\n"
     ]
    }
   ],
   "source": [
    "\n",
    "now_phase = 2\n",
    "\n",
    "\n",
    "for phase in range(now_phase, now_phase + 1):  \n",
    "    print('phase:', phase)\n",
    "    \"\"\"\n",
    "    train_test: 训练测试点击数据\n",
    "    item_hot_list: 项目热度list\n",
    "    dict_label_user_item: 训练点击中用户——最后一次点击项目字典\n",
    "    item_hot_dict: 项目热度字典\n",
    "    time_feat：用户点击时间特征\n",
    "    \n",
    "    \"\"\"\n",
    "    click_all, test_user_set = load_click_data(phase, nrows=nrows)\n",
    "    train_test, item_hot_list, dict_label_user_item, item_hot_dict, time_feat = data_generate(click_all, test_user_set)\n",
    "\n",
    "    \n",
    "    \n",
    "    print('==================================== 召回 ====================================')\n",
    "    \n",
    "    # TODO: 增加其它召回\n",
    "    if topk_recall_read:\n",
    "        topk_recall = pd.read_pickle('../data/recall/topk_recall_{phase}.pkl'.format(phase=phase))\n",
    "        matrix_association_rules = np.load('../data/recall/matrix_association_rules_{phase}.npy'.format(phase=phase), allow_pickle=True).item()\n",
    "\n",
    "    else:\n",
    "        topk_recall, matrix_association_rules = topk_recall_association_rules_qyxs_icf(\n",
    "                                                click_all=train_test,\n",
    "                                                dict_label=dict_label_user_item, \n",
    "                                                k=recall_num\n",
    "                                                )\n",
    "        topk_recall.to_pickle('../data/recall/topk_recall_{phase}.pkl'.format(phase=phase))\n",
    "        np.save('../data/recall/matrix_association_rules_{phase}.npy'.format(phase=phase), matrix_association_rules)\n",
    "\n",
    "\n",
    "    print('-------- 评测召回效果 -------------')\n",
    "    hit_rate = metrics_recall(topk_recall=topk_recall, phase=phase, k=recall_num, sep=int(recall_num/10))\n",
    "    print('召回TOP:{k}时, 命中百分比:{hit_rate}'.format(k=recall_num, hit_rate=hit_rate))\n",
    "\n",
    "    \n",
    "    \n",
    "    print('==================================== 排序 ====================================')\n",
    "    print('-------- 构建特征 ---------')\n",
    "    \n",
    "    dim, epochs, learning_rate = 30, 15, 0.1 # 由于内存问题，size改回30\n",
    "    if embedding_feat_read:\n",
    "        print('-------- sku1 sku2 sku3 sku4 sku5 user ----------')\n",
    "        dict_embedding_all_ui_item = np.load('../data/embedding/dict_embedding_all_ui_item_{phase}.npy'.format(phase=phase), \n",
    "                                             allow_pickle=True).item()\n",
    "        \n",
    "        print('------- user1 user2 user3 user4 user5 sku -------')\n",
    "        dict_embedding_all_ui_user = np.load('../data/embedding/dict_embedding_all_ui_user_{phase}.npy'.format(phase=phase), \n",
    "                                             allow_pickle=True).item()\n",
    "        \n",
    "        print('------- item1 item2 item3 item4 item5 -------')\n",
    "        dict_embedding_item_only = np.load('../data/embedding/dict_embedding_item_only_{phase}.npy'.format(phase=phase), \n",
    "                                           allow_pickle=True).item()\n",
    "        \n",
    "        print('------- user1 user2 user3 user4 user5 -------')\n",
    "        dict_embedding_user_only = np.load('../data/embedding/dict_embedding_user_only_{phase}.npy'.format(phase=phase), \n",
    "                                           allow_pickle=True).item()\n",
    "\n",
    "    else:\n",
    "        print('-------- sku1 sku2 sku3 sku4 sku5 user ----------')\n",
    "        dict_embedding_all_ui_item = matrix_word2vec_embedding(\n",
    "                                                                click_all=train_test,\n",
    "                                                                flag='item',\n",
    "                                                                mode='all',\n",
    "                                                                dim=dim,\n",
    "                                                                epochs=epochs,\n",
    "                                                                learning_rate=learning_rate\n",
    "                                                                )\n",
    "        np.save('../data/embedding/dict_embedding_all_ui_item_{phase}.npy'.format(phase=phase),\n",
    "               dict_embedding_all_ui_item)\n",
    "\n",
    "\n",
    "        print('------- user1 user2 user3 user4 user5 sku -------')\n",
    "        dict_embedding_all_ui_user = matrix_word2vec_embedding(\n",
    "                                                                click_all=train_test,\n",
    "                                                                flag='user',\n",
    "                                                                mode='all',\n",
    "                                                                dim=dim,\n",
    "                                                                epochs=epochs,\n",
    "                                                                learning_rate=learning_rate\n",
    "                                                                )\n",
    "        np.save('../data/embedding/dict_embedding_all_ui_user_{phase}.npy'.format(phase=phase),\n",
    "               dict_embedding_all_ui_user)\n",
    "\n",
    "\n",
    "        print('------- item1 item2 item3 item4 item5 -------')\n",
    "        dict_embedding_item_only = matrix_word2vec_embedding(\n",
    "                                                                click_all=train_test,\n",
    "                                                                flag='item',\n",
    "                                                                mode='only',\n",
    "                                                                dim=dim,\n",
    "                                                                epochs=epochs,\n",
    "                                                                learning_rate=learning_rate\n",
    "                                                                )\n",
    "        np.save('../data/embedding/dict_embedding_item_only_{phase}.npy'.format(phase=phase),\n",
    "               dict_embedding_item_only)\n",
    "\n",
    "\n",
    "        print('------- user1 user2 user3 user4 user5 -------')\n",
    "        dict_embedding_user_only = matrix_word2vec_embedding(\n",
    "                                                                click_all=train_test,\n",
    "                                                                flag='user',\n",
    "                                                                mode='only',\n",
    "                                                                dim=dim,\n",
    "                                                                epochs=epochs,\n",
    "                                                                learning_rate=learning_rate\n",
    "                                                                )\n",
    "        np.save('../data/embedding/dict_embedding_user_only_{phase}.npy'.format(phase=phase),\n",
    "               dict_embedding_user_only)\n",
    "\n",
    "        \n",
    "    \n",
    "    print('------- Interactive Embedding Feature PCA -----------')\n",
    "\n",
    "    # dict_embedding_all_ui_item PCA\n",
    "    dict_embedding = dict_embedding_all_ui_item.copy()\n",
    "    dict_embedding_all_ui_item = {}\n",
    "    for i in ['user', 'item']:\n",
    "        tmp = pd.DataFrame(dict_embedding[i])\n",
    "        pca_ = embedding_fea_pca(tmp.T, n_components=pca_n_components) # 解释\n",
    "        tmp_pca = pd.DataFrame(pca_.T)\n",
    "        tmp_pca.columns = tmp.columns\n",
    "        dict_embedding_all_ui_item[i] = dict(tmp_pca)\n",
    "    \n",
    "    \n",
    "    # dict_embedding_all_ui_user PCA\n",
    "    dict_embedding = dict_embedding_all_ui_user.copy()\n",
    "    dict_embedding_all_ui_user = {}\n",
    "    for i in ['user', 'item']:\n",
    "        tmp = pd.DataFrame(dict_embedding[i])\n",
    "        pca_ = embedding_fea_pca(tmp.T, n_components=pca_n_components) # 解释\n",
    "        tmp_pca = pd.DataFrame(pca_.T)\n",
    "        tmp_pca.columns = tmp.columns\n",
    "        dict_embedding_all_ui_user[i] = dict(tmp_pca)\n",
    "    print('dict_embedding_all_ui_user是否降维成功........', len(dict_embedding_all_ui_user['user']['1']))    \n",
    "    del tmp, tmp_pca\n",
    "\n",
    "    \n",
    "    \n",
    "    print('------- user or item Embedding Feature Cluster -----------')\n",
    "\n",
    "    # dict_embedding_item_only聚类\n",
    "    item = pd.DataFrame(dict_embedding_item_only['item'])\n",
    "    km_cluster = KMeans(n_clusters=item_n_clusters, max_iter=300, n_init=40, \\\n",
    "                        init='k-means++') #, n_jobs=-1)\n",
    "    # 返回类索引\n",
    "    result = km_cluster.fit_predict(item.T)\n",
    "    item_cluster = pd.DataFrame({'item_id': item.columns, 'item_cluster': np.int16(result)})\n",
    "    del item, km_cluster, result, dict_embedding_item_only\n",
    "    \n",
    "    # dict_embedding_user_only聚类\n",
    "    user = pd.DataFrame(dict_embedding_user_only['user'])\n",
    "    km_cluster = KMeans(n_clusters=user_n_clusters, max_iter=300, n_init=40, \\\n",
    "                        init='k-means++') #, n_jobs=-1)\n",
    "    # 返回类索引\n",
    "    result = km_cluster.fit_predict(user.T)\n",
    "    user_cluster = pd.DataFrame({'user_id': user.columns, 'user_cluster': np.int16(result)})\n",
    "    del user, km_cluster, result, dict_embedding_user_only\n",
    "    \n",
    "    \n",
    "    # 加载聚类的统计特征\n",
    "    user_cluster_feat_ = user_cluster_feat(click_all, user_cluster)\n",
    "    item_cluster_feat_ = item_cluster_feat(click_all, item_cluster)\n",
    "\n",
    "    del click_all, user_cluster, item_cluster\n",
    "    \n",
    "    \n",
    "    print('------- 特征加工 -----------')\n",
    "\n",
    "    print('..............topk_recall shape:', topk_recall.shape)\n",
    "\n",
    "    \n",
    "#     feature_all = get_train_test_data(topk_recall,\n",
    "#                   matrix_association_rules, \n",
    "#                   time_feat,\n",
    "#                   user_cluster_feat_,\n",
    "#                   item_cluster_feat_,\n",
    "#                   item_hot_dict,\n",
    "#                   txt_cosine_similarity_dict,\n",
    "#                   img_cosine_similarity_dict,\n",
    "#                   dict_embedding_all_ui_item,\n",
    "#                   dict_embedding_all_ui_user,\n",
    "#                   flag_test,\n",
    "#                   click_topn)\n",
    "\n",
    "\n",
    "#     lprofiler = LineProfiler(get_train_test_data)\n",
    "#     lprofiler.run('get_train_test_data( topk_recall[:80000], matrix_association_rules, time_feat, user_cluster_feat_, item_cluster_feat_, item_hot_dict, txt_cosine_similarity_dict, img_cosine_similarity_dict, dict_embedding_all_ui_item, dict_embedding_all_ui_user, flag_test=False, click_topn=click_topn)')\n",
    "#     lprofiler.print_stats()\n",
    "\n",
    "\n",
    "    # 多进程构建特征\n",
    "    if __name__=='__main__':\n",
    "        cpu_num = cpu_count()\n",
    "        pool = Pool(5+1) # 创建一个多个进程的进程池\n",
    "        feature_part = []\n",
    "        # 将topk_recall分5批次，并不是越大越好，启动进程也是需时间的\n",
    "        batch_size = topk_recall.shape[0]//(5)\n",
    "        \n",
    "        for batch in range(5):\n",
    "            start_index = batch * batch_size\n",
    "            if batch==cpu_num:\n",
    "                end_index = topk_recall.shape[0]\n",
    "            else:\n",
    "                end_index = (1+batch) * batch_size\n",
    "            feature_part.append(pool.apply_async(func=get_train_test_data, \n",
    "                                                 args=(topk_recall[start_index:end_index],\n",
    "                                                       matrix_association_rules, \n",
    "                                                       time_feat,\n",
    "                                                       user_cluster_feat_,\n",
    "                                                       item_cluster_feat_,\n",
    "                                                       item_hot_dict,\n",
    "                                                       txt_cosine_similarity_dict,\n",
    "                                                       img_cosine_similarity_dict,\n",
    "                                                       dict_embedding_all_ui_item,\n",
    "                                                       dict_embedding_all_ui_user,\n",
    "                                                       phase,\n",
    "                                                       batch,\n",
    "                                                       flag_test,\n",
    "                                                       click_topn)))            \n",
    "        pool.close()\n",
    "        pool.join() \n",
    "        \n",
    "        \"\"\"\n",
    "        遍历result列表，取出子进程对象，访问get()方法，获取返回值。（此时所有子进程已执行完毕）\n",
    "        result[0].get()\n",
    "        \"\"\"\n",
    "        print('进程结束') \n",
    "     \n",
    "    \n",
    "    \n",
    "#     # 释放内存\n",
    "# #     del topk_recall, matrix_association_rules, txt_cosine_similarity_dict, img_cosine_similarity_dict, dict_embedding_all_ui_item, dict_embedding_all_ui_user, dict_embedding_item_only, dict_embedding_user_only\n",
    "      \n",
    "    print('分片特征数据拼接')\n",
    "    feature_all = Pool_feature_concat(feature_part)\n",
    "    print('feature_all的列: ', feature_all.columns)\n",
    "    print(feature_all.head(2))\n",
    "\n",
    "\n",
    "    feature_all = add_time_statistics(feature_all, time_feat)\n",
    "    feature_all = add_user_statistics(feature_all, user_cluster_feat_)\n",
    "    feature_all = add_item_statistics(feature_all, item_cluster_feat_)\n",
    "    \n",
    "\n",
    "    print('特征数据保存')\n",
    "    feature_all.to_pickle(\"../data/process/feature_all_phase{phase}_0002.pkl\".format(phase=phase))\n",
    "    \n",
    "    ############################## 整体数据特征 ############################## \n",
    "    print('--------------------------- 特征数据 ---------------------')\n",
    "    len_f = len(feature_all)\n",
    "    len_train = len(feature_all[feature_all['train_flag']=='train'])\n",
    "    len_test = len(feature_all[feature_all['train_flag']=='test'])\n",
    "    len_train_1 = len(feature_all[(feature_all['train_flag']=='train') & (feature_all['label']== 1)]) \n",
    "    print('所有数据条数', len_f)\n",
    "    print('训练数据 : ', len_train)\n",
    "    print('训练数据 label 1 : ', len_train_1)\n",
    "    print('训练数据 1 / 0 rate : ', len_train_1 * 1.0 / len_f)\n",
    "    print('测试数据 : ' , len_test)\n",
    "    print('flag : ', set(feature_all['train_flag']))\n",
    "\n",
    "    \n",
    "    ############################## 训练模型 ############################## \n",
    "    print('--------------------------- 训练模型 ---------------------')\n",
    "    submit = train_model_lgb(feature_all, recall_rate=hit_rate, hot_list=item_hot_list, valid=0.2, topk=50, \n",
    "                             num_boost_round=1500, early_stopping_rounds=500)\n",
    "\n",
    "    \n",
    "    # submit = train_model_rf(feature_all, recall_rate=hit_rate, hot_list=item_hot_list, valid=0.2, topk=50)\n",
    "    \n",
    "\n",
    "    print('--------------------------- 保存预测文件 ---------------------')\n",
    "    phase_submit_save(submit, phase, 50)\n"
   ]
  },
  {
   "cell_type": "code",
   "execution_count": null,
   "metadata": {},
   "outputs": [],
   "source": []
  },
  {
   "cell_type": "code",
   "execution_count": null,
   "metadata": {},
   "outputs": [],
   "source": []
  },
  {
   "cell_type": "code",
   "execution_count": 3,
   "metadata": {},
   "outputs": [
    {
     "name": "stdout",
     "output_type": "stream",
     "text": [
      "phase: 0\n",
      "================================== 加载click数据 ==================================\n",
      "================================== 生成中间数据 ==================================\n",
      "==================================== 召回 ====================================\n"
     ]
    },
    {
     "name": "stderr",
     "output_type": "stream",
     "text": [
      "28it [00:00, 271.96it/s]"
     ]
    },
    {
     "name": "stdout",
     "output_type": "stream",
     "text": [
      "------- association rules matrix 生成 ---------\n"
     ]
    },
    {
     "name": "stderr",
     "output_type": "stream",
     "text": [
      "18505it [01:02, 295.95it/s]\n",
      "14it [00:00, 127.43it/s]"
     ]
    },
    {
     "name": "stdout",
     "output_type": "stream",
     "text": [
      "------- association rules 召回 ---------\n"
     ]
    },
    {
     "name": "stderr",
     "output_type": "stream",
     "text": [
      "18505it [02:37, 117.57it/s]\n"
     ]
    },
    {
     "name": "stdout",
     "output_type": "stream",
     "text": [
      "-------- 评测召回效果 -------------\n",
      "-------- 召回效果 -------------\n",
      "--------:phase:  0  -------------\n",
      "phase:  0  top_ 0  :  hit_num :  318 hit_rate :  0.018881368008550052  data_num :  16842\n",
      "\n",
      "phase:  0  top_ 70  :  hit_num :  2344 hit_rate :  0.13917586984918656  data_num :  16842\n",
      "\n",
      "phase:  0  top_ 140  :  hit_num :  2828 hit_rate :  0.16791354945968412  data_num :  16842\n",
      "\n",
      "phase:  0  top_ 210  :  hit_num :  3076 hit_rate :  0.18263864149150932  data_num :  16842\n",
      "\n",
      "phase:  0  top_ 280  :  hit_num :  3267 hit_rate :  0.19397933737085857  data_num :  16842\n",
      "\n",
      "phase:  0  top_ 350  :  hit_num :  3432 hit_rate :  0.20377627360171002  data_num :  16842\n",
      "\n",
      "phase:  0  top_ 420  :  hit_num :  3572 hit_rate :  0.21208882555515973  data_num :  16842\n",
      "\n",
      "phase:  0  top_ 490  :  hit_num :  3703 hit_rate :  0.2198669991687448  data_num :  16842\n",
      "\n",
      "phase:  0  top_ 560  :  hit_num :  3812 hit_rate :  0.22633891461821637  data_num :  16842\n",
      "\n",
      "phase:  0  top_ 630  :  hit_num :  3921 hit_rate :  0.23281083006768793  data_num :  16842\n",
      "\n",
      "phase:  0  top_ 700  :  hit_num :  3993 hit_rate :  0.2370858567866049  data_num :  16842\n",
      "\n",
      "召回TOP:700时, 命中百分比:0.2370858567866049\n",
      "==================================== 排序 ====================================\n",
      "-------- 构建特征 ---------\n",
      "-------- sku1 sku2 sku3 sku4 sku5 user ----------\n",
      "------- user1 user2 user3 user4 user5 sku -------\n",
      "------- item1 item2 item3 item4 item5 -------\n",
      "------- user1 user2 user3 user4 user5 -------\n",
      "------- Interactive Embedding Feature PCA -----------\n",
      "------- 降成10维后的方差百分比:  [0.09132392 0.07418173 0.0711579  0.05586035 0.04929276 0.04221543\n",
      " 0.04127255 0.03982055 0.03598935 0.03400287]\n",
      "------- 降成10维后的方差百分比:  [0.06773352 0.05690826 0.05020105 0.04657952 0.04047401 0.03789893\n",
      " 0.03608139 0.0354535  0.0332817  0.03257325]\n",
      "------- 降成10维后的方差百分比:  [0.06490945 0.05826927 0.05467624 0.04517351 0.04273649 0.03978075\n",
      " 0.03708928 0.03581709 0.03447876 0.0329769 ]\n",
      "------- 降成10维后的方差百分比:  [0.10414613 0.08407438 0.0761605  0.06543435 0.05475348 0.04564494\n",
      " 0.04152263 0.03686603 0.03441886 0.03321152]\n",
      "dict_embedding_all_ui_user是否降维成功........ 10\n",
      "------- user or item Embedding Feature Cluster -----------\n",
      "------- 特征加工 -----------\n",
      "..............topk_recall shape: (12953500, 5)\n",
      "------- 构建样本 -----------\n",
      "............... train len= 588700\n",
      "............... test  len= 243600\n",
      "----------- 加入特征 train -----------\n"
     ]
    },
    {
     "name": "stderr",
     "output_type": "stream",
     "text": [
      "18968it [00:24, 792.88it/s]"
     ]
    },
    {
     "name": "stdout",
     "output_type": "stream",
     "text": [
      "------- 构建样本 -----------\n"
     ]
    },
    {
     "name": "stderr",
     "output_type": "stream",
     "text": [
      "21269it [00:26, 791.01it/s]"
     ]
    },
    {
     "name": "stdout",
     "output_type": "stream",
     "text": [
      "............... train len= 524300\n",
      "............... test  len= 229600\n"
     ]
    },
    {
     "name": "stderr",
     "output_type": "stream",
     "text": [
      "21587it [00:27, 788.93it/s]"
     ]
    },
    {
     "name": "stdout",
     "output_type": "stream",
     "text": [
      "----------- 加入特征 train -----------\n"
     ]
    },
    {
     "name": "stderr",
     "output_type": "stream",
     "text": [
      "40456it [00:51, 792.76it/s]"
     ]
    },
    {
     "name": "stdout",
     "output_type": "stream",
     "text": [
      "------- 构建样本 -----------\n"
     ]
    },
    {
     "name": "stderr",
     "output_type": "stream",
     "text": [
      "21169it [00:27, 685.42it/s]"
     ]
    },
    {
     "name": "stdout",
     "output_type": "stream",
     "text": [
      "............... train len= 570500\n",
      "............... test  len= 220500\n"
     ]
    },
    {
     "name": "stderr",
     "output_type": "stream",
     "text": [
      "21481it [00:27, 755.47it/s]"
     ]
    },
    {
     "name": "stdout",
     "output_type": "stream",
     "text": [
      "----------- 加入特征 train -----------\n"
     ]
    },
    {
     "name": "stderr",
     "output_type": "stream",
     "text": [
      "61789it [01:21, 521.72it/s]"
     ]
    },
    {
     "name": "stdout",
     "output_type": "stream",
     "text": [
      "------- 构建样本 -----------\n"
     ]
    },
    {
     "name": "stderr",
     "output_type": "stream",
     "text": [
      "42612it [00:57, 605.51it/s]"
     ]
    },
    {
     "name": "stdout",
     "output_type": "stream",
     "text": [
      "............... train len= 520800\n",
      "............... test  len= 233100\n"
     ]
    },
    {
     "name": "stderr",
     "output_type": "stream",
     "text": [
      "42968it [00:58, 533.57it/s]"
     ]
    },
    {
     "name": "stdout",
     "output_type": "stream",
     "text": [
      "----------- 加入特征 train -----------\n"
     ]
    },
    {
     "name": "stderr",
     "output_type": "stream",
     "text": [
      "37629it [00:57, 497.09it/s]"
     ]
    },
    {
     "name": "stdout",
     "output_type": "stream",
     "text": [
      "------- 构建样本 -----------\n"
     ]
    },
    {
     "name": "stderr",
     "output_type": "stream",
     "text": [
      "39344it [01:00, 515.34it/s]"
     ]
    },
    {
     "name": "stdout",
     "output_type": "stream",
     "text": [
      "............... train len= 590800\n",
      "............... test  len= 237300\n"
     ]
    },
    {
     "name": "stderr",
     "output_type": "stream",
     "text": [
      "17655it [00:30, 569.53it/s]"
     ]
    },
    {
     "name": "stdout",
     "output_type": "stream",
     "text": [
      "----------- 加入特征 train -----------\n"
     ]
    },
    {
     "name": "stderr",
     "output_type": "stream",
     "text": [
      "524300it [14:35, 598.74it/s]\n",
      "492346it [13:57, 758.53it/s]"
     ]
    },
    {
     "name": "stdout",
     "output_type": "stream",
     "text": [
      "----------- 加入特征 test -----------\n"
     ]
    },
    {
     "name": "stderr",
     "output_type": "stream",
     "text": [
      "588700it [16:09, 607.44it/s]\n",
      "520800it [14:44, 589.08it/s]\n",
      "40136it [01:07, 656.88it/s]]"
     ]
    },
    {
     "name": "stdout",
     "output_type": "stream",
     "text": [
      "----------- 加入特征 test -----------\n"
     ]
    },
    {
     "name": "stderr",
     "output_type": "stream",
     "text": [
      "524390it [14:37, 463.58it/s]"
     ]
    },
    {
     "name": "stdout",
     "output_type": "stream",
     "text": [
      "----------- 加入特征 test -----------\n"
     ]
    },
    {
     "name": "stderr",
     "output_type": "stream",
     "text": [
      "570500it [16:05, 590.72it/s]\n",
      "30228it [00:48, 490.23it/s]]"
     ]
    },
    {
     "name": "stdout",
     "output_type": "stream",
     "text": [
      "----------- 加入特征 test -----------\n"
     ]
    },
    {
     "name": "stderr",
     "output_type": "stream",
     "text": [
      "590800it [16:31, 595.85it/s]\n",
      "83551it [02:17, 553.78it/s]]"
     ]
    },
    {
     "name": "stdout",
     "output_type": "stream",
     "text": [
      "----------- 加入特征 test -----------\n"
     ]
    },
    {
     "name": "stderr",
     "output_type": "stream",
     "text": [
      "229600it [06:20, 602.81it/s]\n",
      "233100it [06:16, 619.40it/s]\n",
      "243600it [06:32, 620.40it/s]\n",
      "220500it [05:56, 618.36it/s]\n",
      "237300it [05:56, 665.00it/s]\n"
     ]
    },
    {
     "name": "stdout",
     "output_type": "stream",
     "text": [
      "进程结束\n",
      "分片特征数据拼接\n",
      "------ part=0\n",
      "------ part=1\n",
      "------ part=2\n",
      "------ part=3\n",
      "------ part=4\n",
      "feature_all的列:  Index(['similarity_d1', 'similarity_d2', 'score_similar', 'dim1_user_0',\n",
      "       'dim1_user_1', 'dim1_user_2', 'dim1_user_3', 'dim1_user_4',\n",
      "       'dim1_user_5', 'dim1_user_6', 'dim1_user_7', 'dim1_user_8',\n",
      "       'dim1_user_9', 'dim1_item_0', 'dim1_item_1', 'dim1_item_2',\n",
      "       'dim1_item_3', 'dim1_item_4', 'dim1_item_5', 'dim1_item_6',\n",
      "       'dim1_item_7', 'dim1_item_8', 'dim1_item_9', 'dim2_user_0',\n",
      "       'dim2_user_1', 'dim2_user_2', 'dim2_user_3', 'dim2_user_4',\n",
      "       'dim2_user_5', 'dim2_user_6', 'dim2_user_7', 'dim2_user_8',\n",
      "       'dim2_user_9', 'dim2_item_0', 'dim2_item_1', 'dim2_item_2',\n",
      "       'dim2_item_3', 'dim2_item_4', 'dim2_item_5', 'dim2_item_6',\n",
      "       'dim2_item_7', 'dim2_item_8', 'dim2_item_9', 'clicked_item_0',\n",
      "       'clicked_item_0_cnt', 'clicked_item_0_to_item_0_score',\n",
      "       'item_0_to_clicked_item_0_txt_cosine_sim',\n",
      "       'item_0_to_clicked_item_0_img_cosine_sim',\n",
      "       'clicked_item_0_item_cluster', 'clicked_item_0_item_cluster_cnt',\n",
      "       'clicked_item_0_item_cluster_user_cnt',\n",
      "       'clicked_item_0_item_cluster_item_cnt', 'clicked_item_1',\n",
      "       'clicked_item_1_cnt', 'clicked_item_1_to_item_1_score',\n",
      "       'item_1_to_clicked_item_1_txt_cosine_sim',\n",
      "       'item_1_to_clicked_item_1_img_cosine_sim',\n",
      "       'clicked_item_1_item_cluster', 'clicked_item_1_item_cluster_cnt',\n",
      "       'clicked_item_1_item_cluster_user_cnt',\n",
      "       'clicked_item_1_item_cluster_item_cnt', 'clicked_item_2',\n",
      "       'clicked_item_2_cnt', 'clicked_item_2_to_item_2_score',\n",
      "       'item_2_to_clicked_item_2_txt_cosine_sim',\n",
      "       'item_2_to_clicked_item_2_img_cosine_sim',\n",
      "       'clicked_item_2_item_cluster', 'clicked_item_2_item_cluster_cnt',\n",
      "       'clicked_item_2_item_cluster_user_cnt',\n",
      "       'clicked_item_2_item_cluster_item_cnt', 'clicked_item_3',\n",
      "       'clicked_item_3_cnt', 'clicked_item_3_to_item_3_score',\n",
      "       'item_3_to_clicked_item_3_txt_cosine_sim',\n",
      "       'item_3_to_clicked_item_3_img_cosine_sim',\n",
      "       'clicked_item_3_item_cluster', 'clicked_item_3_item_cluster_cnt',\n",
      "       'clicked_item_3_item_cluster_user_cnt',\n",
      "       'clicked_item_3_item_cluster_item_cnt', 'clicked_item_4',\n",
      "       'clicked_item_4_cnt', 'clicked_item_4_to_item_4_score',\n",
      "       'item_4_to_clicked_item_4_txt_cosine_sim',\n",
      "       'item_4_to_clicked_item_4_img_cosine_sim',\n",
      "       'clicked_item_4_item_cluster', 'clicked_item_4_item_cluster_cnt',\n",
      "       'clicked_item_4_item_cluster_user_cnt',\n",
      "       'clicked_item_4_item_cluster_item_cnt', 'train_flag', 'user_id',\n",
      "       'item_similar', 'label'],\n",
      "      dtype='object')\n",
      "   similarity_d1  similarity_d2  score_similar  dim1_user_0  dim1_user_1  \\\n",
      "0       0.052676       0.057989       0.857276    -1.962252    -1.999611   \n",
      "1      -0.377529       0.292928       0.717713    -1.962252    -1.999611   \n",
      "\n",
      "   dim1_user_2  dim1_user_3  dim1_user_4  dim1_user_5  dim1_user_6  ...    \\\n",
      "0    -2.313809     0.988936     0.076444      1.40334    -0.133034  ...     \n",
      "1    -2.313809     0.988936     0.076444      1.40334    -0.133034  ...     \n",
      "\n",
      "   item_4_to_clicked_item_4_txt_cosine_sim  \\\n",
      "0                                      0.0   \n",
      "1                                      0.0   \n",
      "\n",
      "   item_4_to_clicked_item_4_img_cosine_sim  clicked_item_4_item_cluster  \\\n",
      "0                                      0.0                          5.0   \n",
      "1                                      0.0                          5.0   \n",
      "\n",
      "   clicked_item_4_item_cluster_cnt  clicked_item_4_item_cluster_user_cnt  \\\n",
      "0                          28587.0                                7674.0   \n",
      "1                          28587.0                                7674.0   \n",
      "\n",
      "   clicked_item_4_item_cluster_item_cnt  train_flag  user_id  item_similar  \\\n",
      "0                                4668.0       train    10002         27926   \n",
      "1                                4668.0       train    10002         77672   \n",
      "\n",
      "   label  \n",
      "0      0  \n",
      "1      0  \n",
      "\n",
      "[2 rows x 92 columns]\n",
      "特征数据保存\n",
      "--------------------------- 特征数据 ---------------------\n",
      "所有数据条数 3959200\n",
      "训练数据 :  2795100\n",
      "训练数据 label 1 :  3993\n",
      "训练数据 1 / 0 rate :  0.0010085370781976156\n",
      "测试数据 :  1164100\n",
      "flag :  {'train', 'test'}\n",
      "--------------------------- 训练模型 ---------------------\n",
      "[50]\tvalid_0's ndcg@1: 0.983406\tvalid_0's ndcg@2: 0.989925\tvalid_0's ndcg@3: 0.990238\tvalid_0's ndcg@4: 0.991182\tvalid_0's ndcg@5: 0.991424\n",
      "[100]\tvalid_0's ndcg@1: 0.984972\tvalid_0's ndcg@2: 0.991293\tvalid_0's ndcg@3: 0.992076\tvalid_0's ndcg@4: 0.992211\tvalid_0's ndcg@5: 0.992332\n",
      "[150]\tvalid_0's ndcg@1: 0.987477\tvalid_0's ndcg@2: 0.994193\tvalid_0's ndcg@3: 0.994819\tvalid_0's ndcg@4: 0.994819\tvalid_0's ndcg@5: 0.99494\n",
      "[200]\tvalid_0's ndcg@1: 0.988729\tvalid_0's ndcg@2: 0.99505\tvalid_0's ndcg@3: 0.995363\tvalid_0's ndcg@4: 0.995363\tvalid_0's ndcg@5: 0.995484\n",
      "[250]\tvalid_0's ndcg@1: 0.989042\tvalid_0's ndcg@2: 0.995166\tvalid_0's ndcg@3: 0.995479\tvalid_0's ndcg@4: 0.995479\tvalid_0's ndcg@5: 0.9956\n",
      "[300]\tvalid_0's ndcg@1: 0.989355\tvalid_0's ndcg@2: 0.995281\tvalid_0's ndcg@3: 0.995594\tvalid_0's ndcg@4: 0.995594\tvalid_0's ndcg@5: 0.995594\n",
      "[350]\tvalid_0's ndcg@1: 0.989668\tvalid_0's ndcg@2: 0.995397\tvalid_0's ndcg@3: 0.99571\tvalid_0's ndcg@4: 0.99571\tvalid_0's ndcg@5: 0.99571\n",
      "[400]\tvalid_0's ndcg@1: 0.989668\tvalid_0's ndcg@2: 0.995397\tvalid_0's ndcg@3: 0.99571\tvalid_0's ndcg@4: 0.99571\tvalid_0's ndcg@5: 0.99571\n",
      "[450]\tvalid_0's ndcg@1: 0.989668\tvalid_0's ndcg@2: 0.995397\tvalid_0's ndcg@3: 0.99571\tvalid_0's ndcg@4: 0.99571\tvalid_0's ndcg@5: 0.99571\n",
      "[500]\tvalid_0's ndcg@1: 0.989981\tvalid_0's ndcg@2: 0.995512\tvalid_0's ndcg@3: 0.995825\tvalid_0's ndcg@4: 0.995825\tvalid_0's ndcg@5: 0.995825\n",
      "[550]\tvalid_0's ndcg@1: 0.990607\tvalid_0's ndcg@2: 0.995941\tvalid_0's ndcg@3: 0.996097\tvalid_0's ndcg@4: 0.996097\tvalid_0's ndcg@5: 0.996097\n",
      "[600]\tvalid_0's ndcg@1: 0.990294\tvalid_0's ndcg@2: 0.995825\tvalid_0's ndcg@3: 0.995982\tvalid_0's ndcg@4: 0.995982\tvalid_0's ndcg@5: 0.995982\n",
      "[650]\tvalid_0's ndcg@1: 0.990607\tvalid_0's ndcg@2: 0.995941\tvalid_0's ndcg@3: 0.996097\tvalid_0's ndcg@4: 0.996097\tvalid_0's ndcg@5: 0.996097\n",
      "[700]\tvalid_0's ndcg@1: 0.990607\tvalid_0's ndcg@2: 0.995941\tvalid_0's ndcg@3: 0.996097\tvalid_0's ndcg@4: 0.996097\tvalid_0's ndcg@5: 0.996097\n",
      "[750]\tvalid_0's ndcg@1: 0.990294\tvalid_0's ndcg@2: 0.995825\tvalid_0's ndcg@3: 0.995982\tvalid_0's ndcg@4: 0.995982\tvalid_0's ndcg@5: 0.995982\n",
      "[800]\tvalid_0's ndcg@1: 0.990294\tvalid_0's ndcg@2: 0.995825\tvalid_0's ndcg@3: 0.995982\tvalid_0's ndcg@4: 0.995982\tvalid_0's ndcg@5: 0.995982\n",
      "[850]\tvalid_0's ndcg@1: 0.990294\tvalid_0's ndcg@2: 0.995825\tvalid_0's ndcg@3: 0.995982\tvalid_0's ndcg@4: 0.995982\tvalid_0's ndcg@5: 0.995982\n",
      "[900]\tvalid_0's ndcg@1: 0.990607\tvalid_0's ndcg@2: 0.995941\tvalid_0's ndcg@3: 0.996097\tvalid_0's ndcg@4: 0.996097\tvalid_0's ndcg@5: 0.996097\n",
      "[950]\tvalid_0's ndcg@1: 0.990607\tvalid_0's ndcg@2: 0.995941\tvalid_0's ndcg@3: 0.996097\tvalid_0's ndcg@4: 0.996097\tvalid_0's ndcg@5: 0.996097\n",
      "[1000]\tvalid_0's ndcg@1: 0.990607\tvalid_0's ndcg@2: 0.995941\tvalid_0's ndcg@3: 0.996097\tvalid_0's ndcg@4: 0.996097\tvalid_0's ndcg@5: 0.996097\n",
      "[1050]\tvalid_0's ndcg@1: 0.990294\tvalid_0's ndcg@2: 0.995825\tvalid_0's ndcg@3: 0.995982\tvalid_0's ndcg@4: 0.995982\tvalid_0's ndcg@5: 0.995982\n",
      "[1100]\tvalid_0's ndcg@1: 0.990294\tvalid_0's ndcg@2: 0.995825\tvalid_0's ndcg@3: 0.995982\tvalid_0's ndcg@4: 0.995982\tvalid_0's ndcg@5: 0.995982\n",
      "[1150]\tvalid_0's ndcg@1: 0.990294\tvalid_0's ndcg@2: 0.995825\tvalid_0's ndcg@3: 0.995982\tvalid_0's ndcg@4: 0.995982\tvalid_0's ndcg@5: 0.995982\n",
      "[1200]\tvalid_0's ndcg@1: 0.990294\tvalid_0's ndcg@2: 0.995825\tvalid_0's ndcg@3: 0.995982\tvalid_0's ndcg@4: 0.995982\tvalid_0's ndcg@5: 0.995982\n",
      "[1250]\tvalid_0's ndcg@1: 0.990294\tvalid_0's ndcg@2: 0.995825\tvalid_0's ndcg@3: 0.995982\tvalid_0's ndcg@4: 0.995982\tvalid_0's ndcg@5: 0.995982\n",
      "[1300]\tvalid_0's ndcg@1: 0.990294\tvalid_0's ndcg@2: 0.995825\tvalid_0's ndcg@3: 0.995982\tvalid_0's ndcg@4: 0.995982\tvalid_0's ndcg@5: 0.995982\n",
      "[1350]\tvalid_0's ndcg@1: 0.990294\tvalid_0's ndcg@2: 0.995825\tvalid_0's ndcg@3: 0.995982\tvalid_0's ndcg@4: 0.995982\tvalid_0's ndcg@5: 0.995982\n",
      "[1400]\tvalid_0's ndcg@1: 0.990294\tvalid_0's ndcg@2: 0.995825\tvalid_0's ndcg@3: 0.995982\tvalid_0's ndcg@4: 0.995982\tvalid_0's ndcg@5: 0.995982\n",
      "[1450]\tvalid_0's ndcg@1: 0.989668\tvalid_0's ndcg@2: 0.995594\tvalid_0's ndcg@3: 0.995751\tvalid_0's ndcg@4: 0.995751\tvalid_0's ndcg@5: 0.995751\n"
     ]
    },
    {
     "name": "stdout",
     "output_type": "stream",
     "text": [
      "[1500]\tvalid_0's ndcg@1: 0.989668\tvalid_0's ndcg@2: 0.995594\tvalid_0's ndcg@3: 0.995751\tvalid_0's ndcg@4: 0.995751\tvalid_0's ndcg@5: 0.995751\n",
      "------------- eval -------------\n",
      "------------- eval result -------------\n",
      "hitrate_50_full :  0.2370858567866049 ndcg_50_full :  476.6252697499842 \n",
      "\n",
      "hitrate_50_half :  0.07007171221244679 ndcg_50_half :  141.14570482497342 \n",
      "\n",
      "------------- eval result -------------\n",
      "------------- predict -------------\n",
      "------------- assert -------------\n",
      "LGBM的特征重要性...\n"
     ]
    },
    {
     "data": {
      "text/plain": [
       "<Figure size 1080x720 with 0 Axes>"
      ]
     },
     "metadata": {},
     "output_type": "display_data"
    },
    {
     "data": {
      "image/png": "[encoded data removed]",
      "text/plain": [
       "<Figure size 432x288 with 1 Axes>"
      ]
     },
     "metadata": {
      "needs_background": "light"
     },
     "output_type": "display_data"
    },
    {
     "name": "stdout",
     "output_type": "stream",
     "text": [
      "--------------------------- 保存预测文件 ---------------------\n"
     ]
    }
   ],
   "source": [
    "\n",
    "now_phase = 0\n",
    "\n",
    "\n",
    "for phase in range(now_phase, now_phase + 1):  \n",
    "    print('phase:', phase)\n",
    "    \"\"\"\n",
    "    train_test: 训练测试点击数据\n",
    "    item_hot_list: 项目热度list\n",
    "    dict_label_user_item: 训练点击中用户——最后一次点击项目字典\n",
    "    item_hot_dict: 项目热度字典\n",
    "    time_feat：用户点击时间特征\n",
    "    \n",
    "    \"\"\"\n",
    "    click_all, test_user_set = load_click_data(phase, nrows=nrows)\n",
    "    train_test, item_hot_list, dict_label_user_item, item_hot_dict, time_feat = data_generate(click_all, test_user_set)\n",
    "\n",
    "    \n",
    "    \n",
    "    print('==================================== 召回 ====================================')\n",
    "    \n",
    "    # TODO: 增加其它召回\n",
    "    if topk_recall_read:\n",
    "        topk_recall = pd.read_pickle('../data/recall/topk_recall_{phase}.pkl'.format(phase=phase))\n",
    "        matrix_association_rules = np.load('../data/recall/matrix_association_rules_{phase}.npy'.format(phase=phase), allow_pickle=True).item()\n",
    "\n",
    "    else:\n",
    "        topk_recall, matrix_association_rules = topk_recall_association_rules_qyxs_icf(\n",
    "                                                click_all=train_test,\n",
    "                                                dict_label=dict_label_user_item, \n",
    "                                                k=recall_num\n",
    "                                                )\n",
    "        topk_recall.to_pickle('../data/recall/topk_recall_{phase}.pkl'.format(phase=phase))\n",
    "        np.save('../data/recall/matrix_association_rules_{phase}.npy'.format(phase=phase), matrix_association_rules)\n",
    "\n",
    "\n",
    "    print('-------- 评测召回效果 -------------')\n",
    "    hit_rate = metrics_recall(topk_recall=topk_recall, phase=phase, k=recall_num, sep=int(recall_num/10))\n",
    "    print('召回TOP:{k}时, 命中百分比:{hit_rate}'.format(k=recall_num, hit_rate=hit_rate))\n",
    "\n",
    "    \n",
    "    \n",
    "    print('==================================== 排序 ====================================')\n",
    "    print('-------- 构建特征 ---------')\n",
    "    \n",
    "    dim, epochs, learning_rate = 30, 15, 0.1 # 由于内存问题，size改回30\n",
    "    if embedding_feat_read:\n",
    "        print('-------- sku1 sku2 sku3 sku4 sku5 user ----------')\n",
    "        dict_embedding_all_ui_item = np.load('../data/embedding/dict_embedding_all_ui_item_{phase}.npy'.format(phase=phase), \n",
    "                                             allow_pickle=True).item()\n",
    "        \n",
    "        print('------- user1 user2 user3 user4 user5 sku -------')\n",
    "        dict_embedding_all_ui_user = np.load('../data/embedding/dict_embedding_all_ui_user_{phase}.npy'.format(phase=phase), \n",
    "                                             allow_pickle=True).item()\n",
    "        \n",
    "        print('------- item1 item2 item3 item4 item5 -------')\n",
    "        dict_embedding_item_only = np.load('../data/embedding/dict_embedding_item_only_{phase}.npy'.format(phase=phase), \n",
    "                                           allow_pickle=True).item()\n",
    "        \n",
    "        print('------- user1 user2 user3 user4 user5 -------')\n",
    "        dict_embedding_user_only = np.load('../data/embedding/dict_embedding_user_only_{phase}.npy'.format(phase=phase), \n",
    "                                           allow_pickle=True).item()\n",
    "\n",
    "    else:\n",
    "        print('-------- sku1 sku2 sku3 sku4 sku5 user ----------')\n",
    "        dict_embedding_all_ui_item = matrix_word2vec_embedding(\n",
    "                                                                click_all=train_test,\n",
    "                                                                flag='item',\n",
    "                                                                mode='all',\n",
    "                                                                dim=dim,\n",
    "                                                                epochs=epochs,\n",
    "                                                                learning_rate=learning_rate\n",
    "                                                                )\n",
    "        np.save('../data/embedding/dict_embedding_all_ui_item_{phase}.npy'.format(phase=phase),\n",
    "               dict_embedding_all_ui_item)\n",
    "\n",
    "\n",
    "        print('------- user1 user2 user3 user4 user5 sku -------')\n",
    "        dict_embedding_all_ui_user = matrix_word2vec_embedding(\n",
    "                                                                click_all=train_test,\n",
    "                                                                flag='user',\n",
    "                                                                mode='all',\n",
    "                                                                dim=dim,\n",
    "                                                                epochs=epochs,\n",
    "                                                                learning_rate=learning_rate\n",
    "                                                                )\n",
    "        np.save('../data/embedding/dict_embedding_all_ui_user_{phase}.npy'.format(phase=phase),\n",
    "               dict_embedding_all_ui_user)\n",
    "\n",
    "\n",
    "        print('------- item1 item2 item3 item4 item5 -------')\n",
    "        dict_embedding_item_only = matrix_word2vec_embedding(\n",
    "                                                                click_all=train_test,\n",
    "                                                                flag='item',\n",
    "                                                                mode='only',\n",
    "                                                                dim=dim,\n",
    "                                                                epochs=epochs,\n",
    "                                                                learning_rate=learning_rate\n",
    "                                                                )\n",
    "        np.save('../data/embedding/dict_embedding_item_only_{phase}.npy'.format(phase=phase),\n",
    "               dict_embedding_item_only)\n",
    "\n",
    "\n",
    "        print('------- user1 user2 user3 user4 user5 -------')\n",
    "        dict_embedding_user_only = matrix_word2vec_embedding(\n",
    "                                                                click_all=train_test,\n",
    "                                                                flag='user',\n",
    "                                                                mode='only',\n",
    "                                                                dim=dim,\n",
    "                                                                epochs=epochs,\n",
    "                                                                learning_rate=learning_rate\n",
    "                                                                )\n",
    "        np.save('../data/embedding/dict_embedding_user_only_{phase}.npy'.format(phase=phase),\n",
    "               dict_embedding_user_only)\n",
    "\n",
    "        \n",
    "    \n",
    "    print('------- Interactive Embedding Feature PCA -----------')\n",
    "\n",
    "    # dict_embedding_all_ui_item PCA\n",
    "    dict_embedding = dict_embedding_all_ui_item.copy()\n",
    "    dict_embedding_all_ui_item = {}\n",
    "    for i in ['user', 'item']:\n",
    "        tmp = pd.DataFrame(dict_embedding[i])\n",
    "        pca_ = embedding_fea_pca(tmp.T, n_components=pca_n_components) # 解释\n",
    "        tmp_pca = pd.DataFrame(pca_.T)\n",
    "        tmp_pca.columns = tmp.columns\n",
    "        dict_embedding_all_ui_item[i] = dict(tmp_pca)\n",
    "    \n",
    "    \n",
    "    # dict_embedding_all_ui_user PCA\n",
    "    dict_embedding = dict_embedding_all_ui_user.copy()\n",
    "    dict_embedding_all_ui_user = {}\n",
    "    for i in ['user', 'item']:\n",
    "        tmp = pd.DataFrame(dict_embedding[i])\n",
    "        pca_ = embedding_fea_pca(tmp.T, n_components=pca_n_components) # 解释\n",
    "        tmp_pca = pd.DataFrame(pca_.T)\n",
    "        tmp_pca.columns = tmp.columns\n",
    "        dict_embedding_all_ui_user[i] = dict(tmp_pca)\n",
    "    print('dict_embedding_all_ui_user是否降维成功........', len(dict_embedding_all_ui_user['user']['1']))    \n",
    "    del tmp, tmp_pca\n",
    "\n",
    "    \n",
    "    \n",
    "    print('------- user or item Embedding Feature Cluster -----------')\n",
    "\n",
    "    # dict_embedding_item_only聚类\n",
    "    item = pd.DataFrame(dict_embedding_item_only['item'])\n",
    "    km_cluster = KMeans(n_clusters=item_n_clusters, max_iter=300, n_init=40, \\\n",
    "                        init='k-means++') #, n_jobs=-1)\n",
    "    # 返回类索引\n",
    "    result = km_cluster.fit_predict(item.T)\n",
    "    item_cluster = pd.DataFrame({'item_id': item.columns, 'item_cluster': np.int16(result)})\n",
    "    del item, km_cluster, result, dict_embedding_item_only\n",
    "    \n",
    "    # dict_embedding_user_only聚类\n",
    "    user = pd.DataFrame(dict_embedding_user_only['user'])\n",
    "    km_cluster = KMeans(n_clusters=user_n_clusters, max_iter=300, n_init=40, \\\n",
    "                        init='k-means++') #, n_jobs=-1)\n",
    "    # 返回类索引\n",
    "    result = km_cluster.fit_predict(user.T)\n",
    "    user_cluster = pd.DataFrame({'user_id': user.columns, 'user_cluster': np.int16(result)})\n",
    "    del user, km_cluster, result, dict_embedding_user_only\n",
    "    \n",
    "    \n",
    "    # 加载聚类的统计特征\n",
    "    user_cluster_feat_ = user_cluster_feat(click_all, user_cluster)\n",
    "    item_cluster_feat_ = item_cluster_feat(click_all, item_cluster)\n",
    "\n",
    "    del click_all, user_cluster, item_cluster\n",
    "    \n",
    "    \n",
    "    print('------- 特征加工 -----------')\n",
    "\n",
    "    print('..............topk_recall shape:', topk_recall.shape)\n",
    "\n",
    "    \n",
    "#     feature_all = get_train_test_data(topk_recall,\n",
    "#                   matrix_association_rules, \n",
    "#                   time_feat,\n",
    "#                   user_cluster_feat_,\n",
    "#                   item_cluster_feat_,\n",
    "#                   item_hot_dict,\n",
    "#                   txt_cosine_similarity_dict,\n",
    "#                   img_cosine_similarity_dict,\n",
    "#                   dict_embedding_all_ui_item,\n",
    "#                   dict_embedding_all_ui_user,\n",
    "#                   flag_test,\n",
    "#                   click_topn)\n",
    "\n",
    "\n",
    "#     lprofiler = LineProfiler(get_train_test_data)\n",
    "#     lprofiler.run('get_train_test_data( topk_recall[:80000], matrix_association_rules, time_feat, user_cluster_feat_, item_cluster_feat_, item_hot_dict, txt_cosine_similarity_dict, img_cosine_similarity_dict, dict_embedding_all_ui_item, dict_embedding_all_ui_user, flag_test=False, click_topn=click_topn)')\n",
    "#     lprofiler.print_stats()\n",
    "\n",
    "\n",
    "    # 多进程构建特征\n",
    "    if __name__=='__main__':\n",
    "        cpu_num = cpu_count()\n",
    "        pool = Pool(5+1) # 创建一个多个进程的进程池\n",
    "        feature_part = []\n",
    "        # 将topk_recall分5批次，并不是越大越好，启动进程也是需时间的\n",
    "        batch_size = topk_recall.shape[0]//(5)\n",
    "        \n",
    "        for batch in range(5):\n",
    "            start_index = batch * batch_size\n",
    "            if batch==cpu_num:\n",
    "                end_index = topk_recall.shape[0]\n",
    "            else:\n",
    "                end_index = (1+batch) * batch_size\n",
    "            feature_part.append(pool.apply_async(func=get_train_test_data, \n",
    "                                                 args=(topk_recall[start_index:end_index],\n",
    "                                                       matrix_association_rules, \n",
    "                                                       time_feat,\n",
    "                                                       user_cluster_feat_,\n",
    "                                                       item_cluster_feat_,\n",
    "                                                       item_hot_dict,\n",
    "                                                       txt_cosine_similarity_dict,\n",
    "                                                       img_cosine_similarity_dict,\n",
    "                                                       dict_embedding_all_ui_item,\n",
    "                                                       dict_embedding_all_ui_user,\n",
    "                                                       flag_test,\n",
    "                                                       click_topn)))            \n",
    "        pool.close()\n",
    "        pool.join() \n",
    "        \n",
    "        \"\"\"\n",
    "        遍历result列表，取出子进程对象，访问get()方法，获取返回值。（此时所有子进程已执行完毕）\n",
    "        result[0].get()\n",
    "        \"\"\"\n",
    "        print('进程结束') \n",
    "     \n",
    "    \n",
    "    \n",
    "#     # 释放内存\n",
    "# #     del topk_recall, matrix_association_rules, txt_cosine_similarity_dict, img_cosine_similarity_dict, dict_embedding_all_ui_item, dict_embedding_all_ui_user, dict_embedding_item_only, dict_embedding_user_only\n",
    "      \n",
    "    print('分片特征数据拼接')\n",
    "    feature_all = Pool_feature_concat(feature_part)\n",
    "    print('feature_all的列: ', feature_all.columns)\n",
    "    print(feature_all.head(2))\n",
    "\n",
    "\n",
    "    feature_all = add_time_statistics(feature_all, time_feat)\n",
    "    feature_all = add_user_statistics(feature_all, user_cluster_feat_)\n",
    "    feature_all = add_item_statistics(feature_all, item_cluster_feat_)\n",
    "    \n",
    "\n",
    "    print('特征数据保存')\n",
    "    feature_all.to_pickle(\"../data/process/feature_all_phase{phase}_0002.pkl\".format(phase=phase))\n",
    "    \n",
    "    ############################## 整体数据特征 ############################## \n",
    "    print('--------------------------- 特征数据 ---------------------')\n",
    "    len_f = len(feature_all)\n",
    "    len_train = len(feature_all[feature_all['train_flag']=='train'])\n",
    "    len_test = len(feature_all[feature_all['train_flag']=='test'])\n",
    "    len_train_1 = len(feature_all[(feature_all['train_flag']=='train') & (feature_all['label']== 1)]) \n",
    "    print('所有数据条数', len_f)\n",
    "    print('训练数据 : ', len_train)\n",
    "    print('训练数据 label 1 : ', len_train_1)\n",
    "    print('训练数据 1 / 0 rate : ', len_train_1 * 1.0 / len_f)\n",
    "    print('测试数据 : ' , len_test)\n",
    "    print('flag : ', set(feature_all['train_flag']))\n",
    "\n",
    "    \n",
    "    ############################## 训练模型 ############################## \n",
    "    print('--------------------------- 训练模型 ---------------------')\n",
    "    submit = train_model_lgb(feature_all, recall_rate=hit_rate, hot_list=item_hot_list, valid=0.2, topk=50, \n",
    "                             num_boost_round=1500, early_stopping_rounds=500)\n",
    "\n",
    "    \n",
    "    # submit = train_model_rf(feature_all, recall_rate=hit_rate, hot_list=item_hot_list, valid=0.2, topk=50)\n",
    "    \n",
    "\n",
    "    print('--------------------------- 保存预测文件 ---------------------')\n",
    "    phase_submit_save(submit, phase, 50)\n"
   ]
  },
  {
   "cell_type": "code",
   "execution_count": null,
   "metadata": {},
   "outputs": [],
   "source": []
  },
  {
   "cell_type": "code",
   "execution_count": 4,
   "metadata": {},
   "outputs": [],
   "source": [
    "# res7 = pd.read_csv(\"../result/submit-wanping7-7-2020-06-07 19:12:01.csv\", header=None)\n",
    "# res8 = pd.read_csv(\"../result/submit-wanping7-8-2020-06-07 17:07:39.csv\", header=None)\n",
    "# res9 = pd.read_csv(\"../result/submit-wanping7-9-2020-06-07 18:13:02.csv\", header=None)\n",
    "# res = pd.concat([res7, res8, res9], axis=0)\n",
    "# res.to_csv(\"../result/submit_traceb_v1.csv\", header=None, index=False)\n",
    "\n",
    "# res.shape\n",
    "# # (5367, 51)"
   ]
  }
 ],
 "metadata": {
  "kernelspec": {
   "display_name": "Python 3",
   "language": "python",
   "name": "python3"
  },
  "language_info": {
   "codemirror_mode": {
    "name": "ipython",
    "version": 3
   },
   "file_extension": ".py",
   "mimetype": "text/x-python",
   "name": "python",
   "nbconvert_exporter": "python",
   "pygments_lexer": "ipython3",
   "version": "3.7.0"
  }
 },
 "nbformat": 4,
 "nbformat_minor": 2
}
