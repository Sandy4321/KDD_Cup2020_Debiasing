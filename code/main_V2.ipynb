{
 "cells": [
  {
   "cell_type": "code",
   "execution_count": 1,
   "metadata": {},
   "outputs": [
    {
     "name": "stdout",
     "output_type": "stream",
     "text": [
      "have not glove\n",
      "have not glove\n"
     ]
    }
   ],
   "source": [
    "import numpy as np\n",
    "import pandas as pd\n",
    "import warnings\n",
    "warnings.filterwarnings(\"ignore\")\n",
    "import matplotlib.pyplot as plt\n",
    "import seaborn as sns\n",
    "import time\n",
    "import lightgbm as lgb\n",
    "import xgboost as xgb\n",
    "from xgboost import plot_importance\n",
    "from tqdm import tqdm\n",
    "from collections import Counter\n",
    "from multiprocessing import Pool, cpu_count\n",
    "# 代码运行耗时查看器\n",
    "from line_profiler import LineProfiler\n",
    "from sklearn.cluster import KMeans\n",
    "\n",
    "from recall import topk_recall_association_rules_qyxs_icf\n",
    "from process import load_click_data, data_generate, item_cluster_feat, user_cluster_feat, \\\n",
    "                     matrix_word2vec_embedding, embedding_fea_pca, get_train_test_data, \\\n",
    "                     Pool_feature_concat, phase_submit_save, add_time_statistics, \\\n",
    "                     add_user_statistics, add_item_statistics, load_pool_feature, \\\n",
    "                     remove_pool_feature, user_feat_data, age_sex_city_data, null_xgb_predict, add_user_profile_info\n",
    "from model import train_model_lgb\n",
    "from metric import metrics_recall \n",
    "\n",
    "train_path = '../data/underexpose_train'  \n",
    "test_path = '../data/underexpose_test'"
   ]
  },
  {
   "cell_type": "markdown",
   "metadata": {},
   "source": [
    "# 内容\n",
    "\n",
    "- 相对于V1增加了用户最喜爱session，用户不同session数\n",
    "- item_n_clusters、user_n_clusters改为50\n",
    "- 用户画像信息（但是重要性很低）\n",
    "- lgb模型metric改为\"MAP\""
   ]
  },
  {
   "cell_type": "code",
   "execution_count": 2,
   "metadata": {},
   "outputs": [
    {
     "data": {
      "text/plain": [
       "numpy.float32"
      ]
     },
     "execution_count": 2,
     "metadata": {},
     "output_type": "execute_result"
    }
   ],
   "source": [
    "# train\n",
    "phase_append = False\n",
    "flag_test = False\n",
    "recall_num = 700\n",
    "topk = 50\n",
    "# 构造特征时取用户最近点击项目数\n",
    "click_topn=5\n",
    "# pca成分数量\n",
    "pca_n_components=5\n",
    "# 项目聚类数\n",
    "item_n_clusters=50\n",
    "# 用户聚类数\n",
    "user_n_clusters=50\n",
    "nrows = None \n",
    "# embedding特征与召回数据已有，直接取为True\n",
    "topk_recall_read = True\n",
    "embedding_feat_read = True\n",
    "# 进程处理中数据划分份数或者任务数量\n",
    "batchs_n = 4\n",
    "# 进程中open的cpu核数\n",
    "open_cpu_n = 5\n",
    "\n",
    "\n",
    "\n",
    "# test\n",
    "# phase_append = False\n",
    "# flag_test = True\n",
    "# recall_num = 50\n",
    "# topk = 50\n",
    "# nrows = 1000\n",
    "\n",
    "# txt与img余弦相似度字典\n",
    "txt_cosine_similarity_dict = np.load('../data/process/txt_cosine_similarity_dict.npy', allow_pickle=True).item()\n",
    "img_cosine_similarity_dict = np.load('../data/process/img_cosine_similarity_dict.npy', allow_pickle=True).item()\n",
    "type(txt_cosine_similarity_dict['42844']['67898'])"
   ]
  },
  {
   "cell_type": "code",
   "execution_count": 3,
   "metadata": {},
   "outputs": [
    {
     "name": "stdout",
     "output_type": "stream",
     "text": [
      "phase: 9\n",
      "================================== 加载click数据 ==================================\n",
      "================================== 生成中间数据 ==================================\n",
      "==================================== 召回 ====================================\n",
      "-------- 评测召回效果 -------------\n",
      "-------- 召回效果 -------------\n",
      "--------:phase:  9  -------------\n",
      "phase:  9  top_ 0  :  hit_num :  275 hit_rate :  0.015031429352282044  data_num :  18295\n",
      "\n",
      "phase:  9  top_ 70  :  hit_num :  2361 hit_rate :  0.12905165345722874  data_num :  18295\n",
      "\n",
      "phase:  9  top_ 140  :  hit_num :  2871 hit_rate :  0.15692812243782453  data_num :  18295\n",
      "\n",
      "phase:  9  top_ 210  :  hit_num :  3173 hit_rate :  0.1734353648537852  data_num :  18295\n",
      "\n",
      "phase:  9  top_ 280  :  hit_num :  3380 hit_rate :  0.18474993167532114  data_num :  18295\n",
      "\n",
      "phase:  9  top_ 350  :  hit_num :  3538 hit_rate :  0.1933861710849959  data_num :  18295\n",
      "\n",
      "phase:  9  top_ 420  :  hit_num :  3696 hit_rate :  0.20202241049467068  data_num :  18295\n",
      "\n",
      "phase:  9  top_ 490  :  hit_num :  3809 hit_rate :  0.20819896146488112  data_num :  18295\n",
      "\n",
      "phase:  9  top_ 560  :  hit_num :  3914 hit_rate :  0.2139382344902979  data_num :  18295\n",
      "\n",
      "phase:  9  top_ 630  :  hit_num :  4033 hit_rate :  0.22044274391910357  data_num :  18295\n",
      "\n",
      "phase:  9  top_ 700  :  hit_num :  4131 hit_rate :  0.2257993987428259  data_num :  18295\n",
      "\n",
      "召回TOP:700时, 命中百分比:0.2257993987428259\n",
      "==================================== 排序 ====================================\n",
      "-------- 构建特征 ---------\n",
      "-------- sku1 sku2 sku3 sku4 sku5 user ----------\n",
      "------- user1 user2 user3 user4 user5 sku -------\n",
      "------- item1 item2 item3 item4 item5 -------\n",
      "------- user1 user2 user3 user4 user5 -------\n",
      "------- Interactive Embedding Feature PCA -----------\n",
      "------- 降成5维后的方差百分比:  [0.08848897 0.07578801 0.06287452 0.05510019 0.05211169]\n",
      "------- 降成5维后的方差百分比:  [0.06639089 0.05707224 0.05161868 0.0445114  0.03879251]\n",
      "------- 降成5维后的方差百分比:  [0.06577002 0.05884134 0.0516169  0.04509513 0.04163805]\n",
      "------- 降成5维后的方差百分比:  [0.10183186 0.08619381 0.07867925 0.06252474 0.05018799]\n",
      "dict_embedding_all_ui_user是否降维成功........ 5\n",
      "------- user or item Embedding Feature Cluster -----------\n",
      "------- 特征加工 -----------\n",
      "..............topk_recall shape: (14032900, 5)\n",
      "------- 构建样本 -----------\n",
      "............... train len= 760200\n",
      "............... test  len= 291200\n",
      "----------- 加入特征 train -----------\n"
     ]
    },
    {
     "name": "stderr",
     "output_type": "stream",
     "text": [
      "13059it [00:24, 525.70it/s]"
     ]
    },
    {
     "name": "stdout",
     "output_type": "stream",
     "text": [
      "------- 构建样本 -----------\n"
     ]
    },
    {
     "name": "stderr",
     "output_type": "stream",
     "text": [
      "15020it [00:28, 526.64it/s]"
     ]
    },
    {
     "name": "stdout",
     "output_type": "stream",
     "text": [
      "............... train len= 712600\n",
      "............... test  len= 317800\n"
     ]
    },
    {
     "name": "stderr",
     "output_type": "stream",
     "text": [
      "\r",
      "15073it [00:28, 524.89it/s]"
     ]
    },
    {
     "name": "stdout",
     "output_type": "stream",
     "text": [
      "----------- 加入特征 train -----------\n"
     ]
    },
    {
     "name": "stderr",
     "output_type": "stream",
     "text": [
      "28170it [00:54, 525.61it/s]"
     ]
    },
    {
     "name": "stdout",
     "output_type": "stream",
     "text": [
      "------- 构建样本 -----------\n"
     ]
    },
    {
     "name": "stderr",
     "output_type": "stream",
     "text": [
      "30131it [00:57, 524.68it/s]"
     ]
    },
    {
     "name": "stdout",
     "output_type": "stream",
     "text": [
      "............... train len= 699300\n",
      "............... test  len= 317275\n"
     ]
    },
    {
     "name": "stderr",
     "output_type": "stream",
     "text": [
      "15169it [00:29, 523.80it/s]"
     ]
    },
    {
     "name": "stdout",
     "output_type": "stream",
     "text": [
      "----------- 加入特征 train -----------\n"
     ]
    },
    {
     "name": "stderr",
     "output_type": "stream",
     "text": [
      "27819it [00:55, 436.83it/s]"
     ]
    },
    {
     "name": "stdout",
     "output_type": "stream",
     "text": [
      "------- 构建样本 -----------\n"
     ]
    },
    {
     "name": "stderr",
     "output_type": "stream",
     "text": [
      "29571it [00:59, 365.31it/s]"
     ]
    },
    {
     "name": "stdout",
     "output_type": "stream",
     "text": [
      "............... train len= 719600\n",
      "............... test  len= 300125\n"
     ]
    },
    {
     "name": "stderr",
     "output_type": "stream",
     "text": [
      "45027it [01:28, 395.18it/s]"
     ]
    },
    {
     "name": "stdout",
     "output_type": "stream",
     "text": [
      "----------- 加入特征 train -----------\n"
     ]
    },
    {
     "name": "stderr",
     "output_type": "stream",
     "text": [
      "712600it [24:24, 486.67it/s]\n",
      "699300it [23:57, 486.31it/s]\n",
      "733109it [25:05, 518.78it/s]"
     ]
    },
    {
     "name": "stdout",
     "output_type": "stream",
     "text": [
      "----------- 加入特征 test -----------\n"
     ]
    },
    {
     "name": "stderr",
     "output_type": "stream",
     "text": [
      "690128it [23:39, 513.38it/s]"
     ]
    },
    {
     "name": "stdout",
     "output_type": "stream",
     "text": [
      "----------- 加入特征 test -----------\n"
     ]
    },
    {
     "name": "stderr",
     "output_type": "stream",
     "text": [
      "760200it [26:01, 486.92it/s]\n",
      "719600it [24:39, 486.42it/s]\n",
      "33879it [01:08, 449.97it/s]"
     ]
    },
    {
     "name": "stdout",
     "output_type": "stream",
     "text": [
      "----------- 加入特征 test -----------\n"
     ]
    },
    {
     "name": "stderr",
     "output_type": "stream",
     "text": [
      "35104it [01:12, 531.61it/s]"
     ]
    },
    {
     "name": "stdout",
     "output_type": "stream",
     "text": [
      "----------- 加入特征 test -----------\n"
     ]
    },
    {
     "name": "stderr",
     "output_type": "stream",
     "text": [
      "317275it [10:45, 491.33it/s]\n",
      "317800it [10:48, 489.82it/s]\n",
      "291200it [09:54, 489.45it/s]\n",
      "300125it [10:13, 489.36it/s]\n"
     ]
    },
    {
     "name": "stdout",
     "output_type": "stream",
     "text": [
      "进程结束\n",
      "分片特征数据拼接\n",
      "Removed all files of '../cache/pool_feature_part_phase9...'\n",
      "-------------- age特征缺失预测 --------------\n",
      "[0]\tvalidation_0-mlogloss:2.06406\n",
      "Will train until validation_0-mlogloss hasn't improved in 200 rounds.\n",
      "[200]\tvalidation_0-mlogloss:1.72533\n",
      "Stopping. Best iteration:\n",
      "[124]\tvalidation_0-mlogloss:1.71129\n",
      "\n",
      "-------------- sex特征缺失预测 --------------\n",
      "[0]\tvalidation_0-auc:0.72462\n",
      "Will train until validation_0-auc hasn't improved in 200 rounds.\n",
      "[200]\tvalidation_0-auc:0.83133\n",
      "Stopping. Best iteration:\n",
      "[93]\tvalidation_0-auc:0.83757\n",
      "\n",
      "-------------- city特征缺失预测 --------------\n",
      "[0]\tvalidation_0-mlogloss:1.78561\n",
      "Will train until validation_0-mlogloss hasn't improved in 200 rounds.\n",
      "[200]\tvalidation_0-mlogloss:1.74664\n",
      "Stopping. Best iteration:\n",
      "[52]\tvalidation_0-mlogloss:1.69654\n",
      "\n",
      "feature_all的列:  Index(['similarity_d1', 'similarity_d2', 'score_similar', 'dim1_user_0',\n",
      "       'dim1_user_1', 'dim1_user_2', 'dim1_user_3', 'dim1_user_4',\n",
      "       'dim1_item_0', 'dim1_item_1', 'dim1_item_2', 'dim1_item_3',\n",
      "       'dim1_item_4', 'dim2_user_0', 'dim2_user_1', 'dim2_user_2',\n",
      "       'dim2_user_3', 'dim2_user_4', 'dim2_item_0', 'dim2_item_1',\n",
      "       'dim2_item_2', 'dim2_item_3', 'dim2_item_4', 'clicked_item_0',\n",
      "       'clicked_item_0_cnt', 'clicked_item_0_to_item_0_score',\n",
      "       'item_0_to_clicked_item_0_txt_cosine_sim',\n",
      "       'item_0_to_clicked_item_0_img_cosine_sim',\n",
      "       'clicked_item_0_item_cluster', 'clicked_item_0_item_cluster_cnt',\n",
      "       'clicked_item_0_item_cluster_user_cnt',\n",
      "       'clicked_item_0_item_cluster_item_cnt', 'clicked_item_1',\n",
      "       'clicked_item_1_cnt', 'clicked_item_1_to_item_1_score',\n",
      "       'item_1_to_clicked_item_1_txt_cosine_sim',\n",
      "       'item_1_to_clicked_item_1_img_cosine_sim',\n",
      "       'clicked_item_1_item_cluster', 'clicked_item_1_item_cluster_cnt',\n",
      "       'clicked_item_1_item_cluster_user_cnt',\n",
      "       'clicked_item_1_item_cluster_item_cnt', 'clicked_item_2',\n",
      "       'clicked_item_2_cnt', 'clicked_item_2_to_item_2_score',\n",
      "       'item_2_to_clicked_item_2_txt_cosine_sim',\n",
      "       'item_2_to_clicked_item_2_img_cosine_sim',\n",
      "       'clicked_item_2_item_cluster', 'clicked_item_2_item_cluster_cnt',\n",
      "       'clicked_item_2_item_cluster_user_cnt',\n",
      "       'clicked_item_2_item_cluster_item_cnt', 'clicked_item_3',\n",
      "       'clicked_item_3_cnt', 'clicked_item_3_to_item_3_score',\n",
      "       'item_3_to_clicked_item_3_txt_cosine_sim',\n",
      "       'item_3_to_clicked_item_3_img_cosine_sim',\n",
      "       'clicked_item_3_item_cluster', 'clicked_item_3_item_cluster_cnt',\n",
      "       'clicked_item_3_item_cluster_user_cnt',\n",
      "       'clicked_item_3_item_cluster_item_cnt', 'clicked_item_4',\n",
      "       'clicked_item_4_cnt', 'clicked_item_4_to_item_4_score',\n",
      "       'item_4_to_clicked_item_4_txt_cosine_sim',\n",
      "       'item_4_to_clicked_item_4_img_cosine_sim',\n",
      "       'clicked_item_4_item_cluster', 'clicked_item_4_item_cluster_cnt',\n",
      "       'clicked_item_4_item_cluster_user_cnt',\n",
      "       'clicked_item_4_item_cluster_item_cnt', 'train_flag', 'user_id',\n",
      "       'item_similar', 'label', 'age', 'sex', 'city', 'user_click_item_num',\n",
      "       'time_max_min_minus', 'time_diff_mean', 'time_mean', 'time_std',\n",
      "       'time_max', 'time_min', 'different_session_num',\n",
      "       'favorite_session_click', 'user_cluster', 'user_cluster_cnt',\n",
      "       'user_cluster_user_cnt', 'user_cluster_item_cnt', 'item_cluster',\n",
      "       'item_cluster_cnt', 'item_cluster_user_cnt', 'item_cluster_item_cnt'],\n",
      "      dtype='object')\n",
      "--------------------------- 特征数据 ---------------------\n",
      "所有数据条数 4123000\n",
      "训练数据 :  2896600\n",
      "训练数据 label 1 :  4138\n",
      "训练数据 1 / 0 rate :  0.001003638127577007\n",
      "测试数据 :  1226400\n",
      "flag :  {'train', 'test'}\n",
      "--------------------------- 训练模型 ---------------------\n",
      "Training until validation scores don't improve for 500 rounds\n",
      "[50]\tvalid_0's map@1: 0.988805\tvalid_0's map@2: 0.992284\tvalid_0's map@3: 0.992284\tvalid_0's map@4: 0.992587\tvalid_0's map@5: 0.992648\n",
      "[100]\tvalid_0's map@1: 0.988805\tvalid_0's map@2: 0.991982\tvalid_0's map@3: 0.992083\tvalid_0's map@4: 0.992385\tvalid_0's map@5: 0.992446\n",
      "[150]\tvalid_0's map@1: 0.989107\tvalid_0's map@2: 0.992587\tvalid_0's map@3: 0.992688\tvalid_0's map@4: 0.99299\tvalid_0's map@5: 0.993051\n",
      "[200]\tvalid_0's map@1: 0.990015\tvalid_0's map@2: 0.993041\tvalid_0's map@3: 0.993142\tvalid_0's map@4: 0.993444\tvalid_0's map@5: 0.993505\n",
      "[250]\tvalid_0's map@1: 0.989713\tvalid_0's map@2: 0.99289\tvalid_0's map@3: 0.99299\tvalid_0's map@4: 0.993293\tvalid_0's map@5: 0.993354\n",
      "[300]\tvalid_0's map@1: 0.992738\tvalid_0's map@2: 0.995159\tvalid_0's map@3: 0.99526\tvalid_0's map@4: 0.995335\tvalid_0's map@5: 0.995456\n",
      "[350]\tvalid_0's map@1: 0.992436\tvalid_0's map@2: 0.994554\tvalid_0's map@3: 0.994755\tvalid_0's map@4: 0.994982\tvalid_0's map@5: 0.995103\n",
      "[400]\tvalid_0's map@1: 0.992436\tvalid_0's map@2: 0.994705\tvalid_0's map@3: 0.994907\tvalid_0's map@4: 0.995134\tvalid_0's map@5: 0.995134\n",
      "[450]\tvalid_0's map@1: 0.992738\tvalid_0's map@2: 0.994705\tvalid_0's map@3: 0.995008\tvalid_0's map@4: 0.995234\tvalid_0's map@5: 0.995295\n",
      "[500]\tvalid_0's map@1: 0.992738\tvalid_0's map@2: 0.994705\tvalid_0's map@3: 0.995008\tvalid_0's map@4: 0.995234\tvalid_0's map@5: 0.995295\n",
      "[550]\tvalid_0's map@1: 0.992738\tvalid_0's map@2: 0.994705\tvalid_0's map@3: 0.995008\tvalid_0's map@4: 0.995234\tvalid_0's map@5: 0.995416\n",
      "[600]\tvalid_0's map@1: 0.993041\tvalid_0's map@2: 0.995008\tvalid_0's map@3: 0.99531\tvalid_0's map@4: 0.995537\tvalid_0's map@5: 0.995658\n",
      "[650]\tvalid_0's map@1: 0.992738\tvalid_0's map@2: 0.994856\tvalid_0's map@3: 0.99526\tvalid_0's map@4: 0.995335\tvalid_0's map@5: 0.995517\n",
      "[700]\tvalid_0's map@1: 0.992738\tvalid_0's map@2: 0.994856\tvalid_0's map@3: 0.99526\tvalid_0's map@4: 0.995335\tvalid_0's map@5: 0.995517\n",
      "[750]\tvalid_0's map@1: 0.992738\tvalid_0's map@2: 0.994856\tvalid_0's map@3: 0.99526\tvalid_0's map@4: 0.995335\tvalid_0's map@5: 0.995517\n",
      "[800]\tvalid_0's map@1: 0.992436\tvalid_0's map@2: 0.994705\tvalid_0's map@3: 0.995108\tvalid_0's map@4: 0.995184\tvalid_0's map@5: 0.995305\n",
      "Early stopping, best iteration is:\n",
      "[301]\tvalid_0's map@1: 0.993041\tvalid_0's map@2: 0.99531\tvalid_0's map@3: 0.995411\tvalid_0's map@4: 0.995487\tvalid_0's map@5: 0.995608\n",
      "------------- eval -------------\n",
      "------------- eval result -------------\n",
      "hitrate_50_full :  0.225594437110079 ndcg_50_full :  469.67558830227324 \n",
      "\n",
      "hitrate_50_half :  0.06743237717372742 ndcg_50_half :  140.46772873169246 \n",
      "\n",
      "------------- eval result -------------\n",
      "------------- predict -------------\n",
      "------------- assert -------------\n",
      "LGBM的特征重要性...\n"
     ]
    },
    {
     "data": {
      "image/png": "[encoded data removed]",
      "text/plain": [
       "<Figure size 936x1440 with 1 Axes>"
      ]
     },
     "metadata": {},
     "output_type": "display_data"
    },
    {
     "name": "stdout",
     "output_type": "stream",
     "text": [
      "--------------------------- 保存预测文件 ---------------------\n"
     ]
    }
   ],
   "source": [
    "\n",
    "now_phase = 9\n",
    "\n",
    "\n",
    "for phase in range(now_phase, now_phase + 1):  \n",
    "    print('phase:', phase)\n",
    "    \"\"\"\n",
    "    train_test: 训练测试点击数据\n",
    "    item_hot_list: 项目热度list\n",
    "    dict_label_user_item: 训练点击中用户——最后一次点击项目字典\n",
    "    item_hot_dict: 项目热度字典\n",
    "    time_feat：用户点击时间特征\n",
    "    \n",
    "    \"\"\"\n",
    "    click_all, test_user_set = load_click_data(phase, nrows=nrows)\n",
    "    train_test, item_hot_list, dict_label_user_item, item_hot_dict, time_feat = data_generate(click_all, test_user_set)\n",
    "\n",
    "    \n",
    "    \n",
    "    print('==================================== 召回 ====================================')\n",
    "    \n",
    "    # TODO: 增加其它召回\n",
    "    if topk_recall_read:\n",
    "        topk_recall = pd.read_pickle('../data/recall/topk_recall_{phase}.pkl'.format(phase=phase))\n",
    "        matrix_association_rules = np.load('../data/recall/matrix_association_rules_{phase}.npy'.format(phase=phase), allow_pickle=True).item()\n",
    "\n",
    "    else:\n",
    "        topk_recall, matrix_association_rules = topk_recall_association_rules_qyxs_icf(\n",
    "                                                click_all=train_test,\n",
    "                                                dict_label=dict_label_user_item, \n",
    "                                                k=recall_num\n",
    "                                                )\n",
    "        topk_recall.to_pickle('../data/recall/topk_recall_{phase}.pkl'.format(phase=phase))\n",
    "        np.save('../data/recall/matrix_association_rules_{phase}.npy'.format(phase=phase), matrix_association_rules)\n",
    "\n",
    "\n",
    "    print('-------- 评测召回效果 -------------')\n",
    "    hit_rate = metrics_recall(topk_recall=topk_recall, phase=phase, k=recall_num, sep=int(recall_num/10))\n",
    "    print('召回TOP:{k}时, 命中百分比:{hit_rate}'.format(k=recall_num, hit_rate=hit_rate))\n",
    "\n",
    "    \n",
    "    \n",
    "    print('==================================== 排序 ====================================')\n",
    "    print('-------- 构建特征 ---------')\n",
    "    \n",
    "    dim, epochs, learning_rate = 30, 15, 0.1 # 由于内存问题，size改回30\n",
    "    if embedding_feat_read:\n",
    "        print('-------- sku1 sku2 sku3 sku4 sku5 user ----------')\n",
    "        dict_embedding_all_ui_item = np.load('../data/embedding/dict_embedding_all_ui_item_{phase}.npy'.format(phase=phase), \n",
    "                                             allow_pickle=True).item()\n",
    "        \n",
    "        print('------- user1 user2 user3 user4 user5 sku -------')\n",
    "        dict_embedding_all_ui_user = np.load('../data/embedding/dict_embedding_all_ui_user_{phase}.npy'.format(phase=phase), \n",
    "                                             allow_pickle=True).item()\n",
    "        \n",
    "        print('------- item1 item2 item3 item4 item5 -------')\n",
    "        dict_embedding_item_only = np.load('../data/embedding/dict_embedding_item_only_{phase}.npy'.format(phase=phase), \n",
    "                                           allow_pickle=True).item()\n",
    "        \n",
    "        print('------- user1 user2 user3 user4 user5 -------')\n",
    "        dict_embedding_user_only = np.load('../data/embedding/dict_embedding_user_only_{phase}.npy'.format(phase=phase), \n",
    "                                           allow_pickle=True).item()\n",
    "\n",
    "    else:\n",
    "        print('-------- sku1 sku2 sku3 sku4 sku5 user ----------')\n",
    "        dict_embedding_all_ui_item = matrix_word2vec_embedding(\n",
    "                                                                click_all=train_test,\n",
    "                                                                flag='item',\n",
    "                                                                mode='all',\n",
    "                                                                dim=dim,\n",
    "                                                                epochs=epochs,\n",
    "                                                                learning_rate=learning_rate\n",
    "                                                                )\n",
    "        np.save('../data/embedding/dict_embedding_all_ui_item_{phase}.npy'.format(phase=phase),\n",
    "               dict_embedding_all_ui_item)\n",
    "\n",
    "\n",
    "        print('------- user1 user2 user3 user4 user5 sku -------')\n",
    "        dict_embedding_all_ui_user = matrix_word2vec_embedding(\n",
    "                                                                click_all=train_test,\n",
    "                                                                flag='user',\n",
    "                                                                mode='all',\n",
    "                                                                dim=dim,\n",
    "                                                                epochs=epochs,\n",
    "                                                                learning_rate=learning_rate\n",
    "                                                                )\n",
    "        np.save('../data/embedding/dict_embedding_all_ui_user_{phase}.npy'.format(phase=phase),\n",
    "               dict_embedding_all_ui_user)\n",
    "\n",
    "\n",
    "        print('------- item1 item2 item3 item4 item5 -------')\n",
    "        dict_embedding_item_only = matrix_word2vec_embedding(\n",
    "                                                                click_all=train_test,\n",
    "                                                                flag='item',\n",
    "                                                                mode='only',\n",
    "                                                                dim=dim,\n",
    "                                                                epochs=epochs,\n",
    "                                                                learning_rate=learning_rate\n",
    "                                                                )\n",
    "        np.save('../data/embedding/dict_embedding_item_only_{phase}.npy'.format(phase=phase),\n",
    "               dict_embedding_item_only)\n",
    "\n",
    "\n",
    "        print('------- user1 user2 user3 user4 user5 -------')\n",
    "        dict_embedding_user_only = matrix_word2vec_embedding(\n",
    "                                                                click_all=train_test,\n",
    "                                                                flag='user',\n",
    "                                                                mode='only',\n",
    "                                                                dim=dim,\n",
    "                                                                epochs=epochs,\n",
    "                                                                learning_rate=learning_rate\n",
    "                                                                )\n",
    "        np.save('../data/embedding/dict_embedding_user_only_{phase}.npy'.format(phase=phase),\n",
    "               dict_embedding_user_only)\n",
    "\n",
    "        \n",
    "    \n",
    "    print('------- Interactive Embedding Feature PCA -----------')\n",
    "\n",
    "    # dict_embedding_all_ui_item PCA\n",
    "    dict_embedding = dict_embedding_all_ui_item.copy()\n",
    "    dict_embedding_all_ui_item = {}\n",
    "    for i in ['user', 'item']:\n",
    "        tmp = pd.DataFrame(dict_embedding[i])\n",
    "        pca_ = embedding_fea_pca(tmp.T, n_components=pca_n_components) # 解释\n",
    "        tmp_pca = pd.DataFrame(pca_.T)\n",
    "        tmp_pca.columns = tmp.columns\n",
    "        dict_embedding_all_ui_item[i] = dict(tmp_pca)\n",
    "    \n",
    "    \n",
    "    # dict_embedding_all_ui_user PCA\n",
    "    dict_embedding = dict_embedding_all_ui_user.copy()\n",
    "    dict_embedding_all_ui_user = {}\n",
    "    for i in ['user', 'item']:\n",
    "        tmp = pd.DataFrame(dict_embedding[i])\n",
    "        pca_ = embedding_fea_pca(tmp.T, n_components=pca_n_components) # 解释\n",
    "        tmp_pca = pd.DataFrame(pca_.T)\n",
    "        tmp_pca.columns = tmp.columns\n",
    "        dict_embedding_all_ui_user[i] = dict(tmp_pca)\n",
    "    print('dict_embedding_all_ui_user是否降维成功........', len(dict_embedding_all_ui_user['user']['1']))    \n",
    "    del tmp, tmp_pca\n",
    "\n",
    "    \n",
    "    \n",
    "    print('------- user or item Embedding Feature Cluster -----------')\n",
    "\n",
    "    # dict_embedding_item_only聚类\n",
    "    item = pd.DataFrame(dict_embedding_item_only['item'])\n",
    "    km_cluster = KMeans(n_clusters=item_n_clusters, max_iter=300, n_init=40, \\\n",
    "                        init='k-means++') #, n_jobs=-1)\n",
    "    # 返回类索引\n",
    "    result = km_cluster.fit_predict(item.T)\n",
    "    item_cluster = pd.DataFrame({'item_id': item.columns, 'item_cluster': np.int16(result)})\n",
    "    del item, km_cluster, result, dict_embedding_item_only\n",
    "    \n",
    "    # dict_embedding_user_only聚类\n",
    "    user = pd.DataFrame(dict_embedding_user_only['user'])\n",
    "    km_cluster = KMeans(n_clusters=user_n_clusters, max_iter=300, n_init=40, \\\n",
    "                        init='k-means++') #, n_jobs=-1)\n",
    "    # 返回类索引\n",
    "    result = km_cluster.fit_predict(user.T)\n",
    "    user_cluster = pd.DataFrame({'user_id': user.columns, 'user_cluster': np.int16(result)})\n",
    "    del user, km_cluster, result\n",
    "    \n",
    "    \n",
    "    # 加载聚类的统计特征\n",
    "    user_cluster_feat_ = user_cluster_feat(click_all, user_cluster)\n",
    "    item_cluster_feat_ = item_cluster_feat(click_all, item_cluster)\n",
    "\n",
    "    del click_all, item_cluster\n",
    "    \n",
    "    \n",
    "    print('------- 特征加工 -----------')\n",
    "\n",
    "    print('..............topk_recall shape:', topk_recall.shape)\n",
    "\n",
    "    \n",
    "#     feature_all = get_train_test_data(topk_recall,\n",
    "#                   matrix_association_rules, \n",
    "#                   time_feat,\n",
    "#                   user_cluster_feat_,\n",
    "#                   item_cluster_feat_,\n",
    "#                   item_hot_dict,\n",
    "#                   txt_cosine_similarity_dict,\n",
    "#                   img_cosine_similarity_dict,\n",
    "#                   dict_embedding_all_ui_item,\n",
    "#                   dict_embedding_all_ui_user,\n",
    "#                   flag_test,\n",
    "#                   click_topn)\n",
    "\n",
    "\n",
    "#     lprofiler = LineProfiler(get_train_test_data)\n",
    "#     lprofiler.run('get_train_test_data( topk_recall[:80000], matrix_association_rules, time_feat, user_cluster_feat_, item_cluster_feat_, item_hot_dict, txt_cosine_similarity_dict, img_cosine_similarity_dict, dict_embedding_all_ui_item, dict_embedding_all_ui_user, flag_test=False, click_topn=click_topn)')\n",
    "#     lprofiler.print_stats()\n",
    "\n",
    "\n",
    "    # 多进程构建特征\n",
    "    # 函数get_train_test_data内部已保存结果\n",
    "    if __name__=='__main__':\n",
    "        cpu_num = cpu_count()\n",
    "        \n",
    "        pool = Pool(open_cpu_n+1) # 创建一个多个进程的进程池\n",
    "        # 将topk_recall分batchs_n批次，并不是越大越好，启动进程也是需时间的\n",
    "        batch_size = topk_recall.shape[0]//(batchs_n)\n",
    "        \n",
    "        for batch in range(batchs_n):\n",
    "            start_index = batch * batch_size\n",
    "            if batch==cpu_num:\n",
    "                end_index = topk_recall.shape[0]\n",
    "            else:\n",
    "                end_index = (1+batch) * batch_size\n",
    "            p = pool.apply_async(func=get_train_test_data, \n",
    "                                                 args=(topk_recall[start_index:end_index],\n",
    "                                                       matrix_association_rules, \n",
    "                                                       time_feat,\n",
    "                                                       user_cluster_feat_,\n",
    "                                                       item_cluster_feat_,\n",
    "                                                       item_hot_dict,\n",
    "                                                       txt_cosine_similarity_dict,\n",
    "                                                       img_cosine_similarity_dict,\n",
    "                                                       dict_embedding_all_ui_item,\n",
    "                                                       dict_embedding_all_ui_user,\n",
    "                                                       phase,\n",
    "                                                       batch,\n",
    "                                                       flag_test,\n",
    "                                                       click_topn))            \n",
    "        pool.close()\n",
    "        pool.join() \n",
    "        \n",
    "        \"\"\"\n",
    "        遍历result列表，取出子进程对象，访问get()方法，获取返回值。（此时所有子进程已执行完毕）\n",
    "        result[0].get()\n",
    "        \"\"\"\n",
    "        print('进程结束') \n",
    "     \n",
    "    \n",
    "    \n",
    "#     # 释放内存\n",
    "# #     del topk_recall, matrix_association_rules, txt_cosine_similarity_dict, img_cosine_similarity_dict, dict_embedding_all_ui_item, dict_embedding_all_ui_user, dict_embedding_item_only, dict_embedding_user_only\n",
    "      \n",
    "    print('分片特征数据拼接')\n",
    "    # feature_all = Pool_feature_concat(feature_part)\n",
    "    # 加载暂存的特征数据\n",
    "    feature_all = load_pool_feature(phase=phase, batchs_n=batchs_n)\n",
    "    # 删除暂存的特征数据\n",
    "    remove_pool_feature(phase, batchs_n)\n",
    "    \n",
    "    \n",
    "    # 用户画像特征缺失预测\n",
    "    user_feat = user_feat_data(dict_embedding_user_only, user_cluster, time_feat)\n",
    "    for i, col in enumerate(['age', 'sex', 'city']):\n",
    "        X_, y_, X_test, data_ = age_sex_city_data(user_feat, col=col)\n",
    "        tmp = null_xgb_predict(X_, y_, X_test, data_, col=col)\n",
    "        if i==0:\n",
    "            user_profile_feat = tmp\n",
    "        else:\n",
    "            user_profile_feat = user_profile_feat.merge(tmp, on=['user_id'], how='left')    \n",
    "\n",
    "    # 增加用户画像特征、时间统计特征、用户聚类统计特征、项目聚类统计特征 \n",
    "    feature_all = add_user_profile_info(feature_all, user_profile_feat)\n",
    "    feature_all = add_time_statistics(feature_all, time_feat)\n",
    "    feature_all = add_user_statistics(feature_all, user_cluster_feat_)\n",
    "    feature_all = add_item_statistics(feature_all, item_cluster_feat_)\n",
    "    print('feature_all的列: ', feature_all.columns)\n",
    "    \n",
    "    \n",
    "    # 数据量太大了，保存占用空间\n",
    "    # print('特征数据保存')\n",
    "    # feature_all.to_pickle(\"../data/process/feature_all_phase{phase}_0002.pkl\".format(phase=phase))\n",
    "    \n",
    "    ############################## 整体数据特征 ############################## \n",
    "    print('--------------------------- 特征数据 ---------------------')\n",
    "    len_f = len(feature_all)\n",
    "    len_train = len(feature_all[feature_all['train_flag']=='train'])\n",
    "    len_test = len(feature_all[feature_all['train_flag']=='test'])\n",
    "    len_train_1 = len(feature_all[(feature_all['train_flag']=='train') & (feature_all['label']== 1)]) \n",
    "    print('所有数据条数', len_f)\n",
    "    print('训练数据 : ', len_train)\n",
    "    print('训练数据 label 1 : ', len_train_1)\n",
    "    print('训练数据 1 / 0 rate : ', len_train_1 * 1.0 / len_f)\n",
    "    print('测试数据 : ' , len_test)\n",
    "    print('flag : ', set(feature_all['train_flag']))\n",
    "\n",
    "    \n",
    "    ############################## 训练模型 ############################## \n",
    "    print('--------------------------- 训练模型 ---------------------')\n",
    "    submit = train_model_lgb(feature_all, recall_rate=hit_rate, hot_list=item_hot_list, valid=0.2, topk=50, \n",
    "                             num_boost_round=1500, early_stopping_rounds=500)\n",
    "\n",
    "    \n",
    "    # submit = train_model_rf(feature_all, recall_rate=hit_rate, hot_list=item_hot_list, valid=0.2, topk=50)\n",
    "    \n",
    "\n",
    "    print('--------------------------- 保存预测文件 ---------------------')\n",
    "    phase_submit_save(submit, phase, 50)\n"
   ]
  },
  {
   "cell_type": "code",
   "execution_count": null,
   "metadata": {},
   "outputs": [],
   "source": []
  },
  {
   "cell_type": "code",
   "execution_count": null,
   "metadata": {},
   "outputs": [],
   "source": []
  },
  {
   "cell_type": "code",
   "execution_count": 3,
   "metadata": {},
   "outputs": [
    {
     "name": "stdout",
     "output_type": "stream",
     "text": [
      "phase: 8\n",
      "================================== 加载click数据 ==================================\n",
      "================================== 生成中间数据 ==================================\n",
      "==================================== 召回 ====================================\n",
      "-------- 评测召回效果 -------------\n",
      "-------- 召回效果 -------------\n",
      "--------:phase:  8  -------------\n",
      "phase:  8  top_ 0  :  hit_num :  321 hit_rate :  0.01776916689731525  data_num :  18065\n",
      "\n",
      "phase:  8  top_ 70  :  hit_num :  2230 hit_rate :  0.12344312205923055  data_num :  18065\n",
      "\n",
      "phase:  8  top_ 140  :  hit_num :  2716 hit_rate :  0.15034597287572654  data_num :  18065\n",
      "\n",
      "phase:  8  top_ 210  :  hit_num :  3046 hit_rate :  0.168613340714088  data_num :  18065\n",
      "\n",
      "phase:  8  top_ 280  :  hit_num :  3269 hit_rate :  0.18095765292001106  data_num :  18065\n",
      "\n",
      "phase:  8  top_ 350  :  hit_num :  3437 hit_rate :  0.19025740381954054  data_num :  18065\n",
      "\n",
      "phase:  8  top_ 420  :  hit_num :  3587 hit_rate :  0.19856075283697758  data_num :  18065\n",
      "\n",
      "phase:  8  top_ 490  :  hit_num :  3718 hit_rate :  0.20581234431220594  data_num :  18065\n",
      "\n",
      "phase:  8  top_ 560  :  hit_num :  3841 hit_rate :  0.2126210905065043  data_num :  18065\n",
      "\n",
      "phase:  8  top_ 630  :  hit_num :  3929 hit_rate :  0.217492388596734  data_num :  18065\n",
      "\n",
      "phase:  8  top_ 700  :  hit_num :  4028 hit_rate :  0.22297259894824245  data_num :  18065\n",
      "\n",
      "召回TOP:700时, 命中百分比:0.22297259894824245\n",
      "==================================== 排序 ====================================\n",
      "-------- 构建特征 ---------\n",
      "-------- sku1 sku2 sku3 sku4 sku5 user ----------\n",
      "------- user1 user2 user3 user4 user5 sku -------\n",
      "------- item1 item2 item3 item4 item5 -------\n",
      "------- user1 user2 user3 user4 user5 -------\n",
      "------- Interactive Embedding Feature PCA -----------\n",
      "------- 降成5维后的方差百分比:  [0.08406062 0.07031391 0.06611149 0.05792848 0.04906221]\n",
      "------- 降成5维后的方差百分比:  [0.06513098 0.05572475 0.05157359 0.04741622 0.04113367]\n",
      "------- 降成5维后的方差百分比:  [0.06396909 0.06192137 0.05224598 0.04355774 0.04002808]\n",
      "------- 降成5维后的方差百分比:  [0.10170288 0.08829346 0.0766173  0.06210033 0.0472477 ]\n",
      "dict_embedding_all_ui_user是否降维成功........ 5\n",
      "------- user or item Embedding Feature Cluster -----------\n",
      "------- 特征加工 -----------\n",
      "..............topk_recall shape: (13918100, 5)\n",
      "------- 构建样本 -----------\n",
      "............... train len= 723100\n",
      "............... test  len= 326900\n",
      "----------- 加入特征 train -----------\n"
     ]
    },
    {
     "name": "stderr",
     "output_type": "stream",
     "text": [
      "13800it [00:26, 522.87it/s]"
     ]
    },
    {
     "name": "stdout",
     "output_type": "stream",
     "text": [
      "------- 构建样本 -----------\n"
     ]
    },
    {
     "name": "stderr",
     "output_type": "stream",
     "text": [
      "15708it [00:30, 525.24it/s]"
     ]
    },
    {
     "name": "stdout",
     "output_type": "stream",
     "text": [
      "............... train len= 690200\n",
      "............... test  len= 312200\n"
     ]
    },
    {
     "name": "stderr",
     "output_type": "stream",
     "text": [
      "15814it [00:30, 525.26it/s]"
     ]
    },
    {
     "name": "stdout",
     "output_type": "stream",
     "text": [
      "----------- 加入特征 train -----------\n"
     ]
    },
    {
     "name": "stderr",
     "output_type": "stream",
     "text": [
      "14155it [00:27, 513.04it/s]"
     ]
    },
    {
     "name": "stdout",
     "output_type": "stream",
     "text": [
      "------- 构建样本 -----------\n"
     ]
    },
    {
     "name": "stderr",
     "output_type": "stream",
     "text": [
      "31928it [01:01, 522.41it/s]"
     ]
    },
    {
     "name": "stdout",
     "output_type": "stream",
     "text": [
      "............... train len= 660800\n",
      "............... test  len= 322700\n"
     ]
    },
    {
     "name": "stderr",
     "output_type": "stream",
     "text": [
      "32034it [01:01, 522.92it/s]"
     ]
    },
    {
     "name": "stdout",
     "output_type": "stream",
     "text": [
      "----------- 加入特征 train -----------\n"
     ]
    },
    {
     "name": "stderr",
     "output_type": "stream",
     "text": [
      "46160it [01:29, 520.13it/s]"
     ]
    },
    {
     "name": "stdout",
     "output_type": "stream",
     "text": [
      "------- 构建样本 -----------\n"
     ]
    },
    {
     "name": "stderr",
     "output_type": "stream",
     "text": [
      "32085it [01:03, 362.07it/s]"
     ]
    },
    {
     "name": "stdout",
     "output_type": "stream",
     "text": [
      "............... train len= 745500\n",
      "............... test  len= 310800\n"
     ]
    },
    {
     "name": "stderr",
     "output_type": "stream",
     "text": [
      "48322it [01:34, 523.01it/s]"
     ]
    },
    {
     "name": "stdout",
     "output_type": "stream",
     "text": [
      "----------- 加入特征 train -----------\n"
     ]
    },
    {
     "name": "stderr",
     "output_type": "stream",
     "text": [
      "660800it [22:47, 483.06it/s]\n",
      "700073it [23:59, 456.87it/s]"
     ]
    },
    {
     "name": "stdout",
     "output_type": "stream",
     "text": [
      "----------- 加入特征 test -----------\n"
     ]
    },
    {
     "name": "stderr",
     "output_type": "stream",
     "text": [
      "690200it [23:42, 485.17it/s]\n",
      "661503it [22:50, 390.40it/s]"
     ]
    },
    {
     "name": "stdout",
     "output_type": "stream",
     "text": [
      "----------- 加入特征 test -----------\n"
     ]
    },
    {
     "name": "stderr",
     "output_type": "stream",
     "text": [
      "723100it [24:48, 485.91it/s]\n",
      "28243it [01:00, 375.88it/s]]"
     ]
    },
    {
     "name": "stdout",
     "output_type": "stream",
     "text": [
      "----------- 加入特征 test -----------\n"
     ]
    },
    {
     "name": "stderr",
     "output_type": "stream",
     "text": [
      "745500it [25:45, 482.39it/s]\n",
      "102028it [03:31, 524.71it/s]"
     ]
    },
    {
     "name": "stdout",
     "output_type": "stream",
     "text": [
      "----------- 加入特征 test -----------\n"
     ]
    },
    {
     "name": "stderr",
     "output_type": "stream",
     "text": [
      "322700it [11:08, 483.02it/s]\n",
      "312200it [10:44, 484.77it/s]\n",
      "326900it [11:10, 487.37it/s]\n",
      "310800it [10:32, 491.49it/s]\n"
     ]
    },
    {
     "name": "stdout",
     "output_type": "stream",
     "text": [
      "进程结束\n",
      "分片特征数据拼接\n",
      "Removed all files of '../cache/pool_feature_part_phase8...'\n",
      "-------------- age特征缺失预测 --------------\n",
      "[0]\tvalidation_0-mlogloss:2.06228\n",
      "Will train until validation_0-mlogloss hasn't improved in 200 rounds.\n",
      "[200]\tvalidation_0-mlogloss:1.70330\n",
      "Stopping. Best iteration:\n",
      "[144]\tvalidation_0-mlogloss:1.69632\n",
      "\n",
      "-------------- sex特征缺失预测 --------------\n",
      "[0]\tvalidation_0-auc:0.71096\n",
      "Will train until validation_0-auc hasn't improved in 200 rounds.\n",
      "[200]\tvalidation_0-auc:0.82238\n",
      "Stopping. Best iteration:\n",
      "[145]\tvalidation_0-auc:0.82501\n",
      "\n",
      "-------------- city特征缺失预测 --------------\n",
      "[0]\tvalidation_0-mlogloss:1.78714\n",
      "Will train until validation_0-mlogloss hasn't improved in 200 rounds.\n",
      "[200]\tvalidation_0-mlogloss:1.75462\n",
      "Stopping. Best iteration:\n",
      "[47]\tvalidation_0-mlogloss:1.70820\n",
      "\n",
      "feature_all的列:  Index(['similarity_d1', 'similarity_d2', 'score_similar', 'dim1_user_0',\n",
      "       'dim1_user_1', 'dim1_user_2', 'dim1_user_3', 'dim1_user_4',\n",
      "       'dim1_item_0', 'dim1_item_1', 'dim1_item_2', 'dim1_item_3',\n",
      "       'dim1_item_4', 'dim2_user_0', 'dim2_user_1', 'dim2_user_2',\n",
      "       'dim2_user_3', 'dim2_user_4', 'dim2_item_0', 'dim2_item_1',\n",
      "       'dim2_item_2', 'dim2_item_3', 'dim2_item_4', 'clicked_item_0',\n",
      "       'clicked_item_0_cnt', 'clicked_item_0_to_item_0_score',\n",
      "       'item_0_to_clicked_item_0_txt_cosine_sim',\n",
      "       'item_0_to_clicked_item_0_img_cosine_sim',\n",
      "       'clicked_item_0_item_cluster', 'clicked_item_0_item_cluster_cnt',\n",
      "       'clicked_item_0_item_cluster_user_cnt',\n",
      "       'clicked_item_0_item_cluster_item_cnt', 'clicked_item_1',\n",
      "       'clicked_item_1_cnt', 'clicked_item_1_to_item_1_score',\n",
      "       'item_1_to_clicked_item_1_txt_cosine_sim',\n",
      "       'item_1_to_clicked_item_1_img_cosine_sim',\n",
      "       'clicked_item_1_item_cluster', 'clicked_item_1_item_cluster_cnt',\n",
      "       'clicked_item_1_item_cluster_user_cnt',\n",
      "       'clicked_item_1_item_cluster_item_cnt', 'clicked_item_2',\n",
      "       'clicked_item_2_cnt', 'clicked_item_2_to_item_2_score',\n",
      "       'item_2_to_clicked_item_2_txt_cosine_sim',\n",
      "       'item_2_to_clicked_item_2_img_cosine_sim',\n",
      "       'clicked_item_2_item_cluster', 'clicked_item_2_item_cluster_cnt',\n",
      "       'clicked_item_2_item_cluster_user_cnt',\n",
      "       'clicked_item_2_item_cluster_item_cnt', 'clicked_item_3',\n",
      "       'clicked_item_3_cnt', 'clicked_item_3_to_item_3_score',\n",
      "       'item_3_to_clicked_item_3_txt_cosine_sim',\n",
      "       'item_3_to_clicked_item_3_img_cosine_sim',\n",
      "       'clicked_item_3_item_cluster', 'clicked_item_3_item_cluster_cnt',\n",
      "       'clicked_item_3_item_cluster_user_cnt',\n",
      "       'clicked_item_3_item_cluster_item_cnt', 'clicked_item_4',\n",
      "       'clicked_item_4_cnt', 'clicked_item_4_to_item_4_score',\n",
      "       'item_4_to_clicked_item_4_txt_cosine_sim',\n",
      "       'item_4_to_clicked_item_4_img_cosine_sim',\n",
      "       'clicked_item_4_item_cluster', 'clicked_item_4_item_cluster_cnt',\n",
      "       'clicked_item_4_item_cluster_user_cnt',\n",
      "       'clicked_item_4_item_cluster_item_cnt', 'train_flag', 'user_id',\n",
      "       'item_similar', 'label', 'age', 'sex', 'city', 'user_click_item_num',\n",
      "       'time_max_min_minus', 'time_diff_mean', 'time_mean', 'time_std',\n",
      "       'time_max', 'time_min', 'different_session_num',\n",
      "       'favorite_session_click', 'user_cluster', 'user_cluster_cnt',\n",
      "       'user_cluster_user_cnt', 'user_cluster_item_cnt', 'item_cluster',\n",
      "       'item_cluster_cnt', 'item_cluster_user_cnt', 'item_cluster_item_cnt'],\n",
      "      dtype='object')\n",
      "--------------------------- 特征数据 ---------------------\n",
      "所有数据条数 4097100\n",
      "训练数据 :  2824500\n",
      "训练数据 label 1 :  4035\n",
      "训练数据 1 / 0 rate :  0.0009848429376876327\n",
      "测试数据 :  1272600\n",
      "flag :  {'train', 'test'}\n",
      "--------------------------- 训练模型 ---------------------\n",
      "Training until validation scores don't improve for 500 rounds\n",
      "[50]\tvalid_0's map@1: 0.985413\tvalid_0's map@2: 0.989292\tvalid_0's map@3: 0.990327\tvalid_0's map@4: 0.99056\tvalid_0's map@5: 0.99056\n",
      "[100]\tvalid_0's map@1: 0.988206\tvalid_0's map@2: 0.990999\tvalid_0's map@3: 0.99162\tvalid_0's map@4: 0.991853\tvalid_0's map@5: 0.991915\n",
      "[150]\tvalid_0's map@1: 0.987585\tvalid_0's map@2: 0.990223\tvalid_0's map@3: 0.991051\tvalid_0's map@4: 0.991439\tvalid_0's map@5: 0.991563\n",
      "[200]\tvalid_0's map@1: 0.986965\tvalid_0's map@2: 0.989913\tvalid_0's map@3: 0.990948\tvalid_0's map@4: 0.991413\tvalid_0's map@5: 0.991475\n",
      "[250]\tvalid_0's map@1: 0.988206\tvalid_0's map@2: 0.990999\tvalid_0's map@3: 0.991827\tvalid_0's map@4: 0.992215\tvalid_0's map@5: 0.992277\n",
      "[300]\tvalid_0's map@1: 0.988206\tvalid_0's map@2: 0.990999\tvalid_0's map@3: 0.991827\tvalid_0's map@4: 0.992215\tvalid_0's map@5: 0.992277\n",
      "[350]\tvalid_0's map@1: 0.988516\tvalid_0's map@2: 0.991155\tvalid_0's map@3: 0.992086\tvalid_0's map@4: 0.992474\tvalid_0's map@5: 0.992536\n",
      "[400]\tvalid_0's map@1: 0.988516\tvalid_0's map@2: 0.99162\tvalid_0's map@3: 0.992655\tvalid_0's map@4: 0.993043\tvalid_0's map@5: 0.993105\n",
      "[450]\tvalid_0's map@1: 0.988827\tvalid_0's map@2: 0.991465\tvalid_0's map@3: 0.99281\tvalid_0's map@4: 0.99312\tvalid_0's map@5: 0.993182\n",
      "[500]\tvalid_0's map@1: 0.989137\tvalid_0's map@2: 0.99162\tvalid_0's map@3: 0.992965\tvalid_0's map@4: 0.993275\tvalid_0's map@5: 0.993337\n",
      "[550]\tvalid_0's map@1: 0.989448\tvalid_0's map@2: 0.99193\tvalid_0's map@3: 0.993275\tvalid_0's map@4: 0.993508\tvalid_0's map@5: 0.99357\n",
      "[600]\tvalid_0's map@1: 0.989448\tvalid_0's map@2: 0.992086\tvalid_0's map@3: 0.993327\tvalid_0's map@4: 0.99356\tvalid_0's map@5: 0.993622\n",
      "[650]\tvalid_0's map@1: 0.989137\tvalid_0's map@2: 0.99193\tvalid_0's map@3: 0.993172\tvalid_0's map@4: 0.993405\tvalid_0's map@5: 0.993467\n",
      "[700]\tvalid_0's map@1: 0.989137\tvalid_0's map@2: 0.991775\tvalid_0's map@3: 0.99312\tvalid_0's map@4: 0.993353\tvalid_0's map@5: 0.993415\n",
      "[750]\tvalid_0's map@1: 0.989137\tvalid_0's map@2: 0.991775\tvalid_0's map@3: 0.99312\tvalid_0's map@4: 0.993353\tvalid_0's map@5: 0.993415\n",
      "[800]\tvalid_0's map@1: 0.988206\tvalid_0's map@2: 0.991155\tvalid_0's map@3: 0.992499\tvalid_0's map@4: 0.992732\tvalid_0's map@5: 0.992856\n",
      "[850]\tvalid_0's map@1: 0.987585\tvalid_0's map@2: 0.990379\tvalid_0's map@3: 0.991724\tvalid_0's map@4: 0.992034\tvalid_0's map@5: 0.992096\n",
      "Early stopping, best iteration is:\n",
      "[368]\tvalid_0's map@1: 0.989137\tvalid_0's map@2: 0.992086\tvalid_0's map@3: 0.993017\tvalid_0's map@4: 0.993405\tvalid_0's map@5: 0.993467\n",
      "------------- eval -------------\n",
      "------------- eval result -------------\n",
      "hitrate_50_full :  0.2234570211061064 ndcg_50_full :  452.4926276422837 \n",
      "\n",
      "hitrate_50_half :  0.06228284886822415 ndcg_50_half :  126.53819749396047 \n",
      "\n",
      "------------- eval result -------------\n",
      "------------- predict -------------\n",
      "------------- assert -------------\n",
      "LGBM的特征重要性...\n"
     ]
    },
    {
     "data": {
      "image/png": "[encoded data removed]",
      "text/plain": [
       "<Figure size 936x1440 with 1 Axes>"
      ]
     },
     "metadata": {},
     "output_type": "display_data"
    },
    {
     "name": "stdout",
     "output_type": "stream",
     "text": [
      "--------------------------- 保存预测文件 ---------------------\n"
     ]
    }
   ],
   "source": [
    "\n",
    "now_phase = 8\n",
    "\n",
    "\n",
    "for phase in range(now_phase, now_phase + 1):  \n",
    "    print('phase:', phase)\n",
    "    \"\"\"\n",
    "    train_test: 训练测试点击数据\n",
    "    item_hot_list: 项目热度list\n",
    "    dict_label_user_item: 训练点击中用户——最后一次点击项目字典\n",
    "    item_hot_dict: 项目热度字典\n",
    "    time_feat：用户点击时间特征\n",
    "    \n",
    "    \"\"\"\n",
    "    click_all, test_user_set = load_click_data(phase, nrows=nrows)\n",
    "    train_test, item_hot_list, dict_label_user_item, item_hot_dict, time_feat = data_generate(click_all, test_user_set)\n",
    "\n",
    "    \n",
    "    \n",
    "    print('==================================== 召回 ====================================')\n",
    "    \n",
    "    # TODO: 增加其它召回\n",
    "    if topk_recall_read:\n",
    "        topk_recall = pd.read_pickle('../data/recall/topk_recall_{phase}.pkl'.format(phase=phase))\n",
    "        matrix_association_rules = np.load('../data/recall/matrix_association_rules_{phase}.npy'.format(phase=phase), allow_pickle=True).item()\n",
    "\n",
    "    else:\n",
    "        topk_recall, matrix_association_rules = topk_recall_association_rules_qyxs_icf(\n",
    "                                                click_all=train_test,\n",
    "                                                dict_label=dict_label_user_item, \n",
    "                                                k=recall_num\n",
    "                                                )\n",
    "        topk_recall.to_pickle('../data/recall/topk_recall_{phase}.pkl'.format(phase=phase))\n",
    "        np.save('../data/recall/matrix_association_rules_{phase}.npy'.format(phase=phase), matrix_association_rules)\n",
    "\n",
    "\n",
    "    print('-------- 评测召回效果 -------------')\n",
    "    hit_rate = metrics_recall(topk_recall=topk_recall, phase=phase, k=recall_num, sep=int(recall_num/10))\n",
    "    print('召回TOP:{k}时, 命中百分比:{hit_rate}'.format(k=recall_num, hit_rate=hit_rate))\n",
    "\n",
    "    \n",
    "    \n",
    "    print('==================================== 排序 ====================================')\n",
    "    print('-------- 构建特征 ---------')\n",
    "    \n",
    "    dim, epochs, learning_rate = 30, 15, 0.1 # 由于内存问题，size改回30\n",
    "    if embedding_feat_read:\n",
    "        print('-------- sku1 sku2 sku3 sku4 sku5 user ----------')\n",
    "        dict_embedding_all_ui_item = np.load('../data/embedding/dict_embedding_all_ui_item_{phase}.npy'.format(phase=phase), \n",
    "                                             allow_pickle=True).item()\n",
    "        \n",
    "        print('------- user1 user2 user3 user4 user5 sku -------')\n",
    "        dict_embedding_all_ui_user = np.load('../data/embedding/dict_embedding_all_ui_user_{phase}.npy'.format(phase=phase), \n",
    "                                             allow_pickle=True).item()\n",
    "        \n",
    "        print('------- item1 item2 item3 item4 item5 -------')\n",
    "        dict_embedding_item_only = np.load('../data/embedding/dict_embedding_item_only_{phase}.npy'.format(phase=phase), \n",
    "                                           allow_pickle=True).item()\n",
    "        \n",
    "        print('------- user1 user2 user3 user4 user5 -------')\n",
    "        dict_embedding_user_only = np.load('../data/embedding/dict_embedding_user_only_{phase}.npy'.format(phase=phase), \n",
    "                                           allow_pickle=True).item()\n",
    "\n",
    "    else:\n",
    "        print('-------- sku1 sku2 sku3 sku4 sku5 user ----------')\n",
    "        dict_embedding_all_ui_item = matrix_word2vec_embedding(\n",
    "                                                                click_all=train_test,\n",
    "                                                                flag='item',\n",
    "                                                                mode='all',\n",
    "                                                                dim=dim,\n",
    "                                                                epochs=epochs,\n",
    "                                                                learning_rate=learning_rate\n",
    "                                                                )\n",
    "        np.save('../data/embedding/dict_embedding_all_ui_item_{phase}.npy'.format(phase=phase),\n",
    "               dict_embedding_all_ui_item)\n",
    "\n",
    "\n",
    "        print('------- user1 user2 user3 user4 user5 sku -------')\n",
    "        dict_embedding_all_ui_user = matrix_word2vec_embedding(\n",
    "                                                                click_all=train_test,\n",
    "                                                                flag='user',\n",
    "                                                                mode='all',\n",
    "                                                                dim=dim,\n",
    "                                                                epochs=epochs,\n",
    "                                                                learning_rate=learning_rate\n",
    "                                                                )\n",
    "        np.save('../data/embedding/dict_embedding_all_ui_user_{phase}.npy'.format(phase=phase),\n",
    "               dict_embedding_all_ui_user)\n",
    "\n",
    "\n",
    "        print('------- item1 item2 item3 item4 item5 -------')\n",
    "        dict_embedding_item_only = matrix_word2vec_embedding(\n",
    "                                                                click_all=train_test,\n",
    "                                                                flag='item',\n",
    "                                                                mode='only',\n",
    "                                                                dim=dim,\n",
    "                                                                epochs=epochs,\n",
    "                                                                learning_rate=learning_rate\n",
    "                                                                )\n",
    "        np.save('../data/embedding/dict_embedding_item_only_{phase}.npy'.format(phase=phase),\n",
    "               dict_embedding_item_only)\n",
    "\n",
    "\n",
    "        print('------- user1 user2 user3 user4 user5 -------')\n",
    "        dict_embedding_user_only = matrix_word2vec_embedding(\n",
    "                                                                click_all=train_test,\n",
    "                                                                flag='user',\n",
    "                                                                mode='only',\n",
    "                                                                dim=dim,\n",
    "                                                                epochs=epochs,\n",
    "                                                                learning_rate=learning_rate\n",
    "                                                                )\n",
    "        np.save('../data/embedding/dict_embedding_user_only_{phase}.npy'.format(phase=phase),\n",
    "               dict_embedding_user_only)\n",
    "\n",
    "        \n",
    "    \n",
    "    print('------- Interactive Embedding Feature PCA -----------')\n",
    "\n",
    "    # dict_embedding_all_ui_item PCA\n",
    "    dict_embedding = dict_embedding_all_ui_item.copy()\n",
    "    dict_embedding_all_ui_item = {}\n",
    "    for i in ['user', 'item']:\n",
    "        tmp = pd.DataFrame(dict_embedding[i])\n",
    "        pca_ = embedding_fea_pca(tmp.T, n_components=pca_n_components) # 解释\n",
    "        tmp_pca = pd.DataFrame(pca_.T)\n",
    "        tmp_pca.columns = tmp.columns\n",
    "        dict_embedding_all_ui_item[i] = dict(tmp_pca)\n",
    "    \n",
    "    \n",
    "    # dict_embedding_all_ui_user PCA\n",
    "    dict_embedding = dict_embedding_all_ui_user.copy()\n",
    "    dict_embedding_all_ui_user = {}\n",
    "    for i in ['user', 'item']:\n",
    "        tmp = pd.DataFrame(dict_embedding[i])\n",
    "        pca_ = embedding_fea_pca(tmp.T, n_components=pca_n_components) # 解释\n",
    "        tmp_pca = pd.DataFrame(pca_.T)\n",
    "        tmp_pca.columns = tmp.columns\n",
    "        dict_embedding_all_ui_user[i] = dict(tmp_pca)\n",
    "    print('dict_embedding_all_ui_user是否降维成功........', len(dict_embedding_all_ui_user['user']['1']))    \n",
    "    del tmp, tmp_pca\n",
    "\n",
    "    \n",
    "    \n",
    "    print('------- user or item Embedding Feature Cluster -----------')\n",
    "\n",
    "    # dict_embedding_item_only聚类\n",
    "    item = pd.DataFrame(dict_embedding_item_only['item'])\n",
    "    km_cluster = KMeans(n_clusters=item_n_clusters, max_iter=300, n_init=40, \\\n",
    "                        init='k-means++') #, n_jobs=-1)\n",
    "    # 返回类索引\n",
    "    result = km_cluster.fit_predict(item.T)\n",
    "    item_cluster = pd.DataFrame({'item_id': item.columns, 'item_cluster': np.int16(result)})\n",
    "    del item, km_cluster, result, dict_embedding_item_only\n",
    "    \n",
    "    # dict_embedding_user_only聚类\n",
    "    user = pd.DataFrame(dict_embedding_user_only['user'])\n",
    "    km_cluster = KMeans(n_clusters=user_n_clusters, max_iter=300, n_init=40, \\\n",
    "                        init='k-means++') #, n_jobs=-1)\n",
    "    # 返回类索引\n",
    "    result = km_cluster.fit_predict(user.T)\n",
    "    user_cluster = pd.DataFrame({'user_id': user.columns, 'user_cluster': np.int16(result)})\n",
    "    del user, km_cluster, result\n",
    "    \n",
    "    \n",
    "    # 加载聚类的统计特征\n",
    "    user_cluster_feat_ = user_cluster_feat(click_all, user_cluster)\n",
    "    item_cluster_feat_ = item_cluster_feat(click_all, item_cluster)\n",
    "\n",
    "    del click_all, item_cluster\n",
    "    \n",
    "    \n",
    "    print('------- 特征加工 -----------')\n",
    "\n",
    "    print('..............topk_recall shape:', topk_recall.shape)\n",
    "\n",
    "    \n",
    "#     feature_all = get_train_test_data(topk_recall,\n",
    "#                   matrix_association_rules, \n",
    "#                   time_feat,\n",
    "#                   user_cluster_feat_,\n",
    "#                   item_cluster_feat_,\n",
    "#                   item_hot_dict,\n",
    "#                   txt_cosine_similarity_dict,\n",
    "#                   img_cosine_similarity_dict,\n",
    "#                   dict_embedding_all_ui_item,\n",
    "#                   dict_embedding_all_ui_user,\n",
    "#                   flag_test,\n",
    "#                   click_topn)\n",
    "\n",
    "\n",
    "#     lprofiler = LineProfiler(get_train_test_data)\n",
    "#     lprofiler.run('get_train_test_data( topk_recall[:80000], matrix_association_rules, time_feat, user_cluster_feat_, item_cluster_feat_, item_hot_dict, txt_cosine_similarity_dict, img_cosine_similarity_dict, dict_embedding_all_ui_item, dict_embedding_all_ui_user, flag_test=False, click_topn=click_topn)')\n",
    "#     lprofiler.print_stats()\n",
    "\n",
    "\n",
    "    # 多进程构建特征\n",
    "    # 函数get_train_test_data内部已保存结果\n",
    "    if __name__=='__main__':\n",
    "        cpu_num = cpu_count()\n",
    "        \n",
    "        pool = Pool(open_cpu_n+1) # 创建一个多个进程的进程池\n",
    "        # 将topk_recall分batchs_n批次，并不是越大越好，启动进程也是需时间的\n",
    "        batch_size = topk_recall.shape[0]//(batchs_n)\n",
    "        \n",
    "        for batch in range(batchs_n):\n",
    "            start_index = batch * batch_size\n",
    "            if batch==cpu_num:\n",
    "                end_index = topk_recall.shape[0]\n",
    "            else:\n",
    "                end_index = (1+batch) * batch_size\n",
    "            p = pool.apply_async(func=get_train_test_data, \n",
    "                                                 args=(topk_recall[start_index:end_index],\n",
    "                                                       matrix_association_rules, \n",
    "                                                       time_feat,\n",
    "                                                       user_cluster_feat_,\n",
    "                                                       item_cluster_feat_,\n",
    "                                                       item_hot_dict,\n",
    "                                                       txt_cosine_similarity_dict,\n",
    "                                                       img_cosine_similarity_dict,\n",
    "                                                       dict_embedding_all_ui_item,\n",
    "                                                       dict_embedding_all_ui_user,\n",
    "                                                       phase,\n",
    "                                                       batch,\n",
    "                                                       flag_test,\n",
    "                                                       click_topn))            \n",
    "        pool.close()\n",
    "        pool.join() \n",
    "        \n",
    "        \"\"\"\n",
    "        遍历result列表，取出子进程对象，访问get()方法，获取返回值。（此时所有子进程已执行完毕）\n",
    "        result[0].get()\n",
    "        \"\"\"\n",
    "        print('进程结束') \n",
    "     \n",
    "    \n",
    "    \n",
    "#     # 释放内存\n",
    "# #     del topk_recall, matrix_association_rules, txt_cosine_similarity_dict, img_cosine_similarity_dict, dict_embedding_all_ui_item, dict_embedding_all_ui_user, dict_embedding_item_only, dict_embedding_user_only\n",
    "      \n",
    "    print('分片特征数据拼接')\n",
    "    # feature_all = Pool_feature_concat(feature_part)\n",
    "    # 加载暂存的特征数据\n",
    "    feature_all = load_pool_feature(phase=phase, batchs_n=batchs_n)\n",
    "    # 删除暂存的特征数据\n",
    "    remove_pool_feature(phase, batchs_n)\n",
    "    \n",
    "    \n",
    "    # 用户画像特征缺失预测\n",
    "    user_feat = user_feat_data(dict_embedding_user_only, user_cluster, time_feat)\n",
    "    for i, col in enumerate(['age', 'sex', 'city']):\n",
    "        X_, y_, X_test, data_ = age_sex_city_data(user_feat, col=col)\n",
    "        tmp = null_xgb_predict(X_, y_, X_test, data_, col=col)\n",
    "        if i==0:\n",
    "            user_profile_feat = tmp\n",
    "        else:\n",
    "            user_profile_feat = user_profile_feat.merge(tmp, on=['user_id'], how='left')    \n",
    "\n",
    "    # 增加用户画像特征、时间统计特征、用户聚类统计特征、项目聚类统计特征 \n",
    "    feature_all = add_user_profile_info(feature_all, user_profile_feat)\n",
    "    feature_all = add_time_statistics(feature_all, time_feat)\n",
    "    feature_all = add_user_statistics(feature_all, user_cluster_feat_)\n",
    "    feature_all = add_item_statistics(feature_all, item_cluster_feat_)\n",
    "    print('feature_all的列: ', feature_all.columns)\n",
    "    \n",
    "    \n",
    "    # 数据量太大了，保存占用空间\n",
    "    # print('特征数据保存')\n",
    "    # feature_all.to_pickle(\"../data/process/feature_all_phase{phase}_0002.pkl\".format(phase=phase))\n",
    "    \n",
    "    ############################## 整体数据特征 ############################## \n",
    "    print('--------------------------- 特征数据 ---------------------')\n",
    "    len_f = len(feature_all)\n",
    "    len_train = len(feature_all[feature_all['train_flag']=='train'])\n",
    "    len_test = len(feature_all[feature_all['train_flag']=='test'])\n",
    "    len_train_1 = len(feature_all[(feature_all['train_flag']=='train') & (feature_all['label']== 1)]) \n",
    "    print('所有数据条数', len_f)\n",
    "    print('训练数据 : ', len_train)\n",
    "    print('训练数据 label 1 : ', len_train_1)\n",
    "    print('训练数据 1 / 0 rate : ', len_train_1 * 1.0 / len_f)\n",
    "    print('测试数据 : ' , len_test)\n",
    "    print('flag : ', set(feature_all['train_flag']))\n",
    "\n",
    "    \n",
    "    ############################## 训练模型 ############################## \n",
    "    print('--------------------------- 训练模型 ---------------------')\n",
    "    submit = train_model_lgb(feature_all, recall_rate=hit_rate, hot_list=item_hot_list, valid=0.2, topk=50, \n",
    "                             num_boost_round=1500, early_stopping_rounds=500)\n",
    "\n",
    "    \n",
    "    # submit = train_model_rf(feature_all, recall_rate=hit_rate, hot_list=item_hot_list, valid=0.2, topk=50)\n",
    "    \n",
    "\n",
    "    print('--------------------------- 保存预测文件 ---------------------')\n",
    "    phase_submit_save(submit, phase, 50)\n"
   ]
  },
  {
   "cell_type": "code",
   "execution_count": null,
   "metadata": {},
   "outputs": [],
   "source": []
  },
  {
   "cell_type": "code",
   "execution_count": null,
   "metadata": {},
   "outputs": [],
   "source": []
  },
  {
   "cell_type": "code",
   "execution_count": 3,
   "metadata": {},
   "outputs": [
    {
     "name": "stdout",
     "output_type": "stream",
     "text": [
      "phase: 7\n",
      "================================== 加载click数据 ==================================\n",
      "================================== 生成中间数据 ==================================\n",
      "==================================== 召回 ====================================\n",
      "-------- 评测召回效果 -------------\n",
      "-------- 召回效果 -------------\n",
      "--------:phase:  7  -------------\n",
      "phase:  7  top_ 0  :  hit_num :  305 hit_rate :  0.01694067984892246  data_num :  18004\n",
      "\n",
      "phase:  7  top_ 70  :  hit_num :  2325 hit_rate :  0.12913796934014662  data_num :  18004\n",
      "\n",
      "phase:  7  top_ 140  :  hit_num :  2891 hit_rate :  0.16057542768273717  data_num :  18004\n",
      "\n",
      "phase:  7  top_ 210  :  hit_num :  3190 hit_rate :  0.17718284825594313  data_num :  18004\n",
      "\n",
      "phase:  7  top_ 280  :  hit_num :  3389 hit_rate :  0.1882359475672073  data_num :  18004\n",
      "\n",
      "phase:  7  top_ 350  :  hit_num :  3552 hit_rate :  0.19728949122417241  data_num :  18004\n",
      "\n",
      "phase:  7  top_ 420  :  hit_num :  3694 hit_rate :  0.20517662741612974  data_num :  18004\n",
      "\n",
      "phase:  7  top_ 490  :  hit_num :  3807 hit_rate :  0.21145301044212397  data_num :  18004\n",
      "\n",
      "phase:  7  top_ 560  :  hit_num :  3928 hit_rate :  0.21817373916907354  data_num :  18004\n",
      "\n",
      "phase:  7  top_ 630  :  hit_num :  4040 hit_rate :  0.22439457898244836  data_num :  18004\n",
      "\n",
      "phase:  7  top_ 700  :  hit_num :  4143 hit_rate :  0.2301155298822484  data_num :  18004\n",
      "\n",
      "召回TOP:700时, 命中百分比:0.2301155298822484\n",
      "==================================== 排序 ====================================\n",
      "-------- 构建特征 ---------\n",
      "-------- sku1 sku2 sku3 sku4 sku5 user ----------\n",
      "------- user1 user2 user3 user4 user5 sku -------\n",
      "------- item1 item2 item3 item4 item5 -------\n",
      "------- user1 user2 user3 user4 user5 -------\n",
      "------- Interactive Embedding Feature PCA -----------\n",
      "------- 降成5维后的方差百分比:  [0.08403312 0.07471321 0.06455785 0.05279057 0.04980343]\n",
      "------- 降成5维后的方差百分比:  [0.06503557 0.05709174 0.0516721  0.04347896 0.04137577]\n",
      "------- 降成5维后的方差百分比:  [0.06451558 0.0582561  0.05342722 0.0445564  0.04259053]\n",
      "------- 降成5维后的方差百分比:  [0.10115123 0.08490444 0.06854519 0.06525195 0.05203432]\n",
      "dict_embedding_all_ui_user是否降维成功........ 5\n",
      "------- user or item Embedding Feature Cluster -----------\n",
      "------- 特征加工 -----------\n",
      "..............topk_recall shape: (13860700, 5)\n",
      "------- 构建样本 -----------\n",
      "............... train len= 756000\n",
      "............... test  len= 316400\n",
      "----------- 加入特征 train -----------\n"
     ]
    },
    {
     "name": "stderr",
     "output_type": "stream",
     "text": [
      "14314it [00:27, 521.61it/s]"
     ]
    },
    {
     "name": "stdout",
     "output_type": "stream",
     "text": [
      "------- 构建样本 -----------\n"
     ]
    },
    {
     "name": "stderr",
     "output_type": "stream",
     "text": [
      "16222it [00:31, 522.53it/s]"
     ]
    },
    {
     "name": "stdout",
     "output_type": "stream",
     "text": [
      "............... train len= 723275\n",
      "............... test  len= 310100\n"
     ]
    },
    {
     "name": "stderr",
     "output_type": "stream",
     "text": [
      "16328it [00:31, 521.76it/s]"
     ]
    },
    {
     "name": "stdout",
     "output_type": "stream",
     "text": [
      "----------- 加入特征 train -----------\n"
     ]
    },
    {
     "name": "stderr",
     "output_type": "stream",
     "text": [
      "30362it [01:00, 425.87it/s]"
     ]
    },
    {
     "name": "stdout",
     "output_type": "stream",
     "text": [
      "------- 构建样本 -----------\n"
     ]
    },
    {
     "name": "stderr",
     "output_type": "stream",
     "text": [
      "32079it [01:04, 517.96it/s]"
     ]
    },
    {
     "name": "stdout",
     "output_type": "stream",
     "text": [
      "............... train len= 667800\n",
      "............... test  len= 321300\n"
     ]
    },
    {
     "name": "stderr",
     "output_type": "stream",
     "text": [
      "15910it [00:32, 515.90it/s]"
     ]
    },
    {
     "name": "stdout",
     "output_type": "stream",
     "text": [
      "----------- 加入特征 train -----------\n"
     ]
    },
    {
     "name": "stderr",
     "output_type": "stream",
     "text": [
      "46384it [01:32, 413.98it/s]"
     ]
    },
    {
     "name": "stdout",
     "output_type": "stream",
     "text": [
      "------- 构建样本 -----------\n"
     ]
    },
    {
     "name": "stderr",
     "output_type": "stream",
     "text": [
      "31786it [01:05, 379.12it/s]"
     ]
    },
    {
     "name": "stdout",
     "output_type": "stream",
     "text": [
      "............... train len= 752500\n",
      "............... test  len= 310100\n"
     ]
    },
    {
     "name": "stderr",
     "output_type": "stream",
     "text": [
      "16063it [00:32, 516.37it/s]"
     ]
    },
    {
     "name": "stdout",
     "output_type": "stream",
     "text": [
      "----------- 加入特征 train -----------\n"
     ]
    },
    {
     "name": "stderr",
     "output_type": "stream",
     "text": [
      "667800it [23:07, 481.19it/s]\n",
      "708899it [24:22, 487.25it/s]"
     ]
    },
    {
     "name": "stdout",
     "output_type": "stream",
     "text": [
      "----------- 加入特征 test -----------\n"
     ]
    },
    {
     "name": "stderr",
     "output_type": "stream",
     "text": [
      "723275it [25:02, 481.27it/s]\n",
      "698551it [24:08, 521.08it/s]"
     ]
    },
    {
     "name": "stdout",
     "output_type": "stream",
     "text": [
      "----------- 加入特征 test -----------\n"
     ]
    },
    {
     "name": "stderr",
     "output_type": "stream",
     "text": [
      "756000it [26:01, 484.10it/s]\n",
      "53720it [01:51, 508.62it/s]]"
     ]
    },
    {
     "name": "stdout",
     "output_type": "stream",
     "text": [
      "----------- 加入特征 test -----------\n"
     ]
    },
    {
     "name": "stderr",
     "output_type": "stream",
     "text": [
      "752500it [26:02, 481.69it/s]\n",
      "59927it [02:05, 361.14it/s]]"
     ]
    },
    {
     "name": "stdout",
     "output_type": "stream",
     "text": [
      "----------- 加入特征 test -----------\n"
     ]
    },
    {
     "name": "stderr",
     "output_type": "stream",
     "text": [
      "321300it [11:06, 482.04it/s]\n",
      "310100it [10:40, 484.33it/s]\n",
      "316400it [10:49, 487.03it/s]\n",
      "310100it [10:31, 491.18it/s]\n"
     ]
    },
    {
     "name": "stdout",
     "output_type": "stream",
     "text": [
      "进程结束\n",
      "分片特征数据拼接\n",
      "Removed all files of '../cache/pool_feature_part_phase7...'\n"
     ]
    },
    {
     "ename": "FileNotFoundError",
     "evalue": "[Errno 2] No such file or directory: '../cache/feature_all.pkl'",
     "output_type": "error",
     "traceback": [
      "\u001b[0;31m---------------------------------------------------------------------------\u001b[0m",
      "\u001b[0;31mFileNotFoundError\u001b[0m                         Traceback (most recent call last)",
      "\u001b[0;32m<ipython-input-3-7346468194ba>\u001b[0m in \u001b[0;36m<module>\u001b[0;34m\u001b[0m\n\u001b[1;32m    246\u001b[0m \u001b[0;34m\u001b[0m\u001b[0m\n\u001b[1;32m    247\u001b[0m \u001b[0;34m\u001b[0m\u001b[0m\n\u001b[0;32m--> 248\u001b[0;31m     \u001b[0mfeature_all\u001b[0m \u001b[0;34m=\u001b[0m \u001b[0mpd\u001b[0m\u001b[0;34m.\u001b[0m\u001b[0mread_pickle\u001b[0m\u001b[0;34m(\u001b[0m\u001b[0;34m'../cache/feature_all.pkl'\u001b[0m\u001b[0;34m)\u001b[0m\u001b[0;34m\u001b[0m\u001b[0;34m\u001b[0m\u001b[0m\n\u001b[0m\u001b[1;32m    249\u001b[0m     \u001b[0;31m# 用户画像特征缺失预测\u001b[0m\u001b[0;34m\u001b[0m\u001b[0;34m\u001b[0m\u001b[0;34m\u001b[0m\u001b[0m\n\u001b[1;32m    250\u001b[0m     \u001b[0muser_feat\u001b[0m \u001b[0;34m=\u001b[0m \u001b[0muser_feat_data\u001b[0m\u001b[0;34m(\u001b[0m\u001b[0mdict_embedding_user_only\u001b[0m\u001b[0;34m,\u001b[0m \u001b[0muser_cluster\u001b[0m\u001b[0;34m,\u001b[0m \u001b[0mtime_feat\u001b[0m\u001b[0;34m)\u001b[0m\u001b[0;34m\u001b[0m\u001b[0;34m\u001b[0m\u001b[0m\n",
      "\u001b[0;32m/home/zhu/anaconda3/lib/python3.7/site-packages/pandas/io/pickle.py\u001b[0m in \u001b[0;36mread_pickle\u001b[0;34m(filepath_or_buffer, compression)\u001b[0m\n\u001b[1;32m    168\u001b[0m     \u001b[0;32mif\u001b[0m \u001b[0;32mnot\u001b[0m \u001b[0misinstance\u001b[0m\u001b[0;34m(\u001b[0m\u001b[0mfp_or_buf\u001b[0m\u001b[0;34m,\u001b[0m \u001b[0mstr\u001b[0m\u001b[0;34m)\u001b[0m \u001b[0;32mand\u001b[0m \u001b[0mcompression\u001b[0m \u001b[0;34m==\u001b[0m \u001b[0;34m\"infer\"\u001b[0m\u001b[0;34m:\u001b[0m\u001b[0;34m\u001b[0m\u001b[0;34m\u001b[0m\u001b[0m\n\u001b[1;32m    169\u001b[0m         \u001b[0mcompression\u001b[0m \u001b[0;34m=\u001b[0m \u001b[0;32mNone\u001b[0m\u001b[0;34m\u001b[0m\u001b[0;34m\u001b[0m\u001b[0m\n\u001b[0;32m--> 170\u001b[0;31m     \u001b[0mf\u001b[0m\u001b[0;34m,\u001b[0m \u001b[0mfh\u001b[0m \u001b[0;34m=\u001b[0m \u001b[0mget_handle\u001b[0m\u001b[0;34m(\u001b[0m\u001b[0mfp_or_buf\u001b[0m\u001b[0;34m,\u001b[0m \u001b[0;34m\"rb\"\u001b[0m\u001b[0;34m,\u001b[0m \u001b[0mcompression\u001b[0m\u001b[0;34m=\u001b[0m\u001b[0mcompression\u001b[0m\u001b[0;34m,\u001b[0m \u001b[0mis_text\u001b[0m\u001b[0;34m=\u001b[0m\u001b[0;32mFalse\u001b[0m\u001b[0;34m)\u001b[0m\u001b[0;34m\u001b[0m\u001b[0;34m\u001b[0m\u001b[0m\n\u001b[0m\u001b[1;32m    171\u001b[0m \u001b[0;34m\u001b[0m\u001b[0m\n\u001b[1;32m    172\u001b[0m     \u001b[0;31m# 1) try standard library Pickle\u001b[0m\u001b[0;34m\u001b[0m\u001b[0;34m\u001b[0m\u001b[0;34m\u001b[0m\u001b[0m\n",
      "\u001b[0;32m/home/zhu/anaconda3/lib/python3.7/site-packages/pandas/io/common.py\u001b[0m in \u001b[0;36mget_handle\u001b[0;34m(path_or_buf, mode, encoding, compression, memory_map, is_text)\u001b[0m\n\u001b[1;32m    432\u001b[0m         \u001b[0;32melse\u001b[0m\u001b[0;34m:\u001b[0m\u001b[0;34m\u001b[0m\u001b[0;34m\u001b[0m\u001b[0m\n\u001b[1;32m    433\u001b[0m             \u001b[0;31m# Binary mode\u001b[0m\u001b[0;34m\u001b[0m\u001b[0;34m\u001b[0m\u001b[0;34m\u001b[0m\u001b[0m\n\u001b[0;32m--> 434\u001b[0;31m             \u001b[0mf\u001b[0m \u001b[0;34m=\u001b[0m \u001b[0mopen\u001b[0m\u001b[0;34m(\u001b[0m\u001b[0mpath_or_buf\u001b[0m\u001b[0;34m,\u001b[0m \u001b[0mmode\u001b[0m\u001b[0;34m)\u001b[0m\u001b[0;34m\u001b[0m\u001b[0;34m\u001b[0m\u001b[0m\n\u001b[0m\u001b[1;32m    435\u001b[0m         \u001b[0mhandles\u001b[0m\u001b[0;34m.\u001b[0m\u001b[0mappend\u001b[0m\u001b[0;34m(\u001b[0m\u001b[0mf\u001b[0m\u001b[0;34m)\u001b[0m\u001b[0;34m\u001b[0m\u001b[0;34m\u001b[0m\u001b[0m\n\u001b[1;32m    436\u001b[0m \u001b[0;34m\u001b[0m\u001b[0m\n",
      "\u001b[0;31mFileNotFoundError\u001b[0m: [Errno 2] No such file or directory: '../cache/feature_all.pkl'"
     ]
    }
   ],
   "source": [
    "\n",
    "now_phase = 7\n",
    "\n",
    "\n",
    "for phase in range(now_phase, now_phase + 1):  \n",
    "    print('phase:', phase)\n",
    "    \"\"\"\n",
    "    train_test: 训练测试点击数据\n",
    "    item_hot_list: 项目热度list\n",
    "    dict_label_user_item: 训练点击中用户——最后一次点击项目字典\n",
    "    item_hot_dict: 项目热度字典\n",
    "    time_feat：用户点击时间特征\n",
    "    \n",
    "    \"\"\"\n",
    "    click_all, test_user_set = load_click_data(phase, nrows=nrows)\n",
    "    train_test, item_hot_list, dict_label_user_item, item_hot_dict, time_feat = data_generate(click_all, test_user_set)\n",
    "\n",
    "    \n",
    "    \n",
    "    print('==================================== 召回 ====================================')\n",
    "    \n",
    "    # TODO: 增加其它召回\n",
    "    if topk_recall_read:\n",
    "        topk_recall = pd.read_pickle('../data/recall/topk_recall_{phase}.pkl'.format(phase=phase))\n",
    "        matrix_association_rules = np.load('../data/recall/matrix_association_rules_{phase}.npy'.format(phase=phase), allow_pickle=True).item()\n",
    "\n",
    "    else:\n",
    "        topk_recall, matrix_association_rules = topk_recall_association_rules_qyxs_icf(\n",
    "                                                click_all=train_test,\n",
    "                                                dict_label=dict_label_user_item, \n",
    "                                                k=recall_num\n",
    "                                                )\n",
    "        topk_recall.to_pickle('../data/recall/topk_recall_{phase}.pkl'.format(phase=phase))\n",
    "        np.save('../data/recall/matrix_association_rules_{phase}.npy'.format(phase=phase), matrix_association_rules)\n",
    "\n",
    "\n",
    "    print('-------- 评测召回效果 -------------')\n",
    "    hit_rate = metrics_recall(topk_recall=topk_recall, phase=phase, k=recall_num, sep=int(recall_num/10))\n",
    "    print('召回TOP:{k}时, 命中百分比:{hit_rate}'.format(k=recall_num, hit_rate=hit_rate))\n",
    "\n",
    "    \n",
    "    \n",
    "    print('==================================== 排序 ====================================')\n",
    "    print('-------- 构建特征 ---------')\n",
    "    \n",
    "    dim, epochs, learning_rate = 30, 15, 0.1 # 由于内存问题，size改回30\n",
    "    if embedding_feat_read:\n",
    "        print('-------- sku1 sku2 sku3 sku4 sku5 user ----------')\n",
    "        dict_embedding_all_ui_item = np.load('../data/embedding/dict_embedding_all_ui_item_{phase}.npy'.format(phase=phase), \n",
    "                                             allow_pickle=True).item()\n",
    "        \n",
    "        print('------- user1 user2 user3 user4 user5 sku -------')\n",
    "        dict_embedding_all_ui_user = np.load('../data/embedding/dict_embedding_all_ui_user_{phase}.npy'.format(phase=phase), \n",
    "                                             allow_pickle=True).item()\n",
    "        \n",
    "        print('------- item1 item2 item3 item4 item5 -------')\n",
    "        dict_embedding_item_only = np.load('../data/embedding/dict_embedding_item_only_{phase}.npy'.format(phase=phase), \n",
    "                                           allow_pickle=True).item()\n",
    "        \n",
    "        print('------- user1 user2 user3 user4 user5 -------')\n",
    "        dict_embedding_user_only = np.load('../data/embedding/dict_embedding_user_only_{phase}.npy'.format(phase=phase), \n",
    "                                           allow_pickle=True).item()\n",
    "\n",
    "    else:\n",
    "        print('-------- sku1 sku2 sku3 sku4 sku5 user ----------')\n",
    "        dict_embedding_all_ui_item = matrix_word2vec_embedding(\n",
    "                                                                click_all=train_test,\n",
    "                                                                flag='item',\n",
    "                                                                mode='all',\n",
    "                                                                dim=dim,\n",
    "                                                                epochs=epochs,\n",
    "                                                                learning_rate=learning_rate\n",
    "                                                                )\n",
    "        np.save('../data/embedding/dict_embedding_all_ui_item_{phase}.npy'.format(phase=phase),\n",
    "               dict_embedding_all_ui_item)\n",
    "\n",
    "\n",
    "        print('------- user1 user2 user3 user4 user5 sku -------')\n",
    "        dict_embedding_all_ui_user = matrix_word2vec_embedding(\n",
    "                                                                click_all=train_test,\n",
    "                                                                flag='user',\n",
    "                                                                mode='all',\n",
    "                                                                dim=dim,\n",
    "                                                                epochs=epochs,\n",
    "                                                                learning_rate=learning_rate\n",
    "                                                                )\n",
    "        np.save('../data/embedding/dict_embedding_all_ui_user_{phase}.npy'.format(phase=phase),\n",
    "               dict_embedding_all_ui_user)\n",
    "\n",
    "\n",
    "        print('------- item1 item2 item3 item4 item5 -------')\n",
    "        dict_embedding_item_only = matrix_word2vec_embedding(\n",
    "                                                                click_all=train_test,\n",
    "                                                                flag='item',\n",
    "                                                                mode='only',\n",
    "                                                                dim=dim,\n",
    "                                                                epochs=epochs,\n",
    "                                                                learning_rate=learning_rate\n",
    "                                                                )\n",
    "        np.save('../data/embedding/dict_embedding_item_only_{phase}.npy'.format(phase=phase),\n",
    "               dict_embedding_item_only)\n",
    "\n",
    "\n",
    "        print('------- user1 user2 user3 user4 user5 -------')\n",
    "        dict_embedding_user_only = matrix_word2vec_embedding(\n",
    "                                                                click_all=train_test,\n",
    "                                                                flag='user',\n",
    "                                                                mode='only',\n",
    "                                                                dim=dim,\n",
    "                                                                epochs=epochs,\n",
    "                                                                learning_rate=learning_rate\n",
    "                                                                )\n",
    "        np.save('../data/embedding/dict_embedding_user_only_{phase}.npy'.format(phase=phase),\n",
    "               dict_embedding_user_only)\n",
    "\n",
    "        \n",
    "    \n",
    "    print('------- Interactive Embedding Feature PCA -----------')\n",
    "\n",
    "    # dict_embedding_all_ui_item PCA\n",
    "    dict_embedding = dict_embedding_all_ui_item.copy()\n",
    "    dict_embedding_all_ui_item = {}\n",
    "    for i in ['user', 'item']:\n",
    "        tmp = pd.DataFrame(dict_embedding[i])\n",
    "        pca_ = embedding_fea_pca(tmp.T, n_components=pca_n_components) # 解释\n",
    "        tmp_pca = pd.DataFrame(pca_.T)\n",
    "        tmp_pca.columns = tmp.columns\n",
    "        dict_embedding_all_ui_item[i] = dict(tmp_pca)\n",
    "    \n",
    "    \n",
    "    # dict_embedding_all_ui_user PCA\n",
    "    dict_embedding = dict_embedding_all_ui_user.copy()\n",
    "    dict_embedding_all_ui_user = {}\n",
    "    for i in ['user', 'item']:\n",
    "        tmp = pd.DataFrame(dict_embedding[i])\n",
    "        pca_ = embedding_fea_pca(tmp.T, n_components=pca_n_components) # 解释\n",
    "        tmp_pca = pd.DataFrame(pca_.T)\n",
    "        tmp_pca.columns = tmp.columns\n",
    "        dict_embedding_all_ui_user[i] = dict(tmp_pca)\n",
    "    print('dict_embedding_all_ui_user是否降维成功........', len(dict_embedding_all_ui_user['user']['1']))    \n",
    "    del tmp, tmp_pca\n",
    "\n",
    "    \n",
    "    \n",
    "    print('------- user or item Embedding Feature Cluster -----------')\n",
    "\n",
    "    # dict_embedding_item_only聚类\n",
    "    item = pd.DataFrame(dict_embedding_item_only['item'])\n",
    "    km_cluster = KMeans(n_clusters=item_n_clusters, max_iter=300, n_init=40, \\\n",
    "                        init='k-means++') #, n_jobs=-1)\n",
    "    # 返回类索引\n",
    "    result = km_cluster.fit_predict(item.T)\n",
    "    item_cluster = pd.DataFrame({'item_id': item.columns, 'item_cluster': np.int16(result)})\n",
    "    del item, km_cluster, result, dict_embedding_item_only\n",
    "    \n",
    "    # dict_embedding_user_only聚类\n",
    "    user = pd.DataFrame(dict_embedding_user_only['user'])\n",
    "    km_cluster = KMeans(n_clusters=user_n_clusters, max_iter=300, n_init=40, \\\n",
    "                        init='k-means++') #, n_jobs=-1)\n",
    "    # 返回类索引\n",
    "    result = km_cluster.fit_predict(user.T)\n",
    "    user_cluster = pd.DataFrame({'user_id': user.columns, 'user_cluster': np.int16(result)})\n",
    "    del user, km_cluster, result\n",
    "    \n",
    "    \n",
    "    # 加载聚类的统计特征\n",
    "    user_cluster_feat_ = user_cluster_feat(click_all, user_cluster)\n",
    "    item_cluster_feat_ = item_cluster_feat(click_all, item_cluster)\n",
    "\n",
    "    del click_all, item_cluster\n",
    "    \n",
    "    \n",
    "    print('------- 特征加工 -----------')\n",
    "\n",
    "    print('..............topk_recall shape:', topk_recall.shape)\n",
    "\n",
    "    \n",
    "#     feature_all = get_train_test_data(topk_recall,\n",
    "#                   matrix_association_rules, \n",
    "#                   time_feat,\n",
    "#                   user_cluster_feat_,\n",
    "#                   item_cluster_feat_,\n",
    "#                   item_hot_dict,\n",
    "#                   txt_cosine_similarity_dict,\n",
    "#                   img_cosine_similarity_dict,\n",
    "#                   dict_embedding_all_ui_item,\n",
    "#                   dict_embedding_all_ui_user,\n",
    "#                   flag_test,\n",
    "#                   click_topn)\n",
    "\n",
    "\n",
    "#     lprofiler = LineProfiler(get_train_test_data)\n",
    "#     lprofiler.run('get_train_test_data( topk_recall[:80000], matrix_association_rules, time_feat, user_cluster_feat_, item_cluster_feat_, item_hot_dict, txt_cosine_similarity_dict, img_cosine_similarity_dict, dict_embedding_all_ui_item, dict_embedding_all_ui_user, flag_test=False, click_topn=click_topn)')\n",
    "#     lprofiler.print_stats()\n",
    "\n",
    "\n",
    "    # 多进程构建特征\n",
    "    # 函数get_train_test_data内部已保存结果\n",
    "    if __name__=='__main__':\n",
    "        cpu_num = cpu_count()\n",
    "        \n",
    "        pool = Pool(open_cpu_n+1) # 创建一个多个进程的进程池\n",
    "        # 将topk_recall分batchs_n批次，并不是越大越好，启动进程也是需时间的\n",
    "        batch_size = topk_recall.shape[0]//(batchs_n)\n",
    "        \n",
    "        for batch in range(batchs_n):\n",
    "            start_index = batch * batch_size\n",
    "            if batch==cpu_num:\n",
    "                end_index = topk_recall.shape[0]\n",
    "            else:\n",
    "                end_index = (1+batch) * batch_size\n",
    "            p = pool.apply_async(func=get_train_test_data, \n",
    "                                                 args=(topk_recall[start_index:end_index],\n",
    "                                                       matrix_association_rules, \n",
    "                                                       time_feat,\n",
    "                                                       user_cluster_feat_,\n",
    "                                                       item_cluster_feat_,\n",
    "                                                       item_hot_dict,\n",
    "                                                       txt_cosine_similarity_dict,\n",
    "                                                       img_cosine_similarity_dict,\n",
    "                                                       dict_embedding_all_ui_item,\n",
    "                                                       dict_embedding_all_ui_user,\n",
    "                                                       phase,\n",
    "                                                       batch,\n",
    "                                                       flag_test,\n",
    "                                                       click_topn))            \n",
    "        pool.close()\n",
    "        pool.join() \n",
    "        \n",
    "        \"\"\"\n",
    "        遍历result列表，取出子进程对象，访问get()方法，获取返回值。（此时所有子进程已执行完毕）\n",
    "        result[0].get()\n",
    "        \"\"\"\n",
    "        print('进程结束') \n",
    "     \n",
    "    \n",
    "    \n",
    "#     # 释放内存\n",
    "# #     del topk_recall, matrix_association_rules, txt_cosine_similarity_dict, img_cosine_similarity_dict, dict_embedding_all_ui_item, dict_embedding_all_ui_user, dict_embedding_item_only, dict_embedding_user_only\n",
    "      \n",
    "    print('分片特征数据拼接')\n",
    "    # feature_all = Pool_feature_concat(feature_part)\n",
    "    # 加载暂存的特征数据\n",
    "    feature_all = load_pool_feature(phase=phase, batchs_n=batchs_n)\n",
    "    # 删除暂存的特征数据\n",
    "    remove_pool_feature(phase, batchs_n)\n",
    "    \n",
    "    \n",
    "    # 用户画像特征缺失预测\n",
    "    user_feat = user_feat_data(dict_embedding_user_only, user_cluster, time_feat)\n",
    "    for i, col in enumerate(['age', 'sex', 'city']):\n",
    "        X_, y_, X_test, data_ = age_sex_city_data(user_feat, col=col)\n",
    "        tmp = null_xgb_predict(X_, y_, X_test, data_, col=col)\n",
    "        if i==0:\n",
    "            user_profile_feat = tmp\n",
    "        else:\n",
    "            user_profile_feat = user_profile_feat.merge(tmp, on=['user_id'], how='left')    \n",
    "\n",
    "    # 增加用户画像特征、时间统计特征、用户聚类统计特征、项目聚类统计特征 \n",
    "    feature_all = add_user_profile_info(feature_all, user_profile_feat)\n",
    "    feature_all = add_time_statistics(feature_all, time_feat)\n",
    "    feature_all = add_user_statistics(feature_all, user_cluster_feat_)\n",
    "    feature_all = add_item_statistics(feature_all, item_cluster_feat_)\n",
    "    print('feature_all的列: ', feature_all.columns)\n",
    "    \n",
    "    \n",
    "    # 数据量太大了，保存占用空间\n",
    "    # print('特征数据保存')\n",
    "    # feature_all.to_pickle(\"../data/process/feature_all_phase{phase}_0002.pkl\".format(phase=phase))\n",
    "    \n",
    "    ############################## 整体数据特征 ############################## \n",
    "    print('--------------------------- 特征数据 ---------------------')\n",
    "    len_f = len(feature_all)\n",
    "    len_train = len(feature_all[feature_all['train_flag']=='train'])\n",
    "    len_test = len(feature_all[feature_all['train_flag']=='test'])\n",
    "    len_train_1 = len(feature_all[(feature_all['train_flag']=='train') & (feature_all['label']== 1)]) \n",
    "    print('所有数据条数', len_f)\n",
    "    print('训练数据 : ', len_train)\n",
    "    print('训练数据 label 1 : ', len_train_1)\n",
    "    print('训练数据 1 / 0 rate : ', len_train_1 * 1.0 / len_f)\n",
    "    print('测试数据 : ' , len_test)\n",
    "    print('flag : ', set(feature_all['train_flag']))\n",
    "\n",
    "    \n",
    "    ############################## 训练模型 ############################## \n",
    "    print('--------------------------- 训练模型 ---------------------')\n",
    "    submit = train_model_lgb(feature_all, recall_rate=hit_rate, hot_list=item_hot_list, valid=0.2, topk=50, \n",
    "                             num_boost_round=1500, early_stopping_rounds=500)\n",
    "\n",
    "    \n",
    "    # submit = train_model_rf(feature_all, recall_rate=hit_rate, hot_list=item_hot_list, valid=0.2, topk=50)\n",
    "    \n",
    "\n",
    "    print('--------------------------- 保存预测文件 ---------------------')\n",
    "    phase_submit_save(submit, phase, 50)\n"
   ]
  },
  {
   "cell_type": "code",
   "execution_count": 5,
   "metadata": {},
   "outputs": [
    {
     "name": "stdout",
     "output_type": "stream",
     "text": [
      "-------------- age特征缺失预测 --------------\n",
      "[0]\tvalidation_0-mlogloss:2.06343\n",
      "Will train until validation_0-mlogloss hasn't improved in 200 rounds.\n",
      "[200]\tvalidation_0-mlogloss:1.72107\n",
      "Stopping. Best iteration:\n",
      "[111]\tvalidation_0-mlogloss:1.70343\n",
      "\n",
      "-------------- sex特征缺失预测 --------------\n",
      "[0]\tvalidation_0-auc:0.75420\n",
      "Will train until validation_0-auc hasn't improved in 200 rounds.\n",
      "[200]\tvalidation_0-auc:0.84417\n",
      "Stopping. Best iteration:\n",
      "[86]\tvalidation_0-auc:0.84854\n",
      "\n",
      "-------------- city特征缺失预测 --------------\n",
      "[0]\tvalidation_0-mlogloss:1.78598\n",
      "Will train until validation_0-mlogloss hasn't improved in 200 rounds.\n",
      "[200]\tvalidation_0-mlogloss:1.76552\n",
      "Stopping. Best iteration:\n",
      "[44]\tvalidation_0-mlogloss:1.71118\n",
      "\n",
      "feature_all的列:  Index(['similarity_d1', 'similarity_d2', 'score_similar', 'dim1_user_0',\n",
      "       'dim1_user_1', 'dim1_user_2', 'dim1_user_3', 'dim1_user_4',\n",
      "       'dim1_item_0', 'dim1_item_1', 'dim1_item_2', 'dim1_item_3',\n",
      "       'dim1_item_4', 'dim2_user_0', 'dim2_user_1', 'dim2_user_2',\n",
      "       'dim2_user_3', 'dim2_user_4', 'dim2_item_0', 'dim2_item_1',\n",
      "       'dim2_item_2', 'dim2_item_3', 'dim2_item_4', 'clicked_item_0',\n",
      "       'clicked_item_0_cnt', 'clicked_item_0_to_item_0_score',\n",
      "       'item_0_to_clicked_item_0_txt_cosine_sim',\n",
      "       'item_0_to_clicked_item_0_img_cosine_sim',\n",
      "       'clicked_item_0_item_cluster', 'clicked_item_0_item_cluster_cnt',\n",
      "       'clicked_item_0_item_cluster_user_cnt',\n",
      "       'clicked_item_0_item_cluster_item_cnt', 'clicked_item_1',\n",
      "       'clicked_item_1_cnt', 'clicked_item_1_to_item_1_score',\n",
      "       'item_1_to_clicked_item_1_txt_cosine_sim',\n",
      "       'item_1_to_clicked_item_1_img_cosine_sim',\n",
      "       'clicked_item_1_item_cluster', 'clicked_item_1_item_cluster_cnt',\n",
      "       'clicked_item_1_item_cluster_user_cnt',\n",
      "       'clicked_item_1_item_cluster_item_cnt', 'clicked_item_2',\n",
      "       'clicked_item_2_cnt', 'clicked_item_2_to_item_2_score',\n",
      "       'item_2_to_clicked_item_2_txt_cosine_sim',\n",
      "       'item_2_to_clicked_item_2_img_cosine_sim',\n",
      "       'clicked_item_2_item_cluster', 'clicked_item_2_item_cluster_cnt',\n",
      "       'clicked_item_2_item_cluster_user_cnt',\n",
      "       'clicked_item_2_item_cluster_item_cnt', 'clicked_item_3',\n",
      "       'clicked_item_3_cnt', 'clicked_item_3_to_item_3_score',\n",
      "       'item_3_to_clicked_item_3_txt_cosine_sim',\n",
      "       'item_3_to_clicked_item_3_img_cosine_sim',\n",
      "       'clicked_item_3_item_cluster', 'clicked_item_3_item_cluster_cnt',\n",
      "       'clicked_item_3_item_cluster_user_cnt',\n",
      "       'clicked_item_3_item_cluster_item_cnt', 'clicked_item_4',\n",
      "       'clicked_item_4_cnt', 'clicked_item_4_to_item_4_score',\n",
      "       'item_4_to_clicked_item_4_txt_cosine_sim',\n",
      "       'item_4_to_clicked_item_4_img_cosine_sim',\n",
      "       'clicked_item_4_item_cluster', 'clicked_item_4_item_cluster_cnt',\n",
      "       'clicked_item_4_item_cluster_user_cnt',\n",
      "       'clicked_item_4_item_cluster_item_cnt', 'train_flag', 'user_id',\n",
      "       'item_similar', 'label', 'age', 'sex', 'city', 'user_click_item_num',\n",
      "       'time_max_min_minus', 'time_diff_mean', 'time_mean', 'time_std',\n",
      "       'time_max', 'time_min', 'different_session_num',\n",
      "       'favorite_session_click', 'user_cluster', 'user_cluster_cnt',\n",
      "       'user_cluster_user_cnt', 'user_cluster_item_cnt', 'item_cluster',\n",
      "       'item_cluster_cnt', 'item_cluster_user_cnt', 'item_cluster_item_cnt'],\n",
      "      dtype='object')\n",
      "--------------------------- 特征数据 ---------------------\n",
      "所有数据条数 4172175\n",
      "训练数据 :  2914275\n",
      "训练数据 label 1 :  4164\n",
      "训练数据 1 / 0 rate :  0.000998040590339571\n",
      "测试数据 :  1257900\n",
      "flag :  {'train', 'test'}\n",
      "--------------------------- 训练模型 ---------------------\n",
      "Training until validation scores don't improve for 500 rounds\n",
      "[50]\tvalid_0's map@1: 0.987326\tvalid_0's map@2: 0.98876\tvalid_0's map@3: 0.989464\tvalid_0's map@4: 0.989992\tvalid_0's map@5: 0.990414\n",
      "[100]\tvalid_0's map@1: 0.987025\tvalid_0's map@2: 0.989062\tvalid_0's map@3: 0.989665\tvalid_0's map@4: 0.990042\tvalid_0's map@5: 0.990284\n",
      "[150]\tvalid_0's map@1: 0.985516\tvalid_0's map@2: 0.988458\tvalid_0's map@3: 0.989162\tvalid_0's map@4: 0.989388\tvalid_0's map@5: 0.989751\n",
      "[200]\tvalid_0's map@1: 0.986119\tvalid_0's map@2: 0.988232\tvalid_0's map@3: 0.989539\tvalid_0's map@4: 0.98969\tvalid_0's map@5: 0.989992\n",
      "[250]\tvalid_0's map@1: 0.986421\tvalid_0's map@2: 0.988383\tvalid_0's map@3: 0.989288\tvalid_0's map@4: 0.98959\tvalid_0's map@5: 0.989831\n",
      "[300]\tvalid_0's map@1: 0.989439\tvalid_0's map@2: 0.990495\tvalid_0's map@3: 0.991501\tvalid_0's map@4: 0.991878\tvalid_0's map@5: 0.992119\n",
      "[350]\tvalid_0's map@1: 0.989439\tvalid_0's map@2: 0.990193\tvalid_0's map@3: 0.991501\tvalid_0's map@4: 0.991802\tvalid_0's map@5: 0.992165\n",
      "[400]\tvalid_0's map@1: 0.989439\tvalid_0's map@2: 0.990193\tvalid_0's map@3: 0.991501\tvalid_0's map@4: 0.991727\tvalid_0's map@5: 0.992089\n",
      "[450]\tvalid_0's map@1: 0.989137\tvalid_0's map@2: 0.990193\tvalid_0's map@3: 0.9914\tvalid_0's map@4: 0.991626\tvalid_0's map@5: 0.992049\n",
      "[500]\tvalid_0's map@1: 0.989439\tvalid_0's map@2: 0.990344\tvalid_0's map@3: 0.991551\tvalid_0's map@4: 0.991777\tvalid_0's map@5: 0.9922\n",
      "[550]\tvalid_0's map@1: 0.98974\tvalid_0's map@2: 0.990646\tvalid_0's map@3: 0.991752\tvalid_0's map@4: 0.991978\tvalid_0's map@5: 0.992401\n",
      "[600]\tvalid_0's map@1: 0.98974\tvalid_0's map@2: 0.990797\tvalid_0's map@3: 0.991903\tvalid_0's map@4: 0.992129\tvalid_0's map@5: 0.992431\n",
      "[650]\tvalid_0's map@1: 0.98974\tvalid_0's map@2: 0.990797\tvalid_0's map@3: 0.991802\tvalid_0's map@4: 0.992104\tvalid_0's map@5: 0.992406\n",
      "[700]\tvalid_0's map@1: 0.989439\tvalid_0's map@2: 0.990495\tvalid_0's map@3: 0.991501\tvalid_0's map@4: 0.991802\tvalid_0's map@5: 0.992104\n",
      "[750]\tvalid_0's map@1: 0.989439\tvalid_0's map@2: 0.990495\tvalid_0's map@3: 0.991501\tvalid_0's map@4: 0.991802\tvalid_0's map@5: 0.992104\n",
      "[800]\tvalid_0's map@1: 0.989439\tvalid_0's map@2: 0.990495\tvalid_0's map@3: 0.991501\tvalid_0's map@4: 0.991802\tvalid_0's map@5: 0.992165\n",
      "Early stopping, best iteration is:\n",
      "[305]\tvalid_0's map@1: 0.98974\tvalid_0's map@2: 0.990646\tvalid_0's map@3: 0.991652\tvalid_0's map@4: 0.992029\tvalid_0's map@5: 0.992391\n",
      "------------- eval -------------\n",
      "------------- eval result -------------\n",
      "hitrate_50_full :  0.23150427779946176 ndcg_50_full :  480.85766734550367 \n",
      "\n",
      "hitrate_50_half :  0.06513227731730507 ndcg_50_half :  136.01559978036897 \n",
      "\n",
      "------------- eval result -------------\n",
      "------------- predict -------------\n",
      "------------- assert -------------\n",
      "LGBM的特征重要性...\n"
     ]
    },
    {
     "data": {
      "image/png": "[encoded data removed]",
      "text/plain": [
       "<Figure size 936x1440 with 1 Axes>"
      ]
     },
     "metadata": {},
     "output_type": "display_data"
    },
    {
     "name": "stdout",
     "output_type": "stream",
     "text": [
      "--------------------------- 保存预测文件 ---------------------\n"
     ]
    }
   ],
   "source": [
    "    # 用户画像特征缺失预测\n",
    "    user_feat = user_feat_data(dict_embedding_user_only, user_cluster, time_feat)\n",
    "    for i, col in enumerate(['age', 'sex', 'city']):\n",
    "        X_, y_, X_test, data_ = age_sex_city_data(user_feat, col=col)\n",
    "        tmp = null_xgb_predict(X_, y_, X_test, data_, col=col)\n",
    "        if i==0:\n",
    "            user_profile_feat = tmp\n",
    "        else:\n",
    "            user_profile_feat = user_profile_feat.merge(tmp, on=['user_id'], how='left')    \n",
    "\n",
    "    # 增加用户画像特征、时间统计特征、用户聚类统计特征、项目聚类统计特征 \n",
    "    feature_all = add_user_profile_info(feature_all, user_profile_feat)\n",
    "    feature_all = add_time_statistics(feature_all, time_feat)\n",
    "    feature_all = add_user_statistics(feature_all, user_cluster_feat_)\n",
    "    feature_all = add_item_statistics(feature_all, item_cluster_feat_)\n",
    "    print('feature_all的列: ', feature_all.columns)\n",
    "    \n",
    "    \n",
    "    # 数据量太大了，保存占用空间\n",
    "    # print('特征数据保存')\n",
    "    # feature_all.to_pickle(\"../data/process/feature_all_phase{phase}_0002.pkl\".format(phase=phase))\n",
    "    \n",
    "    ############################## 整体数据特征 ############################## \n",
    "    print('--------------------------- 特征数据 ---------------------')\n",
    "    len_f = len(feature_all)\n",
    "    len_train = len(feature_all[feature_all['train_flag']=='train'])\n",
    "    len_test = len(feature_all[feature_all['train_flag']=='test'])\n",
    "    len_train_1 = len(feature_all[(feature_all['train_flag']=='train') & (feature_all['label']== 1)]) \n",
    "    print('所有数据条数', len_f)\n",
    "    print('训练数据 : ', len_train)\n",
    "    print('训练数据 label 1 : ', len_train_1)\n",
    "    print('训练数据 1 / 0 rate : ', len_train_1 * 1.0 / len_f)\n",
    "    print('测试数据 : ' , len_test)\n",
    "    print('flag : ', set(feature_all['train_flag']))\n",
    "\n",
    "    \n",
    "    ############################## 训练模型 ############################## \n",
    "    print('--------------------------- 训练模型 ---------------------')\n",
    "    submit = train_model_lgb(feature_all, recall_rate=hit_rate, hot_list=item_hot_list, valid=0.2, topk=50, \n",
    "                             num_boost_round=1500, early_stopping_rounds=500)\n",
    "\n",
    "    \n",
    "    # submit = train_model_rf(feature_all, recall_rate=hit_rate, hot_list=item_hot_list, valid=0.2, topk=50)\n",
    "    \n",
    "\n",
    "    print('--------------------------- 保存预测文件 ---------------------')\n",
    "    phase_submit_save(submit, phase, 50)"
   ]
  },
  {
   "cell_type": "code",
   "execution_count": null,
   "metadata": {},
   "outputs": [],
   "source": []
  },
  {
   "cell_type": "code",
   "execution_count": null,
   "metadata": {},
   "outputs": [],
   "source": []
  },
  {
   "cell_type": "code",
   "execution_count": null,
   "metadata": {},
   "outputs": [],
   "source": []
  },
  {
   "cell_type": "code",
   "execution_count": null,
   "metadata": {},
   "outputs": [],
   "source": [
    "# res7 = pd.read_csv(\"../result/submit-wanping7-7-2020-06-07 19:12:01.csv\", header=None)\n",
    "# res8 = pd.read_csv(\"../result/submit-wanping7-8-2020-06-07 17:07:39.csv\", header=None)\n",
    "# res9 = pd.read_csv(\"../result/submit-wanping7-9-2020-06-07 18:13:02.csv\", header=None)\n",
    "# res = pd.concat([res7, res8, res9], axis=0)\n",
    "# res.to_csv(\"../result/submit_traceb_v1.csv\", c, index=False)\n",
    "\n",
    "# res.shape\n",
    "# # (5367, 51)"
   ]
  }
 ],
 "metadata": {
  "kernelspec": {
   "display_name": "Python 3",
   "language": "python",
   "name": "python3"
  },
  "language_info": {
   "codemirror_mode": {
    "name": "ipython",
    "version": 3
   },
   "file_extension": ".py",
   "mimetype": "text/x-python",
   "name": "python",
   "nbconvert_exporter": "python",
   "pygments_lexer": "ipython3",
   "version": "3.7.6"
  }
 },
 "nbformat": 4,
 "nbformat_minor": 2
}
