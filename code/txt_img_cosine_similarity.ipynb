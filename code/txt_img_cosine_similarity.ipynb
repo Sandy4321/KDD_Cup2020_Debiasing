{
 "cells": [
  {
   "cell_type": "code",
   "execution_count": 1,
   "metadata": {},
   "outputs": [
    {
     "name": "stdout",
     "output_type": "stream",
     "text": [
      "have not glove\n"
     ]
    }
   ],
   "source": [
    "# data process\n",
    "import numpy as np\n",
    "import pandas as pd\n",
    "import os\n",
    "import time\n",
    "import os\n",
    "import json\n",
    "from tqdm import tqdm\n",
    "from multiprocessing import Pool\n",
    "\n",
    "from process import reduce_memory"
   ]
  },
  {
   "cell_type": "markdown",
   "metadata": {},
   "source": [
    "# 读取数据并规范化"
   ]
  },
  {
   "cell_type": "code",
   "execution_count": 2,
   "metadata": {},
   "outputs": [
    {
     "name": "stdout",
     "output_type": "stream",
     "text": [
      "缺失情况： 0\n"
     ]
    },
    {
     "data": {
      "text/html": [
       "<div>\n",
       "<style scoped>\n",
       "    .dataframe tbody tr th:only-of-type {\n",
       "        vertical-align: middle;\n",
       "    }\n",
       "\n",
       "    .dataframe tbody tr th {\n",
       "        vertical-align: top;\n",
       "    }\n",
       "\n",
       "    .dataframe thead th {\n",
       "        text-align: right;\n",
       "    }\n",
       "</style>\n",
       "<table border=\"1\" class=\"dataframe\">\n",
       "  <thead>\n",
       "    <tr style=\"text-align: right;\">\n",
       "      <th></th>\n",
       "      <th>item_id</th>\n",
       "      <th>vec_1</th>\n",
       "      <th>vec_2</th>\n",
       "      <th>vec_3</th>\n",
       "      <th>vec_4</th>\n",
       "      <th>vec_5</th>\n",
       "      <th>vec_6</th>\n",
       "      <th>vec_7</th>\n",
       "      <th>vec_8</th>\n",
       "      <th>vec_9</th>\n",
       "      <th>...</th>\n",
       "      <th>vec_247</th>\n",
       "      <th>vec_248</th>\n",
       "      <th>vec_249</th>\n",
       "      <th>vec_250</th>\n",
       "      <th>vec_251</th>\n",
       "      <th>vec_252</th>\n",
       "      <th>vec_253</th>\n",
       "      <th>vec_254</th>\n",
       "      <th>vec_255</th>\n",
       "      <th>vec_256</th>\n",
       "    </tr>\n",
       "  </thead>\n",
       "  <tbody>\n",
       "    <tr>\n",
       "      <th>0</th>\n",
       "      <td>42844</td>\n",
       "      <td>4.514945</td>\n",
       "      <td>-2.383720</td>\n",
       "      <td>0.500414</td>\n",
       "      <td>0.407068</td>\n",
       "      <td>-1.995229</td>\n",
       "      <td>0.109078</td>\n",
       "      <td>-0.691775</td>\n",
       "      <td>2.227460</td>\n",
       "      <td>-6.437974</td>\n",
       "      <td>...</td>\n",
       "      <td>-3.374727</td>\n",
       "      <td>-1.506969</td>\n",
       "      <td>-1.820180</td>\n",
       "      <td>-3.024644</td>\n",
       "      <td>0.445263</td>\n",
       "      <td>0.013933</td>\n",
       "      <td>-1.300239</td>\n",
       "      <td>2.759948</td>\n",
       "      <td>2.056171</td>\n",
       "      <td>0.508703</td>\n",
       "    </tr>\n",
       "    <tr>\n",
       "      <th>1</th>\n",
       "      <td>67898</td>\n",
       "      <td>-2.002905</td>\n",
       "      <td>-0.929881</td>\n",
       "      <td>0.790017</td>\n",
       "      <td>-1.380895</td>\n",
       "      <td>-0.510463</td>\n",
       "      <td>-1.810096</td>\n",
       "      <td>1.363962</td>\n",
       "      <td>0.497401</td>\n",
       "      <td>-4.038903</td>\n",
       "      <td>...</td>\n",
       "      <td>-0.538330</td>\n",
       "      <td>-2.620164</td>\n",
       "      <td>1.277195</td>\n",
       "      <td>0.601015</td>\n",
       "      <td>-0.345312</td>\n",
       "      <td>0.993457</td>\n",
       "      <td>1.351633</td>\n",
       "      <td>2.162675</td>\n",
       "      <td>2.768597</td>\n",
       "      <td>-0.937197</td>\n",
       "    </tr>\n",
       "  </tbody>\n",
       "</table>\n",
       "<p>2 rows × 257 columns</p>\n",
       "</div>"
      ],
      "text/plain": [
       "   item_id     vec_1     vec_2     vec_3     vec_4     vec_5     vec_6  \\\n",
       "0    42844  4.514945 -2.383720  0.500414  0.407068 -1.995229  0.109078   \n",
       "1    67898 -2.002905 -0.929881  0.790017 -1.380895 -0.510463 -1.810096   \n",
       "\n",
       "      vec_7     vec_8     vec_9    ...      vec_247   vec_248   vec_249  \\\n",
       "0 -0.691775  2.227460 -6.437974    ...    -3.374727 -1.506969 -1.820180   \n",
       "1  1.363962  0.497401 -4.038903    ...    -0.538330 -2.620164  1.277195   \n",
       "\n",
       "    vec_250   vec_251   vec_252   vec_253   vec_254   vec_255   vec_256  \n",
       "0 -3.024644  0.445263  0.013933 -1.300239  2.759948  2.056171  0.508703  \n",
       "1  0.601015 -0.345312  0.993457  1.351633  2.162675  2.768597 -0.937197  \n",
       "\n",
       "[2 rows x 257 columns]"
      ]
     },
     "execution_count": 2,
     "metadata": {},
     "output_type": "execute_result"
    }
   ],
   "source": [
    "item_feat = pd.read_csv(\"../data/underexpose_train/underexpose_item_feat.csv\", header=None)\n",
    "item_feat.columns = [\"item_id\"] + [\"vec_\" + str(i) for i in item_feat.columns[1:]]\n",
    "print(\"缺失情况：\", item_feat.isna().sum().sum())\n",
    "item_feat[\"vec_1\"] = item_feat[\"vec_1\"].map(lambda x:x[1:]).astype(\"float64\")\n",
    "item_feat[\"vec_129\"] = item_feat[\"vec_129\"].map(lambda x:x[1:]).astype(\"float64\")\n",
    "item_feat[\"vec_128\"] = item_feat[\"vec_128\"].map(lambda x:x[:-1]).astype(\"float64\")\n",
    "item_feat[\"vec_256\"] = item_feat[\"vec_256\"].map(lambda x:x[:-1]).astype(\"float64\")\n",
    "item_feat.head(2)"
   ]
  },
  {
   "cell_type": "markdown",
   "metadata": {},
   "source": [
    "# 减小内存占用"
   ]
  },
  {
   "cell_type": "code",
   "execution_count": 3,
   "metadata": {},
   "outputs": [
    {
     "name": "stdout",
     "output_type": "stream",
     "text": [
      "<class 'pandas.core.frame.DataFrame'>\n",
      "RangeIndex: 108916 entries, 0 to 108915\n",
      "Columns: 257 entries, item_id to vec_256\n",
      "dtypes: float32(256), int64(1)\n",
      "memory usage: 107.2 MB\n"
     ]
    }
   ],
   "source": [
    "item_feat = reduce_memory(item_feat, float_=True, int_=False)\n",
    "item_feat.info()"
   ]
  },
  {
   "cell_type": "code",
   "execution_count": 4,
   "metadata": {},
   "outputs": [
    {
     "data": {
      "text/html": [
       "<div>\n",
       "<style scoped>\n",
       "    .dataframe tbody tr th:only-of-type {\n",
       "        vertical-align: middle;\n",
       "    }\n",
       "\n",
       "    .dataframe tbody tr th {\n",
       "        vertical-align: top;\n",
       "    }\n",
       "\n",
       "    .dataframe thead th {\n",
       "        text-align: right;\n",
       "    }\n",
       "</style>\n",
       "<table border=\"1\" class=\"dataframe\">\n",
       "  <thead>\n",
       "    <tr style=\"text-align: right;\">\n",
       "      <th></th>\n",
       "      <th>item_id</th>\n",
       "      <th>vec_1</th>\n",
       "      <th>vec_2</th>\n",
       "      <th>vec_3</th>\n",
       "      <th>vec_4</th>\n",
       "      <th>vec_5</th>\n",
       "      <th>vec_6</th>\n",
       "      <th>vec_7</th>\n",
       "      <th>vec_8</th>\n",
       "      <th>vec_9</th>\n",
       "      <th>...</th>\n",
       "      <th>vec_247</th>\n",
       "      <th>vec_248</th>\n",
       "      <th>vec_249</th>\n",
       "      <th>vec_250</th>\n",
       "      <th>vec_251</th>\n",
       "      <th>vec_252</th>\n",
       "      <th>vec_253</th>\n",
       "      <th>vec_254</th>\n",
       "      <th>vec_255</th>\n",
       "      <th>vec_256</th>\n",
       "    </tr>\n",
       "  </thead>\n",
       "  <tbody>\n",
       "    <tr>\n",
       "      <th>0</th>\n",
       "      <td>42844</td>\n",
       "      <td>4.514945</td>\n",
       "      <td>-2.383720</td>\n",
       "      <td>0.500414</td>\n",
       "      <td>0.407068</td>\n",
       "      <td>-1.995229</td>\n",
       "      <td>0.109078</td>\n",
       "      <td>-0.691775</td>\n",
       "      <td>2.227460</td>\n",
       "      <td>-6.437974</td>\n",
       "      <td>...</td>\n",
       "      <td>-3.374727</td>\n",
       "      <td>-1.506969</td>\n",
       "      <td>-1.820180</td>\n",
       "      <td>-3.024644</td>\n",
       "      <td>0.445263</td>\n",
       "      <td>0.013933</td>\n",
       "      <td>-1.300239</td>\n",
       "      <td>2.759948</td>\n",
       "      <td>2.056171</td>\n",
       "      <td>0.508703</td>\n",
       "    </tr>\n",
       "    <tr>\n",
       "      <th>1</th>\n",
       "      <td>67898</td>\n",
       "      <td>-2.002905</td>\n",
       "      <td>-0.929881</td>\n",
       "      <td>0.790017</td>\n",
       "      <td>-1.380895</td>\n",
       "      <td>-0.510463</td>\n",
       "      <td>-1.810096</td>\n",
       "      <td>1.363962</td>\n",
       "      <td>0.497401</td>\n",
       "      <td>-4.038903</td>\n",
       "      <td>...</td>\n",
       "      <td>-0.538330</td>\n",
       "      <td>-2.620164</td>\n",
       "      <td>1.277195</td>\n",
       "      <td>0.601015</td>\n",
       "      <td>-0.345312</td>\n",
       "      <td>0.993457</td>\n",
       "      <td>1.351633</td>\n",
       "      <td>2.162675</td>\n",
       "      <td>2.768597</td>\n",
       "      <td>-0.937197</td>\n",
       "    </tr>\n",
       "  </tbody>\n",
       "</table>\n",
       "<p>2 rows × 257 columns</p>\n",
       "</div>"
      ],
      "text/plain": [
       "   item_id     vec_1     vec_2     vec_3     vec_4     vec_5     vec_6  \\\n",
       "0    42844  4.514945 -2.383720  0.500414  0.407068 -1.995229  0.109078   \n",
       "1    67898 -2.002905 -0.929881  0.790017 -1.380895 -0.510463 -1.810096   \n",
       "\n",
       "      vec_7     vec_8     vec_9    ...      vec_247   vec_248   vec_249  \\\n",
       "0 -0.691775  2.227460 -6.437974    ...    -3.374727 -1.506969 -1.820180   \n",
       "1  1.363962  0.497401 -4.038903    ...    -0.538330 -2.620164  1.277195   \n",
       "\n",
       "    vec_250   vec_251   vec_252   vec_253   vec_254   vec_255   vec_256  \n",
       "0 -3.024644  0.445263  0.013933 -1.300239  2.759948  2.056171  0.508703  \n",
       "1  0.601015 -0.345312  0.993457  1.351633  2.162675  2.768597 -0.937197  \n",
       "\n",
       "[2 rows x 257 columns]"
      ]
     },
     "execution_count": 4,
     "metadata": {},
     "output_type": "execute_result"
    }
   ],
   "source": [
    "item_feat.head(2)"
   ]
  },
  {
   "cell_type": "markdown",
   "metadata": {},
   "source": [
    "# 构建txt与img数据向量字典"
   ]
  },
  {
   "cell_type": "code",
   "execution_count": 5,
   "metadata": {},
   "outputs": [],
   "source": [
    "item_txt_vec_dict = dict(zip(item_feat.iloc[:, 0].values.astype(str), item_feat.iloc[:, 1:129].values))\n",
    "item_img_vec_dict = dict(zip(item_feat.iloc[:, 0].values.astype(str), item_feat.iloc[:, 129: ].values))"
   ]
  },
  {
   "cell_type": "markdown",
   "metadata": {},
   "source": [
    "# 多进程余弦相似度计算"
   ]
  },
  {
   "cell_type": "code",
   "execution_count": 6,
   "metadata": {},
   "outputs": [
    {
     "name": "stdout",
     "output_type": "stream",
     "text": [
      "Run task (6162)...\n"
     ]
    },
    {
     "name": "stderr",
     "output_type": "stream",
     "text": [
      "  0%|          | 133/108916 [00:01<20:29, 88.51it/s]"
     ]
    },
    {
     "name": "stdout",
     "output_type": "stream",
     "text": [
      "Run task (6163)...\n"
     ]
    },
    {
     "name": "stderr",
     "output_type": "stream",
     "text": [
      "100%|██████████| 108916/108916 [21:15<00:00, 85.40it/s]\n"
     ]
    },
    {
     "name": "stdout",
     "output_type": "stream",
     "text": [
      "Task 6162 runs 1275.29 seconds.\n"
     ]
    },
    {
     "name": "stderr",
     "output_type": "stream",
     "text": [
      "100%|██████████| 108916/108916 [21:26<00:00, 84.65it/s]\n"
     ]
    },
    {
     "name": "stdout",
     "output_type": "stream",
     "text": [
      "Task 6163 runs 1286.62 seconds.\n",
      "进程结束\n"
     ]
    }
   ],
   "source": [
    "def cosine_similarity(item_vec_dict):\n",
    "    pid = os.getpid()\n",
    "    print('Run task (%s)...' % (pid))\n",
    "    start = time.time()\n",
    "    \n",
    "    cosine_similarity_dict = {}\n",
    "    for item_i in tqdm(item_vec_dict):\n",
    "        for item_j in item_vec_dict:\n",
    "            if (item_i!=item_j) & (item_i not in cosine_similarity_dict) & (item_i not in cosine_similarity_dict):\n",
    "                ij_cos = np.sum(item_vec_dict[item_i] * item_vec_dict[item_j])/(np.linalg.norm(item_vec_dict[item_i], ord=2) * np.linalg.norm(item_vec_dict[item_j], ord=2))\n",
    "                ij_cos = round(ij_cos, 4)\n",
    "                cosine_similarity_dict.setdefault(item_i, {})\n",
    "                cosine_similarity_dict[item_i][item_j] = ij_cos\n",
    "                cosine_similarity_dict.setdefault(item_j, {})\n",
    "                cosine_similarity_dict[item_j][item_i] = ij_cos\n",
    "                \n",
    "    end = time.time()\n",
    "    print('Task %s runs %0.2f seconds.' % (pid, (end - start)))  \n",
    "    return cosine_similarity_dict\n",
    "\n",
    "if __name__=='__main__':\n",
    "    pool = Pool(5) # 创建一个5个进程的进程池\n",
    "    result = []\n",
    "    for i in [item_txt_vec_dict, item_img_vec_dict]:\n",
    "        result.append(pool.apply_async(func=cosine_similarity, args=(i,)))\n",
    "    pool.close()\n",
    "    pool.join()\n",
    "    \"\"\"\n",
    "    遍历result列表，取出子进程对象，访问get()方法，获取返回值。（此时所有子进程已执行完毕）\n",
    "    result[0].get()\n",
    "    \"\"\"\n",
    "    print('进程结束')"
   ]
  },
  {
   "cell_type": "code",
   "execution_count": 7,
   "metadata": {},
   "outputs": [],
   "source": [
    "np.save('../data/process/txt_cosine_similarity_dict.npy',result[0].get())\n",
    "np.save('../data/process/img_cosine_similarity_dict.npy',result[0].get())\n",
    "\n",
    "# # 读取 \n",
    "# x = np.load('../data/process/txt_cosine_similarity_dict.npy', allow_pickle=True)"
   ]
  },
  {
   "cell_type": "code",
   "execution_count": null,
   "metadata": {},
   "outputs": [],
   "source": []
  }
 ],
 "metadata": {
  "kernelspec": {
   "display_name": "Python 3",
   "language": "python",
   "name": "python3"
  },
  "language_info": {
   "codemirror_mode": {
    "name": "ipython",
    "version": 3
   },
   "file_extension": ".py",
   "mimetype": "text/x-python",
   "name": "python",
   "nbconvert_exporter": "python",
   "pygments_lexer": "ipython3",
   "version": "3.7.0"
  }
 },
 "nbformat": 4,
 "nbformat_minor": 2
}
